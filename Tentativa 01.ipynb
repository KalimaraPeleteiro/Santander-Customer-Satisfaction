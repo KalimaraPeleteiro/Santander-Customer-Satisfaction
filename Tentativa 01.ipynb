{
 "cells": [
  {
   "cell_type": "code",
   "execution_count": 1,
   "id": "51e0021e",
   "metadata": {
    "_cell_guid": "b1076dfc-b9ad-4769-8c92-a6c4dae69d19",
    "_uuid": "8f2839f25d086af736a60e9eeb907d3b93b6e0e5",
    "execution": {
     "iopub.execute_input": "2023-10-15T15:51:50.904933Z",
     "iopub.status.busy": "2023-10-15T15:51:50.904570Z",
     "iopub.status.idle": "2023-10-15T15:51:51.274492Z",
     "shell.execute_reply": "2023-10-15T15:51:51.272999Z"
    },
    "papermill": {
     "duration": 0.396319,
     "end_time": "2023-10-15T15:51:51.277041",
     "exception": false,
     "start_time": "2023-10-15T15:51:50.880722",
     "status": "completed"
    },
    "tags": []
   },
   "outputs": [
    {
     "name": "stdout",
     "output_type": "stream",
     "text": [
      "/kaggle/input/santander-customer-satisfaction/sample_submission.csv\n",
      "/kaggle/input/santander-customer-satisfaction/train.csv\n",
      "/kaggle/input/santander-customer-satisfaction/test.csv\n"
     ]
    }
   ],
   "source": [
    "# This Python 3 environment comes with many helpful analytics libraries installed\n",
    "# It is defined by the kaggle/python Docker image: https://github.com/kaggle/docker-python\n",
    "# For example, here's several helpful packages to load\n",
    "\n",
    "import numpy as np # linear algebra\n",
    "import pandas as pd # data processing, CSV file I/O (e.g. pd.read_csv)\n",
    "\n",
    "# Input data files are available in the read-only \"../input/\" directory\n",
    "# For example, running this (by clicking run or pressing Shift+Enter) will list all files under the input directory\n",
    "\n",
    "import os\n",
    "for dirname, _, filenames in os.walk('/kaggle/input'):\n",
    "    for filename in filenames:\n",
    "        print(os.path.join(dirname, filename))\n",
    "\n",
    "# You can write up to 20GB to the current directory (/kaggle/working/) that gets preserved as output when you create a version using \"Save & Run All\" \n",
    "# You can also write temporary files to /kaggle/temp/, but they won't be saved outside of the current session"
   ]
  },
  {
   "cell_type": "code",
   "execution_count": 2,
   "id": "0be2739e",
   "metadata": {
    "execution": {
     "iopub.execute_input": "2023-10-15T15:51:51.326103Z",
     "iopub.status.busy": "2023-10-15T15:51:51.325580Z",
     "iopub.status.idle": "2023-10-15T15:51:54.184217Z",
     "shell.execute_reply": "2023-10-15T15:51:54.183339Z"
    },
    "papermill": {
     "duration": 2.885051,
     "end_time": "2023-10-15T15:51:54.186762",
     "exception": false,
     "start_time": "2023-10-15T15:51:51.301711",
     "status": "completed"
    },
    "tags": []
   },
   "outputs": [],
   "source": [
    "dataset = pd.read_csv(\"/kaggle/input/santander-customer-satisfaction/train.csv\")"
   ]
  },
  {
   "cell_type": "markdown",
   "id": "c29f7194",
   "metadata": {
    "papermill": {
     "duration": 0.021742,
     "end_time": "2023-10-15T15:51:54.230580",
     "exception": false,
     "start_time": "2023-10-15T15:51:54.208838",
     "status": "completed"
    },
    "tags": []
   },
   "source": [
    "### 1. Primeiros Passos"
   ]
  },
  {
   "cell_type": "markdown",
   "id": "629e691d",
   "metadata": {
    "papermill": {
     "duration": 0.021706,
     "end_time": "2023-10-15T15:51:54.346868",
     "exception": false,
     "start_time": "2023-10-15T15:51:54.325162",
     "status": "completed"
    },
    "tags": []
   },
   "source": [
    "Um conjunto de dados com variáveis não-identificáveis, sem colunas não-numéricas. Apesar de seu tamanho, temos +360 colunas de dimensionalidade, além do ID e da Target."
   ]
  },
  {
   "cell_type": "code",
   "execution_count": 3,
   "id": "5e858b4d",
   "metadata": {
    "execution": {
     "iopub.execute_input": "2023-10-15T15:51:54.393038Z",
     "iopub.status.busy": "2023-10-15T15:51:54.392316Z",
     "iopub.status.idle": "2023-10-15T15:51:54.432789Z",
     "shell.execute_reply": "2023-10-15T15:51:54.431719Z"
    },
    "papermill": {
     "duration": 0.066364,
     "end_time": "2023-10-15T15:51:54.434984",
     "exception": false,
     "start_time": "2023-10-15T15:51:54.368620",
     "status": "completed"
    },
    "tags": []
   },
   "outputs": [
    {
     "data": {
      "text/html": [
       "<div>\n",
       "<style scoped>\n",
       "    .dataframe tbody tr th:only-of-type {\n",
       "        vertical-align: middle;\n",
       "    }\n",
       "\n",
       "    .dataframe tbody tr th {\n",
       "        vertical-align: top;\n",
       "    }\n",
       "\n",
       "    .dataframe thead th {\n",
       "        text-align: right;\n",
       "    }\n",
       "</style>\n",
       "<table border=\"1\" class=\"dataframe\">\n",
       "  <thead>\n",
       "    <tr style=\"text-align: right;\">\n",
       "      <th></th>\n",
       "      <th>ID</th>\n",
       "      <th>var3</th>\n",
       "      <th>var15</th>\n",
       "      <th>imp_ent_var16_ult1</th>\n",
       "      <th>imp_op_var39_comer_ult1</th>\n",
       "      <th>imp_op_var39_comer_ult3</th>\n",
       "      <th>imp_op_var40_comer_ult1</th>\n",
       "      <th>imp_op_var40_comer_ult3</th>\n",
       "      <th>imp_op_var40_efect_ult1</th>\n",
       "      <th>imp_op_var40_efect_ult3</th>\n",
       "      <th>...</th>\n",
       "      <th>saldo_medio_var33_hace2</th>\n",
       "      <th>saldo_medio_var33_hace3</th>\n",
       "      <th>saldo_medio_var33_ult1</th>\n",
       "      <th>saldo_medio_var33_ult3</th>\n",
       "      <th>saldo_medio_var44_hace2</th>\n",
       "      <th>saldo_medio_var44_hace3</th>\n",
       "      <th>saldo_medio_var44_ult1</th>\n",
       "      <th>saldo_medio_var44_ult3</th>\n",
       "      <th>var38</th>\n",
       "      <th>TARGET</th>\n",
       "    </tr>\n",
       "  </thead>\n",
       "  <tbody>\n",
       "    <tr>\n",
       "      <th>0</th>\n",
       "      <td>1</td>\n",
       "      <td>2</td>\n",
       "      <td>23</td>\n",
       "      <td>0.0</td>\n",
       "      <td>0.0</td>\n",
       "      <td>0.0</td>\n",
       "      <td>0.0</td>\n",
       "      <td>0.0</td>\n",
       "      <td>0.0</td>\n",
       "      <td>0.0</td>\n",
       "      <td>...</td>\n",
       "      <td>0.0</td>\n",
       "      <td>0.0</td>\n",
       "      <td>0.0</td>\n",
       "      <td>0.0</td>\n",
       "      <td>0.0</td>\n",
       "      <td>0.0</td>\n",
       "      <td>0.0</td>\n",
       "      <td>0.0</td>\n",
       "      <td>39205.170000</td>\n",
       "      <td>0</td>\n",
       "    </tr>\n",
       "    <tr>\n",
       "      <th>1</th>\n",
       "      <td>3</td>\n",
       "      <td>2</td>\n",
       "      <td>34</td>\n",
       "      <td>0.0</td>\n",
       "      <td>0.0</td>\n",
       "      <td>0.0</td>\n",
       "      <td>0.0</td>\n",
       "      <td>0.0</td>\n",
       "      <td>0.0</td>\n",
       "      <td>0.0</td>\n",
       "      <td>...</td>\n",
       "      <td>0.0</td>\n",
       "      <td>0.0</td>\n",
       "      <td>0.0</td>\n",
       "      <td>0.0</td>\n",
       "      <td>0.0</td>\n",
       "      <td>0.0</td>\n",
       "      <td>0.0</td>\n",
       "      <td>0.0</td>\n",
       "      <td>49278.030000</td>\n",
       "      <td>0</td>\n",
       "    </tr>\n",
       "    <tr>\n",
       "      <th>2</th>\n",
       "      <td>4</td>\n",
       "      <td>2</td>\n",
       "      <td>23</td>\n",
       "      <td>0.0</td>\n",
       "      <td>0.0</td>\n",
       "      <td>0.0</td>\n",
       "      <td>0.0</td>\n",
       "      <td>0.0</td>\n",
       "      <td>0.0</td>\n",
       "      <td>0.0</td>\n",
       "      <td>...</td>\n",
       "      <td>0.0</td>\n",
       "      <td>0.0</td>\n",
       "      <td>0.0</td>\n",
       "      <td>0.0</td>\n",
       "      <td>0.0</td>\n",
       "      <td>0.0</td>\n",
       "      <td>0.0</td>\n",
       "      <td>0.0</td>\n",
       "      <td>67333.770000</td>\n",
       "      <td>0</td>\n",
       "    </tr>\n",
       "    <tr>\n",
       "      <th>3</th>\n",
       "      <td>8</td>\n",
       "      <td>2</td>\n",
       "      <td>37</td>\n",
       "      <td>0.0</td>\n",
       "      <td>195.0</td>\n",
       "      <td>195.0</td>\n",
       "      <td>0.0</td>\n",
       "      <td>0.0</td>\n",
       "      <td>0.0</td>\n",
       "      <td>0.0</td>\n",
       "      <td>...</td>\n",
       "      <td>0.0</td>\n",
       "      <td>0.0</td>\n",
       "      <td>0.0</td>\n",
       "      <td>0.0</td>\n",
       "      <td>0.0</td>\n",
       "      <td>0.0</td>\n",
       "      <td>0.0</td>\n",
       "      <td>0.0</td>\n",
       "      <td>64007.970000</td>\n",
       "      <td>0</td>\n",
       "    </tr>\n",
       "    <tr>\n",
       "      <th>4</th>\n",
       "      <td>10</td>\n",
       "      <td>2</td>\n",
       "      <td>39</td>\n",
       "      <td>0.0</td>\n",
       "      <td>0.0</td>\n",
       "      <td>0.0</td>\n",
       "      <td>0.0</td>\n",
       "      <td>0.0</td>\n",
       "      <td>0.0</td>\n",
       "      <td>0.0</td>\n",
       "      <td>...</td>\n",
       "      <td>0.0</td>\n",
       "      <td>0.0</td>\n",
       "      <td>0.0</td>\n",
       "      <td>0.0</td>\n",
       "      <td>0.0</td>\n",
       "      <td>0.0</td>\n",
       "      <td>0.0</td>\n",
       "      <td>0.0</td>\n",
       "      <td>117310.979016</td>\n",
       "      <td>0</td>\n",
       "    </tr>\n",
       "  </tbody>\n",
       "</table>\n",
       "<p>5 rows × 371 columns</p>\n",
       "</div>"
      ],
      "text/plain": [
       "   ID  var3  var15  imp_ent_var16_ult1  imp_op_var39_comer_ult1  \\\n",
       "0   1     2     23                 0.0                      0.0   \n",
       "1   3     2     34                 0.0                      0.0   \n",
       "2   4     2     23                 0.0                      0.0   \n",
       "3   8     2     37                 0.0                    195.0   \n",
       "4  10     2     39                 0.0                      0.0   \n",
       "\n",
       "   imp_op_var39_comer_ult3  imp_op_var40_comer_ult1  imp_op_var40_comer_ult3  \\\n",
       "0                      0.0                      0.0                      0.0   \n",
       "1                      0.0                      0.0                      0.0   \n",
       "2                      0.0                      0.0                      0.0   \n",
       "3                    195.0                      0.0                      0.0   \n",
       "4                      0.0                      0.0                      0.0   \n",
       "\n",
       "   imp_op_var40_efect_ult1  imp_op_var40_efect_ult3  ...  \\\n",
       "0                      0.0                      0.0  ...   \n",
       "1                      0.0                      0.0  ...   \n",
       "2                      0.0                      0.0  ...   \n",
       "3                      0.0                      0.0  ...   \n",
       "4                      0.0                      0.0  ...   \n",
       "\n",
       "   saldo_medio_var33_hace2  saldo_medio_var33_hace3  saldo_medio_var33_ult1  \\\n",
       "0                      0.0                      0.0                     0.0   \n",
       "1                      0.0                      0.0                     0.0   \n",
       "2                      0.0                      0.0                     0.0   \n",
       "3                      0.0                      0.0                     0.0   \n",
       "4                      0.0                      0.0                     0.0   \n",
       "\n",
       "   saldo_medio_var33_ult3  saldo_medio_var44_hace2  saldo_medio_var44_hace3  \\\n",
       "0                     0.0                      0.0                      0.0   \n",
       "1                     0.0                      0.0                      0.0   \n",
       "2                     0.0                      0.0                      0.0   \n",
       "3                     0.0                      0.0                      0.0   \n",
       "4                     0.0                      0.0                      0.0   \n",
       "\n",
       "   saldo_medio_var44_ult1  saldo_medio_var44_ult3          var38  TARGET  \n",
       "0                     0.0                     0.0   39205.170000       0  \n",
       "1                     0.0                     0.0   49278.030000       0  \n",
       "2                     0.0                     0.0   67333.770000       0  \n",
       "3                     0.0                     0.0   64007.970000       0  \n",
       "4                     0.0                     0.0  117310.979016       0  \n",
       "\n",
       "[5 rows x 371 columns]"
      ]
     },
     "execution_count": 3,
     "metadata": {},
     "output_type": "execute_result"
    }
   ],
   "source": [
    "dataset.head()"
   ]
  },
  {
   "cell_type": "code",
   "execution_count": 4,
   "id": "cde97168",
   "metadata": {
    "execution": {
     "iopub.execute_input": "2023-10-15T15:51:54.484065Z",
     "iopub.status.busy": "2023-10-15T15:51:54.483318Z",
     "iopub.status.idle": "2023-10-15T15:51:54.516807Z",
     "shell.execute_reply": "2023-10-15T15:51:54.515768Z"
    },
    "papermill": {
     "duration": 0.061065,
     "end_time": "2023-10-15T15:51:54.519159",
     "exception": false,
     "start_time": "2023-10-15T15:51:54.458094",
     "status": "completed"
    },
    "tags": []
   },
   "outputs": [
    {
     "name": "stdout",
     "output_type": "stream",
     "text": [
      "<class 'pandas.core.frame.DataFrame'>\n",
      "RangeIndex: 76020 entries, 0 to 76019\n",
      "Columns: 371 entries, ID to TARGET\n",
      "dtypes: float64(111), int64(260)\n",
      "memory usage: 215.2 MB\n"
     ]
    }
   ],
   "source": [
    "dataset.info()"
   ]
  },
  {
   "cell_type": "code",
   "execution_count": 5,
   "id": "c29cb06c",
   "metadata": {
    "execution": {
     "iopub.execute_input": "2023-10-15T15:51:54.566204Z",
     "iopub.status.busy": "2023-10-15T15:51:54.565794Z",
     "iopub.status.idle": "2023-10-15T15:51:54.571966Z",
     "shell.execute_reply": "2023-10-15T15:51:54.570758Z"
    },
    "papermill": {
     "duration": 0.032454,
     "end_time": "2023-10-15T15:51:54.574151",
     "exception": false,
     "start_time": "2023-10-15T15:51:54.541697",
     "status": "completed"
    },
    "tags": []
   },
   "outputs": [
    {
     "data": {
      "text/plain": [
       "(76020, 371)"
      ]
     },
     "execution_count": 5,
     "metadata": {},
     "output_type": "execute_result"
    }
   ],
   "source": [
    "dataset.shape"
   ]
  },
  {
   "cell_type": "markdown",
   "id": "2378c306",
   "metadata": {
    "papermill": {
     "duration": 0.024788,
     "end_time": "2023-10-15T15:51:54.621907",
     "exception": false,
     "start_time": "2023-10-15T15:51:54.597119",
     "status": "completed"
    },
    "tags": []
   },
   "source": [
    "A variável-alvo está severamente desbalanceada. Alguma técnica de oversampling será necessária."
   ]
  },
  {
   "cell_type": "code",
   "execution_count": 6,
   "id": "e29c6472",
   "metadata": {
    "execution": {
     "iopub.execute_input": "2023-10-15T15:51:54.668891Z",
     "iopub.status.busy": "2023-10-15T15:51:54.668476Z",
     "iopub.status.idle": "2023-10-15T15:51:54.677484Z",
     "shell.execute_reply": "2023-10-15T15:51:54.676523Z"
    },
    "papermill": {
     "duration": 0.035061,
     "end_time": "2023-10-15T15:51:54.679584",
     "exception": false,
     "start_time": "2023-10-15T15:51:54.644523",
     "status": "completed"
    },
    "tags": []
   },
   "outputs": [
    {
     "data": {
      "text/plain": [
       "TARGET\n",
       "0    73012\n",
       "1     3008\n",
       "Name: count, dtype: int64"
      ]
     },
     "execution_count": 6,
     "metadata": {},
     "output_type": "execute_result"
    }
   ],
   "source": [
    "dataset.TARGET.value_counts()"
   ]
  },
  {
   "cell_type": "markdown",
   "id": "536a65d0",
   "metadata": {
    "papermill": {
     "duration": 0.022379,
     "end_time": "2023-10-15T15:51:54.724946",
     "exception": false,
     "start_time": "2023-10-15T15:51:54.702567",
     "status": "completed"
    },
    "tags": []
   },
   "source": [
    "Nenhum valor nulo."
   ]
  },
  {
   "cell_type": "code",
   "execution_count": 7,
   "id": "df8acc8e",
   "metadata": {
    "execution": {
     "iopub.execute_input": "2023-10-15T15:51:54.772962Z",
     "iopub.status.busy": "2023-10-15T15:51:54.772569Z",
     "iopub.status.idle": "2023-10-15T15:51:54.849527Z",
     "shell.execute_reply": "2023-10-15T15:51:54.848350Z"
    },
    "papermill": {
     "duration": 0.103668,
     "end_time": "2023-10-15T15:51:54.852135",
     "exception": false,
     "start_time": "2023-10-15T15:51:54.748467",
     "status": "completed"
    },
    "tags": []
   },
   "outputs": [],
   "source": [
    "for coluna in dataset.columns:\n",
    "    numero_faltantes = dataset[coluna].isna().sum()\n",
    "    if numero_faltantes != 0:\n",
    "        print(f\"A coluna '{coluna}' possui {numero_faltantes} valores nulos.\")"
   ]
  },
  {
   "cell_type": "markdown",
   "id": "a4f50dbd",
   "metadata": {
    "papermill": {
     "duration": 0.022304,
     "end_time": "2023-10-15T15:51:54.897372",
     "exception": false,
     "start_time": "2023-10-15T15:51:54.875068",
     "status": "completed"
    },
    "tags": []
   },
   "source": [
    "#### 1.1 Correlação\n",
    "Já que todos os valores são numéricos e não existem casos nulos, é possível fazer uma análise de correlação com a variável-alvo."
   ]
  },
  {
   "cell_type": "code",
   "execution_count": 8,
   "id": "545a849c",
   "metadata": {
    "execution": {
     "iopub.execute_input": "2023-10-15T15:51:54.944872Z",
     "iopub.status.busy": "2023-10-15T15:51:54.944460Z",
     "iopub.status.idle": "2023-10-15T15:52:23.053218Z",
     "shell.execute_reply": "2023-10-15T15:52:23.052072Z"
    },
    "papermill": {
     "duration": 28.135237,
     "end_time": "2023-10-15T15:52:23.055586",
     "exception": false,
     "start_time": "2023-10-15T15:51:54.920349",
     "status": "completed"
    },
    "tags": []
   },
   "outputs": [
    {
     "data": {
      "text/plain": [
       "TARGET                           1.000000\n",
       "ind_var30                       -0.149811\n",
       "num_meses_var5_ult3             -0.148253\n",
       "num_var30                       -0.138289\n",
       "num_var42                       -0.135693\n",
       "                                   ...   \n",
       "num_reemb_var33_hace3                 NaN\n",
       "num_trasp_var17_out_hace3             NaN\n",
       "num_trasp_var33_out_hace3             NaN\n",
       "saldo_var2_ult1                       NaN\n",
       "saldo_medio_var13_medio_hace3         NaN\n",
       "Name: TARGET, Length: 371, dtype: float64"
      ]
     },
     "execution_count": 8,
     "metadata": {},
     "output_type": "execute_result"
    }
   ],
   "source": [
    "correlation = dataset.corr()\n",
    "correlation[\"TARGET\"].sort_values(ascending = False, key = abs)"
   ]
  },
  {
   "cell_type": "markdown",
   "id": "0ec95e70",
   "metadata": {
    "papermill": {
     "duration": 0.022541,
     "end_time": "2023-10-15T15:52:23.101474",
     "exception": false,
     "start_time": "2023-10-15T15:52:23.078933",
     "status": "completed"
    },
    "tags": []
   },
   "source": [
    "Mesmo com 371 colunas, os melhores resultados de correlação não passam dos 15%."
   ]
  },
  {
   "cell_type": "markdown",
   "id": "891aee69",
   "metadata": {
    "papermill": {
     "duration": 0.022963,
     "end_time": "2023-10-15T15:52:23.147117",
     "exception": false,
     "start_time": "2023-10-15T15:52:23.124154",
     "status": "completed"
    },
    "tags": []
   },
   "source": [
    "#### 1.2 Busca por Colunas Constantes\n",
    "Colunas com correlação NaN não variam seus valores. Vamos identificá-las e eliminá-las."
   ]
  },
  {
   "cell_type": "code",
   "execution_count": 9,
   "id": "ae840e76",
   "metadata": {
    "execution": {
     "iopub.execute_input": "2023-10-15T15:52:23.195340Z",
     "iopub.status.busy": "2023-10-15T15:52:23.194042Z",
     "iopub.status.idle": "2023-10-15T15:52:23.392661Z",
     "shell.execute_reply": "2023-10-15T15:52:23.390942Z"
    },
    "papermill": {
     "duration": 0.225043,
     "end_time": "2023-10-15T15:52:23.395000",
     "exception": false,
     "start_time": "2023-10-15T15:52:23.169957",
     "status": "completed"
    },
    "tags": []
   },
   "outputs": [
    {
     "name": "stdout",
     "output_type": "stream",
     "text": [
      "['ind_var2_0', 'ind_var2', 'ind_var27_0', 'ind_var28_0', 'ind_var28', 'ind_var27', 'ind_var41', 'ind_var46_0', 'ind_var46', 'num_var27_0', 'num_var28_0', 'num_var28', 'num_var27', 'num_var41', 'num_var46_0', 'num_var46', 'saldo_var28', 'saldo_var27', 'saldo_var41', 'saldo_var46', 'imp_amort_var18_hace3', 'imp_amort_var34_hace3', 'imp_reemb_var13_hace3', 'imp_reemb_var33_hace3', 'imp_trasp_var17_out_hace3', 'imp_trasp_var33_out_hace3', 'num_var2_0_ult1', 'num_var2_ult1', 'num_reemb_var13_hace3', 'num_reemb_var33_hace3', 'num_trasp_var17_out_hace3', 'num_trasp_var33_out_hace3', 'saldo_var2_ult1', 'saldo_medio_var13_medio_hace3']\n",
      "34\n"
     ]
    }
   ],
   "source": [
    "colunas_constantes = [coluna for coluna in dataset.columns if dataset[coluna].nunique() == 1]\n",
    "print(colunas_constantes)\n",
    "print(len(colunas_constantes))"
   ]
  },
  {
   "cell_type": "code",
   "execution_count": 10,
   "id": "da351f9a",
   "metadata": {
    "execution": {
     "iopub.execute_input": "2023-10-15T15:52:23.445375Z",
     "iopub.status.busy": "2023-10-15T15:52:23.444969Z",
     "iopub.status.idle": "2023-10-15T15:52:23.516039Z",
     "shell.execute_reply": "2023-10-15T15:52:23.514763Z"
    },
    "papermill": {
     "duration": 0.098933,
     "end_time": "2023-10-15T15:52:23.518225",
     "exception": false,
     "start_time": "2023-10-15T15:52:23.419292",
     "status": "completed"
    },
    "tags": []
   },
   "outputs": [],
   "source": [
    "dataset = dataset.drop(columns = colunas_constantes)"
   ]
  },
  {
   "cell_type": "code",
   "execution_count": 11,
   "id": "459be244",
   "metadata": {
    "execution": {
     "iopub.execute_input": "2023-10-15T15:52:23.566491Z",
     "iopub.status.busy": "2023-10-15T15:52:23.566051Z",
     "iopub.status.idle": "2023-10-15T15:52:23.572515Z",
     "shell.execute_reply": "2023-10-15T15:52:23.571708Z"
    },
    "papermill": {
     "duration": 0.032944,
     "end_time": "2023-10-15T15:52:23.574473",
     "exception": false,
     "start_time": "2023-10-15T15:52:23.541529",
     "status": "completed"
    },
    "tags": []
   },
   "outputs": [
    {
     "data": {
      "text/plain": [
       "(76020, 337)"
      ]
     },
     "execution_count": 11,
     "metadata": {},
     "output_type": "execute_result"
    }
   ],
   "source": [
    "dataset.shape"
   ]
  },
  {
   "cell_type": "code",
   "execution_count": 12,
   "id": "7bd5919a",
   "metadata": {
    "execution": {
     "iopub.execute_input": "2023-10-15T15:52:23.623376Z",
     "iopub.status.busy": "2023-10-15T15:52:23.622955Z",
     "iopub.status.idle": "2023-10-15T15:52:46.825718Z",
     "shell.execute_reply": "2023-10-15T15:52:46.824551Z"
    },
    "papermill": {
     "duration": 23.230221,
     "end_time": "2023-10-15T15:52:46.827963",
     "exception": false,
     "start_time": "2023-10-15T15:52:23.597742",
     "status": "completed"
    },
    "tags": []
   },
   "outputs": [
    {
     "data": {
      "text/plain": [
       "TARGET                    1.000000\n",
       "ind_var30                -0.149811\n",
       "num_meses_var5_ult3      -0.148253\n",
       "num_var30                -0.138289\n",
       "num_var42                -0.135693\n",
       "                            ...   \n",
       "saldo_medio_var17_ult3   -0.000328\n",
       "num_var7_recib_ult1      -0.000290\n",
       "num_op_var40_ult3        -0.000119\n",
       "num_var37_med_ult2       -0.000029\n",
       "imp_ent_var16_ult1       -0.000017\n",
       "Name: TARGET, Length: 337, dtype: float64"
      ]
     },
     "execution_count": 12,
     "metadata": {},
     "output_type": "execute_result"
    }
   ],
   "source": [
    "correlation = dataset.corr()\n",
    "correlation[\"TARGET\"].sort_values(ascending = False, key = abs)"
   ]
  },
  {
   "cell_type": "code",
   "execution_count": 13,
   "id": "be183579",
   "metadata": {
    "execution": {
     "iopub.execute_input": "2023-10-15T15:52:46.876519Z",
     "iopub.status.busy": "2023-10-15T15:52:46.876122Z",
     "iopub.status.idle": "2023-10-15T15:52:46.884951Z",
     "shell.execute_reply": "2023-10-15T15:52:46.884098Z"
    },
    "papermill": {
     "duration": 0.034972,
     "end_time": "2023-10-15T15:52:46.886813",
     "exception": false,
     "start_time": "2023-10-15T15:52:46.851841",
     "status": "completed"
    },
    "tags": []
   },
   "outputs": [
    {
     "data": {
      "text/plain": [
       "TARGET                 1.000000\n",
       "ind_var30             -0.149811\n",
       "num_meses_var5_ult3   -0.148253\n",
       "num_var30             -0.138289\n",
       "num_var42             -0.135693\n",
       "ind_var5              -0.135349\n",
       "num_var5              -0.134095\n",
       "var36                  0.102919\n",
       "var15                  0.101322\n",
       "num_var4              -0.080194\n",
       "num_var35             -0.076872\n",
       "ind_var8_0             0.046665\n",
       "num_var8_0             0.046622\n",
       "ind_var13             -0.039612\n",
       "ind_var13_0           -0.039471\n",
       "num_var13             -0.038400\n",
       "ind_var12_0           -0.038215\n",
       "num_var13_0           -0.038045\n",
       "saldo_var30           -0.037092\n",
       "ind_var39_0           -0.035045\n",
       "ind_var13_corto       -0.034438\n",
       "Name: TARGET, dtype: float64"
      ]
     },
     "execution_count": 13,
     "metadata": {},
     "output_type": "execute_result"
    }
   ],
   "source": [
    "resultado = correlation[\"TARGET\"].sort_values(ascending = False, key = abs)\n",
    "resultado.head(21)"
   ]
  },
  {
   "cell_type": "markdown",
   "id": "de2d65d5",
   "metadata": {
    "papermill": {
     "duration": 0.022877,
     "end_time": "2023-10-15T15:52:46.933335",
     "exception": false,
     "start_time": "2023-10-15T15:52:46.910458",
     "status": "completed"
    },
    "tags": []
   },
   "source": [
    "Em uma busca por correlação, essas são as 20 colunas mais relevantes para o conjunto de dados."
   ]
  },
  {
   "cell_type": "code",
   "execution_count": 14,
   "id": "c4b4be4a",
   "metadata": {
    "execution": {
     "iopub.execute_input": "2023-10-15T15:52:46.981731Z",
     "iopub.status.busy": "2023-10-15T15:52:46.980802Z",
     "iopub.status.idle": "2023-10-15T15:52:46.986103Z",
     "shell.execute_reply": "2023-10-15T15:52:46.985444Z"
    },
    "papermill": {
     "duration": 0.031565,
     "end_time": "2023-10-15T15:52:46.987961",
     "exception": false,
     "start_time": "2023-10-15T15:52:46.956396",
     "status": "completed"
    },
    "tags": []
   },
   "outputs": [],
   "source": [
    "COLUNAS_CORRELACAO = set(resultado.head(21).index)"
   ]
  },
  {
   "cell_type": "code",
   "execution_count": 15,
   "id": "8670d2c2",
   "metadata": {
    "execution": {
     "iopub.execute_input": "2023-10-15T15:52:47.036473Z",
     "iopub.status.busy": "2023-10-15T15:52:47.035580Z",
     "iopub.status.idle": "2023-10-15T15:52:47.042168Z",
     "shell.execute_reply": "2023-10-15T15:52:47.041322Z"
    },
    "papermill": {
     "duration": 0.032797,
     "end_time": "2023-10-15T15:52:47.043967",
     "exception": false,
     "start_time": "2023-10-15T15:52:47.011170",
     "status": "completed"
    },
    "tags": []
   },
   "outputs": [
    {
     "data": {
      "text/plain": [
       "{'TARGET',\n",
       " 'ind_var12_0',\n",
       " 'ind_var13',\n",
       " 'ind_var13_0',\n",
       " 'ind_var13_corto',\n",
       " 'ind_var30',\n",
       " 'ind_var39_0',\n",
       " 'ind_var5',\n",
       " 'ind_var8_0',\n",
       " 'num_meses_var5_ult3',\n",
       " 'num_var13',\n",
       " 'num_var13_0',\n",
       " 'num_var30',\n",
       " 'num_var35',\n",
       " 'num_var4',\n",
       " 'num_var42',\n",
       " 'num_var5',\n",
       " 'num_var8_0',\n",
       " 'saldo_var30',\n",
       " 'var15',\n",
       " 'var36'}"
      ]
     },
     "execution_count": 15,
     "metadata": {},
     "output_type": "execute_result"
    }
   ],
   "source": [
    "COLUNAS_CORRELACAO"
   ]
  },
  {
   "cell_type": "markdown",
   "id": "09bd9cf0",
   "metadata": {
    "papermill": {
     "duration": 0.023093,
     "end_time": "2023-10-15T15:52:47.090774",
     "exception": false,
     "start_time": "2023-10-15T15:52:47.067681",
     "status": "completed"
    },
    "tags": []
   },
   "source": [
    "### 1.3 Impacto do SMOTE em correlação\n",
    "A Target está desbalanceada. O SMOTE impacta os valores de correlação?"
   ]
  },
  {
   "cell_type": "code",
   "execution_count": 16,
   "id": "9f5e32f2",
   "metadata": {
    "execution": {
     "iopub.execute_input": "2023-10-15T15:52:47.139715Z",
     "iopub.status.busy": "2023-10-15T15:52:47.138561Z",
     "iopub.status.idle": "2023-10-15T15:52:50.692453Z",
     "shell.execute_reply": "2023-10-15T15:52:50.691487Z"
    },
    "papermill": {
     "duration": 3.580806,
     "end_time": "2023-10-15T15:52:50.695018",
     "exception": false,
     "start_time": "2023-10-15T15:52:47.114212",
     "status": "completed"
    },
    "tags": []
   },
   "outputs": [],
   "source": [
    "from imblearn.over_sampling import SMOTE\n",
    "\n",
    "x = dataset.drop('TARGET', axis=1)\n",
    "y = dataset[\"TARGET\"]\n",
    "\n",
    "SEED = 4923\n",
    "\n",
    "smote = SMOTE(random_state = SEED)\n",
    "x_smote, y_smote = smote.fit_resample(x, y)"
   ]
  },
  {
   "cell_type": "code",
   "execution_count": 17,
   "id": "a7dce5d1",
   "metadata": {
    "execution": {
     "iopub.execute_input": "2023-10-15T15:52:50.744016Z",
     "iopub.status.busy": "2023-10-15T15:52:50.743517Z",
     "iopub.status.idle": "2023-10-15T15:52:51.109198Z",
     "shell.execute_reply": "2023-10-15T15:52:51.108224Z"
    },
    "papermill": {
     "duration": 0.39313,
     "end_time": "2023-10-15T15:52:51.111705",
     "exception": false,
     "start_time": "2023-10-15T15:52:50.718575",
     "status": "completed"
    },
    "tags": []
   },
   "outputs": [],
   "source": [
    "dataset_smote = pd.concat([x_smote, y_smote], axis = 1)"
   ]
  },
  {
   "cell_type": "code",
   "execution_count": 18,
   "id": "fc297641",
   "metadata": {
    "execution": {
     "iopub.execute_input": "2023-10-15T15:52:51.160062Z",
     "iopub.status.busy": "2023-10-15T15:52:51.159713Z",
     "iopub.status.idle": "2023-10-15T15:52:51.168905Z",
     "shell.execute_reply": "2023-10-15T15:52:51.167790Z"
    },
    "papermill": {
     "duration": 0.035554,
     "end_time": "2023-10-15T15:52:51.170865",
     "exception": false,
     "start_time": "2023-10-15T15:52:51.135311",
     "status": "completed"
    },
    "tags": []
   },
   "outputs": [
    {
     "data": {
      "text/plain": [
       "TARGET\n",
       "0    73012\n",
       "1    73012\n",
       "Name: count, dtype: int64"
      ]
     },
     "execution_count": 18,
     "metadata": {},
     "output_type": "execute_result"
    }
   ],
   "source": [
    "dataset_smote.TARGET.value_counts()"
   ]
  },
  {
   "cell_type": "code",
   "execution_count": 19,
   "id": "efd4a81e",
   "metadata": {
    "execution": {
     "iopub.execute_input": "2023-10-15T15:52:51.219490Z",
     "iopub.status.busy": "2023-10-15T15:52:51.219083Z",
     "iopub.status.idle": "2023-10-15T15:53:35.732210Z",
     "shell.execute_reply": "2023-10-15T15:53:35.730990Z"
    },
    "papermill": {
     "duration": 44.564539,
     "end_time": "2023-10-15T15:53:35.758803",
     "exception": false,
     "start_time": "2023-10-15T15:52:51.194264",
     "status": "completed"
    },
    "tags": []
   },
   "outputs": [
    {
     "data": {
      "text/plain": [
       "TARGET                      1.000000\n",
       "ind_var30                  -0.575943\n",
       "ind_var5                   -0.555642\n",
       "num_meses_var5_ult3        -0.487445\n",
       "num_var30                  -0.449227\n",
       "num_var42                  -0.441806\n",
       "num_var5                   -0.432098\n",
       "num_var4                   -0.407146\n",
       "var36                       0.304219\n",
       "num_var35                  -0.300572\n",
       "var15                       0.256551\n",
       "ind_var39_0                -0.256537\n",
       "ind_var41_0                -0.254939\n",
       "ind_var43_recib_ult1       -0.214124\n",
       "ind_var12_0                -0.167349\n",
       "num_meses_var39_vig_ult3   -0.167091\n",
       "ind_var9_cte_ult1          -0.166339\n",
       "num_var39_0                -0.161621\n",
       "ind_var10cte_ult1          -0.161014\n",
       "num_var41_0                -0.159071\n",
       "ind_var9_ult1              -0.158546\n",
       "Name: TARGET, dtype: float64"
      ]
     },
     "execution_count": 19,
     "metadata": {},
     "output_type": "execute_result"
    }
   ],
   "source": [
    "correlation = dataset_smote.corr()\n",
    "resultado = correlation[\"TARGET\"].sort_values(ascending = False, key = abs)\n",
    "resultado.head(21)"
   ]
  },
  {
   "cell_type": "markdown",
   "id": "74d46ac8",
   "metadata": {
    "papermill": {
     "duration": 0.024072,
     "end_time": "2023-10-15T15:53:35.806995",
     "exception": false,
     "start_time": "2023-10-15T15:53:35.782923",
     "status": "completed"
    },
    "tags": []
   },
   "source": [
    "O uso de SMOTE para balanceamento traz uma perspectiva nova a correlação, com fatores antes irrelevantes agora significativos."
   ]
  },
  {
   "cell_type": "code",
   "execution_count": 20,
   "id": "9e63d59c",
   "metadata": {
    "execution": {
     "iopub.execute_input": "2023-10-15T15:53:35.857393Z",
     "iopub.status.busy": "2023-10-15T15:53:35.856296Z",
     "iopub.status.idle": "2023-10-15T15:53:35.862066Z",
     "shell.execute_reply": "2023-10-15T15:53:35.861252Z"
    },
    "papermill": {
     "duration": 0.033146,
     "end_time": "2023-10-15T15:53:35.864046",
     "exception": false,
     "start_time": "2023-10-15T15:53:35.830900",
     "status": "completed"
    },
    "tags": []
   },
   "outputs": [],
   "source": [
    "CORRELACAO_COLUNAS_SMOTE_10 = set(resultado.head(11).index)\n",
    "CORRELACAO_COLUNAS_SMOTE_20 = set(resultado.head(21).index)\n",
    "CORRELACAO_COLUNAS_SMOTE_30 = set(resultado.head(31).index)\n",
    "CORRELACAO_COLUNAS_SMOTE_40 = set(resultado.head(41).index)\n",
    "CORRELACAO_COLUNAS_SMOTE_50 = set(resultado.head(51).index)"
   ]
  },
  {
   "cell_type": "markdown",
   "id": "d197e035",
   "metadata": {
    "papermill": {
     "duration": 0.023163,
     "end_time": "2023-10-15T15:53:35.910526",
     "exception": false,
     "start_time": "2023-10-15T15:53:35.887363",
     "status": "completed"
    },
    "tags": []
   },
   "source": [
    "### 2. Fazendo uso de Técnicas de Seleção\n",
    "Além da análise de correlação, vamos fazer uso de algoritmos de técnicas de seleção para encontrar o conjunto de colunas."
   ]
  },
  {
   "cell_type": "markdown",
   "id": "ccb3cfe8",
   "metadata": {
    "papermill": {
     "duration": 0.023112,
     "end_time": "2023-10-15T15:53:35.956800",
     "exception": false,
     "start_time": "2023-10-15T15:53:35.933688",
     "status": "completed"
    },
    "tags": []
   },
   "source": [
    "#### 2.1 Variance Threshold"
   ]
  },
  {
   "cell_type": "markdown",
   "id": "f82dd79c",
   "metadata": {
    "papermill": {
     "duration": 0.026175,
     "end_time": "2023-10-15T15:53:36.006669",
     "exception": false,
     "start_time": "2023-10-15T15:53:35.980494",
     "status": "completed"
    },
    "tags": []
   },
   "source": [
    "A diferença de escala na variância entre colunas no conjunto de dados é imensa. O uso de VarianceThreshold não será efetivo neste cenário, logo, é necessário escalar os dados. Como o StandardScaler iria igualar a variância das colunas, o MinMaxScaler entra em ação."
   ]
  },
  {
   "cell_type": "code",
   "execution_count": 21,
   "id": "6e4b1287",
   "metadata": {
    "execution": {
     "iopub.execute_input": "2023-10-15T15:53:36.055919Z",
     "iopub.status.busy": "2023-10-15T15:53:36.055549Z",
     "iopub.status.idle": "2023-10-15T15:53:36.321547Z",
     "shell.execute_reply": "2023-10-15T15:53:36.320445Z"
    },
    "papermill": {
     "duration": 0.29295,
     "end_time": "2023-10-15T15:53:36.323580",
     "exception": false,
     "start_time": "2023-10-15T15:53:36.030630",
     "status": "completed"
    },
    "tags": []
   },
   "outputs": [
    {
     "data": {
      "text/plain": [
       "delta_num_aport_var13_1y3     3.453200e+17\n",
       "delta_imp_aport_var13_1y3     3.453200e+17\n",
       "delta_imp_compra_var44_1y3    6.177389e+16\n",
       "delta_num_compra_var44_1y3    6.177389e+16\n",
       "delta_num_reemb_var13_1y3     3.225519e+16\n",
       "                                  ...     \n",
       "ind_var13_medio_0             1.369628e-05\n",
       "ind_var13_medio               1.369628e-05\n",
       "ind_var29                     1.369628e-05\n",
       "ind_var34_0                   1.369628e-05\n",
       "ind_var34                     1.369628e-05\n",
       "Length: 337, dtype: float64"
      ]
     },
     "execution_count": 21,
     "metadata": {},
     "output_type": "execute_result"
    }
   ],
   "source": [
    "dataset_smote.var().sort_values(ascending = False)"
   ]
  },
  {
   "cell_type": "code",
   "execution_count": 22,
   "id": "9db1d581",
   "metadata": {
    "execution": {
     "iopub.execute_input": "2023-10-15T15:53:36.374136Z",
     "iopub.status.busy": "2023-10-15T15:53:36.373035Z",
     "iopub.status.idle": "2023-10-15T15:53:36.378082Z",
     "shell.execute_reply": "2023-10-15T15:53:36.377417Z"
    },
    "papermill": {
     "duration": 0.032483,
     "end_time": "2023-10-15T15:53:36.380023",
     "exception": false,
     "start_time": "2023-10-15T15:53:36.347540",
     "status": "completed"
    },
    "tags": []
   },
   "outputs": [],
   "source": [
    "ID = dataset_smote.ID\n",
    "TARGET = dataset_smote.TARGET"
   ]
  },
  {
   "cell_type": "code",
   "execution_count": 23,
   "id": "86aa2b55",
   "metadata": {
    "execution": {
     "iopub.execute_input": "2023-10-15T15:53:36.429275Z",
     "iopub.status.busy": "2023-10-15T15:53:36.428879Z",
     "iopub.status.idle": "2023-10-15T15:53:37.611251Z",
     "shell.execute_reply": "2023-10-15T15:53:37.610099Z"
    },
    "papermill": {
     "duration": 1.209574,
     "end_time": "2023-10-15T15:53:37.613513",
     "exception": false,
     "start_time": "2023-10-15T15:53:36.403939",
     "status": "completed"
    },
    "tags": []
   },
   "outputs": [
    {
     "data": {
      "text/html": [
       "<div>\n",
       "<style scoped>\n",
       "    .dataframe tbody tr th:only-of-type {\n",
       "        vertical-align: middle;\n",
       "    }\n",
       "\n",
       "    .dataframe tbody tr th {\n",
       "        vertical-align: top;\n",
       "    }\n",
       "\n",
       "    .dataframe thead th {\n",
       "        text-align: right;\n",
       "    }\n",
       "</style>\n",
       "<table border=\"1\" class=\"dataframe\">\n",
       "  <thead>\n",
       "    <tr style=\"text-align: right;\">\n",
       "      <th></th>\n",
       "      <th>var3</th>\n",
       "      <th>var15</th>\n",
       "      <th>imp_ent_var16_ult1</th>\n",
       "      <th>imp_op_var39_comer_ult1</th>\n",
       "      <th>imp_op_var39_comer_ult3</th>\n",
       "      <th>imp_op_var40_comer_ult1</th>\n",
       "      <th>imp_op_var40_comer_ult3</th>\n",
       "      <th>imp_op_var40_efect_ult1</th>\n",
       "      <th>imp_op_var40_efect_ult3</th>\n",
       "      <th>imp_op_var40_ult1</th>\n",
       "      <th>...</th>\n",
       "      <th>saldo_medio_var29_ult3</th>\n",
       "      <th>saldo_medio_var33_hace2</th>\n",
       "      <th>saldo_medio_var33_hace3</th>\n",
       "      <th>saldo_medio_var33_ult1</th>\n",
       "      <th>saldo_medio_var33_ult3</th>\n",
       "      <th>saldo_medio_var44_hace2</th>\n",
       "      <th>saldo_medio_var44_hace3</th>\n",
       "      <th>saldo_medio_var44_ult1</th>\n",
       "      <th>saldo_medio_var44_ult3</th>\n",
       "      <th>var38</th>\n",
       "    </tr>\n",
       "  </thead>\n",
       "  <tbody>\n",
       "    <tr>\n",
       "      <th>0</th>\n",
       "      <td>0.999764</td>\n",
       "      <td>0.18</td>\n",
       "      <td>0.000000</td>\n",
       "      <td>0.000000</td>\n",
       "      <td>0.000000</td>\n",
       "      <td>0.0</td>\n",
       "      <td>0.0</td>\n",
       "      <td>0.0</td>\n",
       "      <td>0.0</td>\n",
       "      <td>0.0</td>\n",
       "      <td>...</td>\n",
       "      <td>0.0</td>\n",
       "      <td>0.0</td>\n",
       "      <td>0.0</td>\n",
       "      <td>0.0</td>\n",
       "      <td>0.0</td>\n",
       "      <td>0.0</td>\n",
       "      <td>0.0</td>\n",
       "      <td>0.0</td>\n",
       "      <td>0.0</td>\n",
       "      <td>0.001545</td>\n",
       "    </tr>\n",
       "    <tr>\n",
       "      <th>1</th>\n",
       "      <td>0.999764</td>\n",
       "      <td>0.29</td>\n",
       "      <td>0.000000</td>\n",
       "      <td>0.000000</td>\n",
       "      <td>0.000000</td>\n",
       "      <td>0.0</td>\n",
       "      <td>0.0</td>\n",
       "      <td>0.0</td>\n",
       "      <td>0.0</td>\n",
       "      <td>0.0</td>\n",
       "      <td>...</td>\n",
       "      <td>0.0</td>\n",
       "      <td>0.0</td>\n",
       "      <td>0.0</td>\n",
       "      <td>0.0</td>\n",
       "      <td>0.0</td>\n",
       "      <td>0.0</td>\n",
       "      <td>0.0</td>\n",
       "      <td>0.0</td>\n",
       "      <td>0.0</td>\n",
       "      <td>0.002003</td>\n",
       "    </tr>\n",
       "    <tr>\n",
       "      <th>2</th>\n",
       "      <td>0.999764</td>\n",
       "      <td>0.18</td>\n",
       "      <td>0.000000</td>\n",
       "      <td>0.000000</td>\n",
       "      <td>0.000000</td>\n",
       "      <td>0.0</td>\n",
       "      <td>0.0</td>\n",
       "      <td>0.0</td>\n",
       "      <td>0.0</td>\n",
       "      <td>0.0</td>\n",
       "      <td>...</td>\n",
       "      <td>0.0</td>\n",
       "      <td>0.0</td>\n",
       "      <td>0.0</td>\n",
       "      <td>0.0</td>\n",
       "      <td>0.0</td>\n",
       "      <td>0.0</td>\n",
       "      <td>0.0</td>\n",
       "      <td>0.0</td>\n",
       "      <td>0.0</td>\n",
       "      <td>0.002822</td>\n",
       "    </tr>\n",
       "    <tr>\n",
       "      <th>3</th>\n",
       "      <td>0.999764</td>\n",
       "      <td>0.32</td>\n",
       "      <td>0.000000</td>\n",
       "      <td>0.015130</td>\n",
       "      <td>0.009275</td>\n",
       "      <td>0.0</td>\n",
       "      <td>0.0</td>\n",
       "      <td>0.0</td>\n",
       "      <td>0.0</td>\n",
       "      <td>0.0</td>\n",
       "      <td>...</td>\n",
       "      <td>0.0</td>\n",
       "      <td>0.0</td>\n",
       "      <td>0.0</td>\n",
       "      <td>0.0</td>\n",
       "      <td>0.0</td>\n",
       "      <td>0.0</td>\n",
       "      <td>0.0</td>\n",
       "      <td>0.0</td>\n",
       "      <td>0.0</td>\n",
       "      <td>0.002671</td>\n",
       "    </tr>\n",
       "    <tr>\n",
       "      <th>4</th>\n",
       "      <td>0.999764</td>\n",
       "      <td>0.34</td>\n",
       "      <td>0.000000</td>\n",
       "      <td>0.000000</td>\n",
       "      <td>0.000000</td>\n",
       "      <td>0.0</td>\n",
       "      <td>0.0</td>\n",
       "      <td>0.0</td>\n",
       "      <td>0.0</td>\n",
       "      <td>0.0</td>\n",
       "      <td>...</td>\n",
       "      <td>0.0</td>\n",
       "      <td>0.0</td>\n",
       "      <td>0.0</td>\n",
       "      <td>0.0</td>\n",
       "      <td>0.0</td>\n",
       "      <td>0.0</td>\n",
       "      <td>0.0</td>\n",
       "      <td>0.0</td>\n",
       "      <td>0.0</td>\n",
       "      <td>0.005091</td>\n",
       "    </tr>\n",
       "    <tr>\n",
       "      <th>...</th>\n",
       "      <td>...</td>\n",
       "      <td>...</td>\n",
       "      <td>...</td>\n",
       "      <td>...</td>\n",
       "      <td>...</td>\n",
       "      <td>...</td>\n",
       "      <td>...</td>\n",
       "      <td>...</td>\n",
       "      <td>...</td>\n",
       "      <td>...</td>\n",
       "      <td>...</td>\n",
       "      <td>...</td>\n",
       "      <td>...</td>\n",
       "      <td>...</td>\n",
       "      <td>...</td>\n",
       "      <td>...</td>\n",
       "      <td>...</td>\n",
       "      <td>...</td>\n",
       "      <td>...</td>\n",
       "      <td>...</td>\n",
       "      <td>...</td>\n",
       "    </tr>\n",
       "    <tr>\n",
       "      <th>146019</th>\n",
       "      <td>0.999764</td>\n",
       "      <td>0.41</td>\n",
       "      <td>0.000294</td>\n",
       "      <td>0.007183</td>\n",
       "      <td>0.004403</td>\n",
       "      <td>0.0</td>\n",
       "      <td>0.0</td>\n",
       "      <td>0.0</td>\n",
       "      <td>0.0</td>\n",
       "      <td>0.0</td>\n",
       "      <td>...</td>\n",
       "      <td>0.0</td>\n",
       "      <td>0.0</td>\n",
       "      <td>0.0</td>\n",
       "      <td>0.0</td>\n",
       "      <td>0.0</td>\n",
       "      <td>0.0</td>\n",
       "      <td>0.0</td>\n",
       "      <td>0.0</td>\n",
       "      <td>0.0</td>\n",
       "      <td>0.008147</td>\n",
       "    </tr>\n",
       "    <tr>\n",
       "      <th>146020</th>\n",
       "      <td>0.999764</td>\n",
       "      <td>0.30</td>\n",
       "      <td>0.000000</td>\n",
       "      <td>0.000000</td>\n",
       "      <td>0.000000</td>\n",
       "      <td>0.0</td>\n",
       "      <td>0.0</td>\n",
       "      <td>0.0</td>\n",
       "      <td>0.0</td>\n",
       "      <td>0.0</td>\n",
       "      <td>...</td>\n",
       "      <td>0.0</td>\n",
       "      <td>0.0</td>\n",
       "      <td>0.0</td>\n",
       "      <td>0.0</td>\n",
       "      <td>0.0</td>\n",
       "      <td>0.0</td>\n",
       "      <td>0.0</td>\n",
       "      <td>0.0</td>\n",
       "      <td>0.0</td>\n",
       "      <td>0.005091</td>\n",
       "    </tr>\n",
       "    <tr>\n",
       "      <th>146021</th>\n",
       "      <td>0.999764</td>\n",
       "      <td>0.19</td>\n",
       "      <td>0.000000</td>\n",
       "      <td>0.000000</td>\n",
       "      <td>0.000000</td>\n",
       "      <td>0.0</td>\n",
       "      <td>0.0</td>\n",
       "      <td>0.0</td>\n",
       "      <td>0.0</td>\n",
       "      <td>0.0</td>\n",
       "      <td>...</td>\n",
       "      <td>0.0</td>\n",
       "      <td>0.0</td>\n",
       "      <td>0.0</td>\n",
       "      <td>0.0</td>\n",
       "      <td>0.0</td>\n",
       "      <td>0.0</td>\n",
       "      <td>0.0</td>\n",
       "      <td>0.0</td>\n",
       "      <td>0.0</td>\n",
       "      <td>0.006645</td>\n",
       "    </tr>\n",
       "    <tr>\n",
       "      <th>146022</th>\n",
       "      <td>0.999764</td>\n",
       "      <td>0.28</td>\n",
       "      <td>0.000000</td>\n",
       "      <td>0.000000</td>\n",
       "      <td>0.000000</td>\n",
       "      <td>0.0</td>\n",
       "      <td>0.0</td>\n",
       "      <td>0.0</td>\n",
       "      <td>0.0</td>\n",
       "      <td>0.0</td>\n",
       "      <td>...</td>\n",
       "      <td>0.0</td>\n",
       "      <td>0.0</td>\n",
       "      <td>0.0</td>\n",
       "      <td>0.0</td>\n",
       "      <td>0.0</td>\n",
       "      <td>0.0</td>\n",
       "      <td>0.0</td>\n",
       "      <td>0.0</td>\n",
       "      <td>0.0</td>\n",
       "      <td>0.005091</td>\n",
       "    </tr>\n",
       "    <tr>\n",
       "      <th>146023</th>\n",
       "      <td>0.999764</td>\n",
       "      <td>0.31</td>\n",
       "      <td>0.000000</td>\n",
       "      <td>0.000000</td>\n",
       "      <td>0.000000</td>\n",
       "      <td>0.0</td>\n",
       "      <td>0.0</td>\n",
       "      <td>0.0</td>\n",
       "      <td>0.0</td>\n",
       "      <td>0.0</td>\n",
       "      <td>...</td>\n",
       "      <td>0.0</td>\n",
       "      <td>0.0</td>\n",
       "      <td>0.0</td>\n",
       "      <td>0.0</td>\n",
       "      <td>0.0</td>\n",
       "      <td>0.0</td>\n",
       "      <td>0.0</td>\n",
       "      <td>0.0</td>\n",
       "      <td>0.0</td>\n",
       "      <td>0.005779</td>\n",
       "    </tr>\n",
       "  </tbody>\n",
       "</table>\n",
       "<p>146024 rows × 335 columns</p>\n",
       "</div>"
      ],
      "text/plain": [
       "            var3  var15  imp_ent_var16_ult1  imp_op_var39_comer_ult1  \\\n",
       "0       0.999764   0.18            0.000000                 0.000000   \n",
       "1       0.999764   0.29            0.000000                 0.000000   \n",
       "2       0.999764   0.18            0.000000                 0.000000   \n",
       "3       0.999764   0.32            0.000000                 0.015130   \n",
       "4       0.999764   0.34            0.000000                 0.000000   \n",
       "...          ...    ...                 ...                      ...   \n",
       "146019  0.999764   0.41            0.000294                 0.007183   \n",
       "146020  0.999764   0.30            0.000000                 0.000000   \n",
       "146021  0.999764   0.19            0.000000                 0.000000   \n",
       "146022  0.999764   0.28            0.000000                 0.000000   \n",
       "146023  0.999764   0.31            0.000000                 0.000000   \n",
       "\n",
       "        imp_op_var39_comer_ult3  imp_op_var40_comer_ult1  \\\n",
       "0                      0.000000                      0.0   \n",
       "1                      0.000000                      0.0   \n",
       "2                      0.000000                      0.0   \n",
       "3                      0.009275                      0.0   \n",
       "4                      0.000000                      0.0   \n",
       "...                         ...                      ...   \n",
       "146019                 0.004403                      0.0   \n",
       "146020                 0.000000                      0.0   \n",
       "146021                 0.000000                      0.0   \n",
       "146022                 0.000000                      0.0   \n",
       "146023                 0.000000                      0.0   \n",
       "\n",
       "        imp_op_var40_comer_ult3  imp_op_var40_efect_ult1  \\\n",
       "0                           0.0                      0.0   \n",
       "1                           0.0                      0.0   \n",
       "2                           0.0                      0.0   \n",
       "3                           0.0                      0.0   \n",
       "4                           0.0                      0.0   \n",
       "...                         ...                      ...   \n",
       "146019                      0.0                      0.0   \n",
       "146020                      0.0                      0.0   \n",
       "146021                      0.0                      0.0   \n",
       "146022                      0.0                      0.0   \n",
       "146023                      0.0                      0.0   \n",
       "\n",
       "        imp_op_var40_efect_ult3  imp_op_var40_ult1  ...  \\\n",
       "0                           0.0                0.0  ...   \n",
       "1                           0.0                0.0  ...   \n",
       "2                           0.0                0.0  ...   \n",
       "3                           0.0                0.0  ...   \n",
       "4                           0.0                0.0  ...   \n",
       "...                         ...                ...  ...   \n",
       "146019                      0.0                0.0  ...   \n",
       "146020                      0.0                0.0  ...   \n",
       "146021                      0.0                0.0  ...   \n",
       "146022                      0.0                0.0  ...   \n",
       "146023                      0.0                0.0  ...   \n",
       "\n",
       "        saldo_medio_var29_ult3  saldo_medio_var33_hace2  \\\n",
       "0                          0.0                      0.0   \n",
       "1                          0.0                      0.0   \n",
       "2                          0.0                      0.0   \n",
       "3                          0.0                      0.0   \n",
       "4                          0.0                      0.0   \n",
       "...                        ...                      ...   \n",
       "146019                     0.0                      0.0   \n",
       "146020                     0.0                      0.0   \n",
       "146021                     0.0                      0.0   \n",
       "146022                     0.0                      0.0   \n",
       "146023                     0.0                      0.0   \n",
       "\n",
       "        saldo_medio_var33_hace3  saldo_medio_var33_ult1  \\\n",
       "0                           0.0                     0.0   \n",
       "1                           0.0                     0.0   \n",
       "2                           0.0                     0.0   \n",
       "3                           0.0                     0.0   \n",
       "4                           0.0                     0.0   \n",
       "...                         ...                     ...   \n",
       "146019                      0.0                     0.0   \n",
       "146020                      0.0                     0.0   \n",
       "146021                      0.0                     0.0   \n",
       "146022                      0.0                     0.0   \n",
       "146023                      0.0                     0.0   \n",
       "\n",
       "        saldo_medio_var33_ult3  saldo_medio_var44_hace2  \\\n",
       "0                          0.0                      0.0   \n",
       "1                          0.0                      0.0   \n",
       "2                          0.0                      0.0   \n",
       "3                          0.0                      0.0   \n",
       "4                          0.0                      0.0   \n",
       "...                        ...                      ...   \n",
       "146019                     0.0                      0.0   \n",
       "146020                     0.0                      0.0   \n",
       "146021                     0.0                      0.0   \n",
       "146022                     0.0                      0.0   \n",
       "146023                     0.0                      0.0   \n",
       "\n",
       "        saldo_medio_var44_hace3  saldo_medio_var44_ult1  \\\n",
       "0                           0.0                     0.0   \n",
       "1                           0.0                     0.0   \n",
       "2                           0.0                     0.0   \n",
       "3                           0.0                     0.0   \n",
       "4                           0.0                     0.0   \n",
       "...                         ...                     ...   \n",
       "146019                      0.0                     0.0   \n",
       "146020                      0.0                     0.0   \n",
       "146021                      0.0                     0.0   \n",
       "146022                      0.0                     0.0   \n",
       "146023                      0.0                     0.0   \n",
       "\n",
       "        saldo_medio_var44_ult3     var38  \n",
       "0                          0.0  0.001545  \n",
       "1                          0.0  0.002003  \n",
       "2                          0.0  0.002822  \n",
       "3                          0.0  0.002671  \n",
       "4                          0.0  0.005091  \n",
       "...                        ...       ...  \n",
       "146019                     0.0  0.008147  \n",
       "146020                     0.0  0.005091  \n",
       "146021                     0.0  0.006645  \n",
       "146022                     0.0  0.005091  \n",
       "146023                     0.0  0.005779  \n",
       "\n",
       "[146024 rows x 335 columns]"
      ]
     },
     "execution_count": 23,
     "metadata": {},
     "output_type": "execute_result"
    }
   ],
   "source": [
    "from sklearn.preprocessing import StandardScaler, MinMaxScaler\n",
    "\n",
    "scaler = MinMaxScaler()\n",
    "\n",
    "x_smote = dataset_smote.drop([\"ID\", \"TARGET\"], axis = 1)\n",
    "scaled_x_smote = scaler.fit_transform(x_smote)\n",
    "\n",
    "scaled_x_smote = pd.DataFrame(scaled_x_smote, columns = x_smote.columns)\n",
    "scaled_x_smote"
   ]
  },
  {
   "cell_type": "code",
   "execution_count": 24,
   "id": "13b3135b",
   "metadata": {
    "execution": {
     "iopub.execute_input": "2023-10-15T15:53:37.664300Z",
     "iopub.status.busy": "2023-10-15T15:53:37.663911Z",
     "iopub.status.idle": "2023-10-15T15:53:38.212995Z",
     "shell.execute_reply": "2023-10-15T15:53:38.211935Z"
    },
    "papermill": {
     "duration": 0.576973,
     "end_time": "2023-10-15T15:53:38.215108",
     "exception": false,
     "start_time": "2023-10-15T15:53:37.638135",
     "status": "completed"
    },
    "tags": []
   },
   "outputs": [
    {
     "data": {
      "text/plain": [
       "ind_var30                    0.248343\n",
       "ind_var5                     0.240801\n",
       "var36                        0.208617\n",
       "num_meses_var5_ult3          0.192129\n",
       "ind_var41_0                  0.174322\n",
       "                               ...   \n",
       "num_reemb_var33_ult1         0.000007\n",
       "imp_trasp_var33_out_ult1     0.000007\n",
       "num_trasp_var33_out_ult1     0.000007\n",
       "delta_imp_aport_var33_1y3    0.000007\n",
       "delta_num_aport_var33_1y3    0.000007\n",
       "Length: 335, dtype: float64"
      ]
     },
     "execution_count": 24,
     "metadata": {},
     "output_type": "execute_result"
    }
   ],
   "source": [
    "scaled_x_smote.var().sort_values(ascending = False)"
   ]
  },
  {
   "cell_type": "code",
   "execution_count": 25,
   "id": "ae74cf5d",
   "metadata": {
    "execution": {
     "iopub.execute_input": "2023-10-15T15:53:38.267246Z",
     "iopub.status.busy": "2023-10-15T15:53:38.266829Z",
     "iopub.status.idle": "2023-10-15T15:53:38.858151Z",
     "shell.execute_reply": "2023-10-15T15:53:38.857061Z"
    },
    "papermill": {
     "duration": 0.620613,
     "end_time": "2023-10-15T15:53:38.860305",
     "exception": false,
     "start_time": "2023-10-15T15:53:38.239692",
     "status": "completed"
    },
    "tags": []
   },
   "outputs": [
    {
     "data": {
      "text/html": [
       "<div>\n",
       "<style scoped>\n",
       "    .dataframe tbody tr th:only-of-type {\n",
       "        vertical-align: middle;\n",
       "    }\n",
       "\n",
       "    .dataframe tbody tr th {\n",
       "        vertical-align: top;\n",
       "    }\n",
       "\n",
       "    .dataframe thead th {\n",
       "        text-align: right;\n",
       "    }\n",
       "</style>\n",
       "<table border=\"1\" class=\"dataframe\">\n",
       "  <thead>\n",
       "    <tr style=\"text-align: right;\">\n",
       "      <th></th>\n",
       "      <th>ind_var5</th>\n",
       "      <th>ind_var30</th>\n",
       "      <th>ind_var39_0</th>\n",
       "      <th>ind_var41_0</th>\n",
       "      <th>var36</th>\n",
       "      <th>num_meses_var5_ult3</th>\n",
       "    </tr>\n",
       "  </thead>\n",
       "  <tbody>\n",
       "    <tr>\n",
       "      <th>0</th>\n",
       "      <td>0.0</td>\n",
       "      <td>0.0</td>\n",
       "      <td>1.0</td>\n",
       "      <td>1.0</td>\n",
       "      <td>1.000000</td>\n",
       "      <td>0.000000</td>\n",
       "    </tr>\n",
       "    <tr>\n",
       "      <th>1</th>\n",
       "      <td>0.0</td>\n",
       "      <td>1.0</td>\n",
       "      <td>1.0</td>\n",
       "      <td>1.0</td>\n",
       "      <td>0.030303</td>\n",
       "      <td>0.333333</td>\n",
       "    </tr>\n",
       "    <tr>\n",
       "      <th>2</th>\n",
       "      <td>1.0</td>\n",
       "      <td>1.0</td>\n",
       "      <td>1.0</td>\n",
       "      <td>1.0</td>\n",
       "      <td>1.000000</td>\n",
       "      <td>1.000000</td>\n",
       "    </tr>\n",
       "    <tr>\n",
       "      <th>3</th>\n",
       "      <td>1.0</td>\n",
       "      <td>1.0</td>\n",
       "      <td>1.0</td>\n",
       "      <td>1.0</td>\n",
       "      <td>0.020202</td>\n",
       "      <td>0.666667</td>\n",
       "    </tr>\n",
       "    <tr>\n",
       "      <th>4</th>\n",
       "      <td>0.0</td>\n",
       "      <td>1.0</td>\n",
       "      <td>1.0</td>\n",
       "      <td>1.0</td>\n",
       "      <td>0.010101</td>\n",
       "      <td>1.000000</td>\n",
       "    </tr>\n",
       "    <tr>\n",
       "      <th>...</th>\n",
       "      <td>...</td>\n",
       "      <td>...</td>\n",
       "      <td>...</td>\n",
       "      <td>...</td>\n",
       "      <td>...</td>\n",
       "      <td>...</td>\n",
       "    </tr>\n",
       "    <tr>\n",
       "      <th>146019</th>\n",
       "      <td>0.0</td>\n",
       "      <td>1.0</td>\n",
       "      <td>1.0</td>\n",
       "      <td>1.0</td>\n",
       "      <td>0.010101</td>\n",
       "      <td>0.666667</td>\n",
       "    </tr>\n",
       "    <tr>\n",
       "      <th>146020</th>\n",
       "      <td>0.0</td>\n",
       "      <td>0.0</td>\n",
       "      <td>1.0</td>\n",
       "      <td>1.0</td>\n",
       "      <td>1.000000</td>\n",
       "      <td>0.000000</td>\n",
       "    </tr>\n",
       "    <tr>\n",
       "      <th>146021</th>\n",
       "      <td>1.0</td>\n",
       "      <td>1.0</td>\n",
       "      <td>0.0</td>\n",
       "      <td>0.0</td>\n",
       "      <td>0.777778</td>\n",
       "      <td>1.000000</td>\n",
       "    </tr>\n",
       "    <tr>\n",
       "      <th>146022</th>\n",
       "      <td>0.0</td>\n",
       "      <td>0.0</td>\n",
       "      <td>1.0</td>\n",
       "      <td>1.0</td>\n",
       "      <td>1.000000</td>\n",
       "      <td>0.000000</td>\n",
       "    </tr>\n",
       "    <tr>\n",
       "      <th>146023</th>\n",
       "      <td>1.0</td>\n",
       "      <td>1.0</td>\n",
       "      <td>1.0</td>\n",
       "      <td>1.0</td>\n",
       "      <td>0.696970</td>\n",
       "      <td>1.000000</td>\n",
       "    </tr>\n",
       "  </tbody>\n",
       "</table>\n",
       "<p>146024 rows × 6 columns</p>\n",
       "</div>"
      ],
      "text/plain": [
       "        ind_var5  ind_var30  ind_var39_0  ind_var41_0     var36  \\\n",
       "0            0.0        0.0          1.0          1.0  1.000000   \n",
       "1            0.0        1.0          1.0          1.0  0.030303   \n",
       "2            1.0        1.0          1.0          1.0  1.000000   \n",
       "3            1.0        1.0          1.0          1.0  0.020202   \n",
       "4            0.0        1.0          1.0          1.0  0.010101   \n",
       "...          ...        ...          ...          ...       ...   \n",
       "146019       0.0        1.0          1.0          1.0  0.010101   \n",
       "146020       0.0        0.0          1.0          1.0  1.000000   \n",
       "146021       1.0        1.0          0.0          0.0  0.777778   \n",
       "146022       0.0        0.0          1.0          1.0  1.000000   \n",
       "146023       1.0        1.0          1.0          1.0  0.696970   \n",
       "\n",
       "        num_meses_var5_ult3  \n",
       "0                  0.000000  \n",
       "1                  0.333333  \n",
       "2                  1.000000  \n",
       "3                  0.666667  \n",
       "4                  1.000000  \n",
       "...                     ...  \n",
       "146019             0.666667  \n",
       "146020             0.000000  \n",
       "146021             1.000000  \n",
       "146022             0.000000  \n",
       "146023             1.000000  \n",
       "\n",
       "[146024 rows x 6 columns]"
      ]
     },
     "execution_count": 25,
     "metadata": {},
     "output_type": "execute_result"
    }
   ],
   "source": [
    "from sklearn.feature_selection import VarianceThreshold\n",
    "\n",
    "selector = VarianceThreshold(threshold = 0.1)\n",
    "\n",
    "result = selector.fit_transform(scaled_x_smote)\n",
    "result = pd.DataFrame(result, columns=scaled_x_smote.columns[selector.get_support()])\n",
    "result"
   ]
  },
  {
   "cell_type": "code",
   "execution_count": 26,
   "id": "eaedaba0",
   "metadata": {
    "execution": {
     "iopub.execute_input": "2023-10-15T15:53:38.912049Z",
     "iopub.status.busy": "2023-10-15T15:53:38.910824Z",
     "iopub.status.idle": "2023-10-15T15:53:39.477801Z",
     "shell.execute_reply": "2023-10-15T15:53:39.477055Z"
    },
    "papermill": {
     "duration": 0.596606,
     "end_time": "2023-10-15T15:53:39.481536",
     "exception": false,
     "start_time": "2023-10-15T15:53:38.884930",
     "status": "completed"
    },
    "tags": []
   },
   "outputs": [
    {
     "data": {
      "text/html": [
       "<div>\n",
       "<style scoped>\n",
       "    .dataframe tbody tr th:only-of-type {\n",
       "        vertical-align: middle;\n",
       "    }\n",
       "\n",
       "    .dataframe tbody tr th {\n",
       "        vertical-align: top;\n",
       "    }\n",
       "\n",
       "    .dataframe thead th {\n",
       "        text-align: right;\n",
       "    }\n",
       "</style>\n",
       "<table border=\"1\" class=\"dataframe\">\n",
       "  <thead>\n",
       "    <tr style=\"text-align: right;\">\n",
       "      <th></th>\n",
       "      <th>ind_var5_0</th>\n",
       "      <th>ind_var5</th>\n",
       "      <th>ind_var30</th>\n",
       "      <th>ind_var39_0</th>\n",
       "      <th>ind_var41_0</th>\n",
       "      <th>var36</th>\n",
       "      <th>ind_var10cte_ult1</th>\n",
       "      <th>ind_var9_cte_ult1</th>\n",
       "      <th>ind_var43_recib_ult1</th>\n",
       "      <th>num_meses_var5_ult3</th>\n",
       "      <th>num_meses_var39_vig_ult3</th>\n",
       "    </tr>\n",
       "  </thead>\n",
       "  <tbody>\n",
       "    <tr>\n",
       "      <th>0</th>\n",
       "      <td>1.0</td>\n",
       "      <td>0.0</td>\n",
       "      <td>0.0</td>\n",
       "      <td>1.0</td>\n",
       "      <td>1.0</td>\n",
       "      <td>1.000000</td>\n",
       "      <td>0.0</td>\n",
       "      <td>0.0</td>\n",
       "      <td>0.0</td>\n",
       "      <td>0.000000</td>\n",
       "      <td>0.666667</td>\n",
       "    </tr>\n",
       "    <tr>\n",
       "      <th>1</th>\n",
       "      <td>1.0</td>\n",
       "      <td>0.0</td>\n",
       "      <td>1.0</td>\n",
       "      <td>1.0</td>\n",
       "      <td>1.0</td>\n",
       "      <td>0.030303</td>\n",
       "      <td>0.0</td>\n",
       "      <td>0.0</td>\n",
       "      <td>0.0</td>\n",
       "      <td>0.333333</td>\n",
       "      <td>0.666667</td>\n",
       "    </tr>\n",
       "    <tr>\n",
       "      <th>2</th>\n",
       "      <td>1.0</td>\n",
       "      <td>1.0</td>\n",
       "      <td>1.0</td>\n",
       "      <td>1.0</td>\n",
       "      <td>1.0</td>\n",
       "      <td>1.000000</td>\n",
       "      <td>0.0</td>\n",
       "      <td>0.0</td>\n",
       "      <td>0.0</td>\n",
       "      <td>1.000000</td>\n",
       "      <td>0.333333</td>\n",
       "    </tr>\n",
       "    <tr>\n",
       "      <th>3</th>\n",
       "      <td>1.0</td>\n",
       "      <td>1.0</td>\n",
       "      <td>1.0</td>\n",
       "      <td>1.0</td>\n",
       "      <td>1.0</td>\n",
       "      <td>0.020202</td>\n",
       "      <td>1.0</td>\n",
       "      <td>1.0</td>\n",
       "      <td>0.0</td>\n",
       "      <td>0.666667</td>\n",
       "      <td>0.333333</td>\n",
       "    </tr>\n",
       "    <tr>\n",
       "      <th>4</th>\n",
       "      <td>1.0</td>\n",
       "      <td>0.0</td>\n",
       "      <td>1.0</td>\n",
       "      <td>1.0</td>\n",
       "      <td>1.0</td>\n",
       "      <td>0.010101</td>\n",
       "      <td>0.0</td>\n",
       "      <td>0.0</td>\n",
       "      <td>1.0</td>\n",
       "      <td>1.000000</td>\n",
       "      <td>0.666667</td>\n",
       "    </tr>\n",
       "    <tr>\n",
       "      <th>...</th>\n",
       "      <td>...</td>\n",
       "      <td>...</td>\n",
       "      <td>...</td>\n",
       "      <td>...</td>\n",
       "      <td>...</td>\n",
       "      <td>...</td>\n",
       "      <td>...</td>\n",
       "      <td>...</td>\n",
       "      <td>...</td>\n",
       "      <td>...</td>\n",
       "      <td>...</td>\n",
       "    </tr>\n",
       "    <tr>\n",
       "      <th>146019</th>\n",
       "      <td>0.0</td>\n",
       "      <td>0.0</td>\n",
       "      <td>1.0</td>\n",
       "      <td>1.0</td>\n",
       "      <td>1.0</td>\n",
       "      <td>0.010101</td>\n",
       "      <td>0.0</td>\n",
       "      <td>0.0</td>\n",
       "      <td>0.0</td>\n",
       "      <td>0.666667</td>\n",
       "      <td>0.000000</td>\n",
       "    </tr>\n",
       "    <tr>\n",
       "      <th>146020</th>\n",
       "      <td>1.0</td>\n",
       "      <td>0.0</td>\n",
       "      <td>0.0</td>\n",
       "      <td>1.0</td>\n",
       "      <td>1.0</td>\n",
       "      <td>1.000000</td>\n",
       "      <td>0.0</td>\n",
       "      <td>0.0</td>\n",
       "      <td>0.0</td>\n",
       "      <td>0.000000</td>\n",
       "      <td>0.666667</td>\n",
       "    </tr>\n",
       "    <tr>\n",
       "      <th>146021</th>\n",
       "      <td>1.0</td>\n",
       "      <td>1.0</td>\n",
       "      <td>1.0</td>\n",
       "      <td>0.0</td>\n",
       "      <td>0.0</td>\n",
       "      <td>0.777778</td>\n",
       "      <td>0.0</td>\n",
       "      <td>0.0</td>\n",
       "      <td>0.0</td>\n",
       "      <td>1.000000</td>\n",
       "      <td>0.000000</td>\n",
       "    </tr>\n",
       "    <tr>\n",
       "      <th>146022</th>\n",
       "      <td>0.0</td>\n",
       "      <td>0.0</td>\n",
       "      <td>0.0</td>\n",
       "      <td>1.0</td>\n",
       "      <td>1.0</td>\n",
       "      <td>1.000000</td>\n",
       "      <td>0.0</td>\n",
       "      <td>0.0</td>\n",
       "      <td>0.0</td>\n",
       "      <td>0.000000</td>\n",
       "      <td>0.666667</td>\n",
       "    </tr>\n",
       "    <tr>\n",
       "      <th>146023</th>\n",
       "      <td>1.0</td>\n",
       "      <td>1.0</td>\n",
       "      <td>1.0</td>\n",
       "      <td>1.0</td>\n",
       "      <td>1.0</td>\n",
       "      <td>0.696970</td>\n",
       "      <td>0.0</td>\n",
       "      <td>0.0</td>\n",
       "      <td>0.0</td>\n",
       "      <td>1.000000</td>\n",
       "      <td>0.333333</td>\n",
       "    </tr>\n",
       "  </tbody>\n",
       "</table>\n",
       "<p>146024 rows × 11 columns</p>\n",
       "</div>"
      ],
      "text/plain": [
       "        ind_var5_0  ind_var5  ind_var30  ind_var39_0  ind_var41_0     var36  \\\n",
       "0              1.0       0.0        0.0          1.0          1.0  1.000000   \n",
       "1              1.0       0.0        1.0          1.0          1.0  0.030303   \n",
       "2              1.0       1.0        1.0          1.0          1.0  1.000000   \n",
       "3              1.0       1.0        1.0          1.0          1.0  0.020202   \n",
       "4              1.0       0.0        1.0          1.0          1.0  0.010101   \n",
       "...            ...       ...        ...          ...          ...       ...   \n",
       "146019         0.0       0.0        1.0          1.0          1.0  0.010101   \n",
       "146020         1.0       0.0        0.0          1.0          1.0  1.000000   \n",
       "146021         1.0       1.0        1.0          0.0          0.0  0.777778   \n",
       "146022         0.0       0.0        0.0          1.0          1.0  1.000000   \n",
       "146023         1.0       1.0        1.0          1.0          1.0  0.696970   \n",
       "\n",
       "        ind_var10cte_ult1  ind_var9_cte_ult1  ind_var43_recib_ult1  \\\n",
       "0                     0.0                0.0                   0.0   \n",
       "1                     0.0                0.0                   0.0   \n",
       "2                     0.0                0.0                   0.0   \n",
       "3                     1.0                1.0                   0.0   \n",
       "4                     0.0                0.0                   1.0   \n",
       "...                   ...                ...                   ...   \n",
       "146019                0.0                0.0                   0.0   \n",
       "146020                0.0                0.0                   0.0   \n",
       "146021                0.0                0.0                   0.0   \n",
       "146022                0.0                0.0                   0.0   \n",
       "146023                0.0                0.0                   0.0   \n",
       "\n",
       "        num_meses_var5_ult3  num_meses_var39_vig_ult3  \n",
       "0                  0.000000                  0.666667  \n",
       "1                  0.333333                  0.666667  \n",
       "2                  1.000000                  0.333333  \n",
       "3                  0.666667                  0.333333  \n",
       "4                  1.000000                  0.666667  \n",
       "...                     ...                       ...  \n",
       "146019             0.666667                  0.000000  \n",
       "146020             0.000000                  0.666667  \n",
       "146021             1.000000                  0.000000  \n",
       "146022             0.000000                  0.666667  \n",
       "146023             1.000000                  0.333333  \n",
       "\n",
       "[146024 rows x 11 columns]"
      ]
     },
     "execution_count": 26,
     "metadata": {},
     "output_type": "execute_result"
    }
   ],
   "source": [
    "selector = VarianceThreshold(threshold = 0.05)\n",
    "\n",
    "result = selector.fit_transform(scaled_x_smote)\n",
    "result = pd.DataFrame(result, columns=scaled_x_smote.columns[selector.get_support()])\n",
    "result"
   ]
  },
  {
   "cell_type": "code",
   "execution_count": 27,
   "id": "9889d98d",
   "metadata": {
    "execution": {
     "iopub.execute_input": "2023-10-15T15:53:39.540076Z",
     "iopub.status.busy": "2023-10-15T15:53:39.539204Z",
     "iopub.status.idle": "2023-10-15T15:53:40.160458Z",
     "shell.execute_reply": "2023-10-15T15:53:40.159211Z"
    },
    "papermill": {
     "duration": 0.650284,
     "end_time": "2023-10-15T15:53:40.162882",
     "exception": false,
     "start_time": "2023-10-15T15:53:39.512598",
     "status": "completed"
    },
    "tags": []
   },
   "outputs": [
    {
     "data": {
      "text/html": [
       "<div>\n",
       "<style scoped>\n",
       "    .dataframe tbody tr th:only-of-type {\n",
       "        vertical-align: middle;\n",
       "    }\n",
       "\n",
       "    .dataframe tbody tr th {\n",
       "        vertical-align: top;\n",
       "    }\n",
       "\n",
       "    .dataframe thead th {\n",
       "        text-align: right;\n",
       "    }\n",
       "</style>\n",
       "<table border=\"1\" class=\"dataframe\">\n",
       "  <thead>\n",
       "    <tr style=\"text-align: right;\">\n",
       "      <th></th>\n",
       "      <th>var15</th>\n",
       "      <th>ind_var5_0</th>\n",
       "      <th>ind_var5</th>\n",
       "      <th>ind_var8_0</th>\n",
       "      <th>ind_var8</th>\n",
       "      <th>ind_var12_0</th>\n",
       "      <th>ind_var12</th>\n",
       "      <th>ind_var13_0</th>\n",
       "      <th>ind_var13_corto_0</th>\n",
       "      <th>ind_var13_corto</th>\n",
       "      <th>...</th>\n",
       "      <th>ind_var10_ult1</th>\n",
       "      <th>ind_var10cte_ult1</th>\n",
       "      <th>ind_var9_cte_ult1</th>\n",
       "      <th>ind_var9_ult1</th>\n",
       "      <th>ind_var43_emit_ult1</th>\n",
       "      <th>ind_var43_recib_ult1</th>\n",
       "      <th>num_meses_var5_ult3</th>\n",
       "      <th>num_meses_var12_ult3</th>\n",
       "      <th>num_meses_var13_corto_ult3</th>\n",
       "      <th>num_meses_var39_vig_ult3</th>\n",
       "    </tr>\n",
       "  </thead>\n",
       "  <tbody>\n",
       "    <tr>\n",
       "      <th>0</th>\n",
       "      <td>0.18</td>\n",
       "      <td>1.0</td>\n",
       "      <td>0.0</td>\n",
       "      <td>0.0</td>\n",
       "      <td>0.0</td>\n",
       "      <td>0.0</td>\n",
       "      <td>0.0</td>\n",
       "      <td>0.0</td>\n",
       "      <td>0.0</td>\n",
       "      <td>0.0</td>\n",
       "      <td>...</td>\n",
       "      <td>0.0</td>\n",
       "      <td>0.0</td>\n",
       "      <td>0.0</td>\n",
       "      <td>0.0</td>\n",
       "      <td>0.0</td>\n",
       "      <td>0.0</td>\n",
       "      <td>0.000000</td>\n",
       "      <td>0.000000</td>\n",
       "      <td>0.0</td>\n",
       "      <td>0.666667</td>\n",
       "    </tr>\n",
       "    <tr>\n",
       "      <th>1</th>\n",
       "      <td>0.29</td>\n",
       "      <td>1.0</td>\n",
       "      <td>0.0</td>\n",
       "      <td>0.0</td>\n",
       "      <td>0.0</td>\n",
       "      <td>0.0</td>\n",
       "      <td>0.0</td>\n",
       "      <td>1.0</td>\n",
       "      <td>1.0</td>\n",
       "      <td>1.0</td>\n",
       "      <td>...</td>\n",
       "      <td>0.0</td>\n",
       "      <td>0.0</td>\n",
       "      <td>0.0</td>\n",
       "      <td>0.0</td>\n",
       "      <td>0.0</td>\n",
       "      <td>0.0</td>\n",
       "      <td>0.333333</td>\n",
       "      <td>0.000000</td>\n",
       "      <td>1.0</td>\n",
       "      <td>0.666667</td>\n",
       "    </tr>\n",
       "    <tr>\n",
       "      <th>2</th>\n",
       "      <td>0.18</td>\n",
       "      <td>1.0</td>\n",
       "      <td>1.0</td>\n",
       "      <td>0.0</td>\n",
       "      <td>0.0</td>\n",
       "      <td>0.0</td>\n",
       "      <td>0.0</td>\n",
       "      <td>0.0</td>\n",
       "      <td>0.0</td>\n",
       "      <td>0.0</td>\n",
       "      <td>...</td>\n",
       "      <td>0.0</td>\n",
       "      <td>0.0</td>\n",
       "      <td>0.0</td>\n",
       "      <td>0.0</td>\n",
       "      <td>0.0</td>\n",
       "      <td>0.0</td>\n",
       "      <td>1.000000</td>\n",
       "      <td>0.000000</td>\n",
       "      <td>0.0</td>\n",
       "      <td>0.333333</td>\n",
       "    </tr>\n",
       "    <tr>\n",
       "      <th>3</th>\n",
       "      <td>0.32</td>\n",
       "      <td>1.0</td>\n",
       "      <td>1.0</td>\n",
       "      <td>0.0</td>\n",
       "      <td>0.0</td>\n",
       "      <td>0.0</td>\n",
       "      <td>0.0</td>\n",
       "      <td>0.0</td>\n",
       "      <td>0.0</td>\n",
       "      <td>0.0</td>\n",
       "      <td>...</td>\n",
       "      <td>1.0</td>\n",
       "      <td>1.0</td>\n",
       "      <td>1.0</td>\n",
       "      <td>1.0</td>\n",
       "      <td>0.0</td>\n",
       "      <td>0.0</td>\n",
       "      <td>0.666667</td>\n",
       "      <td>0.000000</td>\n",
       "      <td>0.0</td>\n",
       "      <td>0.333333</td>\n",
       "    </tr>\n",
       "    <tr>\n",
       "      <th>4</th>\n",
       "      <td>0.34</td>\n",
       "      <td>1.0</td>\n",
       "      <td>0.0</td>\n",
       "      <td>0.0</td>\n",
       "      <td>0.0</td>\n",
       "      <td>1.0</td>\n",
       "      <td>1.0</td>\n",
       "      <td>0.0</td>\n",
       "      <td>0.0</td>\n",
       "      <td>0.0</td>\n",
       "      <td>...</td>\n",
       "      <td>0.0</td>\n",
       "      <td>0.0</td>\n",
       "      <td>0.0</td>\n",
       "      <td>0.0</td>\n",
       "      <td>1.0</td>\n",
       "      <td>1.0</td>\n",
       "      <td>1.000000</td>\n",
       "      <td>0.333333</td>\n",
       "      <td>0.0</td>\n",
       "      <td>0.666667</td>\n",
       "    </tr>\n",
       "    <tr>\n",
       "      <th>...</th>\n",
       "      <td>...</td>\n",
       "      <td>...</td>\n",
       "      <td>...</td>\n",
       "      <td>...</td>\n",
       "      <td>...</td>\n",
       "      <td>...</td>\n",
       "      <td>...</td>\n",
       "      <td>...</td>\n",
       "      <td>...</td>\n",
       "      <td>...</td>\n",
       "      <td>...</td>\n",
       "      <td>...</td>\n",
       "      <td>...</td>\n",
       "      <td>...</td>\n",
       "      <td>...</td>\n",
       "      <td>...</td>\n",
       "      <td>...</td>\n",
       "      <td>...</td>\n",
       "      <td>...</td>\n",
       "      <td>...</td>\n",
       "      <td>...</td>\n",
       "    </tr>\n",
       "    <tr>\n",
       "      <th>146019</th>\n",
       "      <td>0.41</td>\n",
       "      <td>0.0</td>\n",
       "      <td>0.0</td>\n",
       "      <td>0.0</td>\n",
       "      <td>0.0</td>\n",
       "      <td>0.0</td>\n",
       "      <td>0.0</td>\n",
       "      <td>0.0</td>\n",
       "      <td>0.0</td>\n",
       "      <td>0.0</td>\n",
       "      <td>...</td>\n",
       "      <td>0.0</td>\n",
       "      <td>0.0</td>\n",
       "      <td>0.0</td>\n",
       "      <td>0.0</td>\n",
       "      <td>0.0</td>\n",
       "      <td>0.0</td>\n",
       "      <td>0.666667</td>\n",
       "      <td>0.000000</td>\n",
       "      <td>0.0</td>\n",
       "      <td>0.000000</td>\n",
       "    </tr>\n",
       "    <tr>\n",
       "      <th>146020</th>\n",
       "      <td>0.30</td>\n",
       "      <td>1.0</td>\n",
       "      <td>0.0</td>\n",
       "      <td>0.0</td>\n",
       "      <td>0.0</td>\n",
       "      <td>0.0</td>\n",
       "      <td>0.0</td>\n",
       "      <td>0.0</td>\n",
       "      <td>0.0</td>\n",
       "      <td>0.0</td>\n",
       "      <td>...</td>\n",
       "      <td>0.0</td>\n",
       "      <td>0.0</td>\n",
       "      <td>0.0</td>\n",
       "      <td>0.0</td>\n",
       "      <td>0.0</td>\n",
       "      <td>0.0</td>\n",
       "      <td>0.000000</td>\n",
       "      <td>0.000000</td>\n",
       "      <td>0.0</td>\n",
       "      <td>0.666667</td>\n",
       "    </tr>\n",
       "    <tr>\n",
       "      <th>146021</th>\n",
       "      <td>0.19</td>\n",
       "      <td>1.0</td>\n",
       "      <td>1.0</td>\n",
       "      <td>0.0</td>\n",
       "      <td>0.0</td>\n",
       "      <td>0.0</td>\n",
       "      <td>0.0</td>\n",
       "      <td>0.0</td>\n",
       "      <td>0.0</td>\n",
       "      <td>0.0</td>\n",
       "      <td>...</td>\n",
       "      <td>0.0</td>\n",
       "      <td>0.0</td>\n",
       "      <td>0.0</td>\n",
       "      <td>0.0</td>\n",
       "      <td>0.0</td>\n",
       "      <td>0.0</td>\n",
       "      <td>1.000000</td>\n",
       "      <td>0.000000</td>\n",
       "      <td>0.0</td>\n",
       "      <td>0.000000</td>\n",
       "    </tr>\n",
       "    <tr>\n",
       "      <th>146022</th>\n",
       "      <td>0.28</td>\n",
       "      <td>0.0</td>\n",
       "      <td>0.0</td>\n",
       "      <td>0.0</td>\n",
       "      <td>0.0</td>\n",
       "      <td>0.0</td>\n",
       "      <td>0.0</td>\n",
       "      <td>0.0</td>\n",
       "      <td>0.0</td>\n",
       "      <td>0.0</td>\n",
       "      <td>...</td>\n",
       "      <td>0.0</td>\n",
       "      <td>0.0</td>\n",
       "      <td>0.0</td>\n",
       "      <td>0.0</td>\n",
       "      <td>0.0</td>\n",
       "      <td>0.0</td>\n",
       "      <td>0.000000</td>\n",
       "      <td>0.000000</td>\n",
       "      <td>0.0</td>\n",
       "      <td>0.666667</td>\n",
       "    </tr>\n",
       "    <tr>\n",
       "      <th>146023</th>\n",
       "      <td>0.31</td>\n",
       "      <td>1.0</td>\n",
       "      <td>1.0</td>\n",
       "      <td>0.0</td>\n",
       "      <td>0.0</td>\n",
       "      <td>0.0</td>\n",
       "      <td>0.0</td>\n",
       "      <td>0.0</td>\n",
       "      <td>0.0</td>\n",
       "      <td>0.0</td>\n",
       "      <td>...</td>\n",
       "      <td>0.0</td>\n",
       "      <td>0.0</td>\n",
       "      <td>0.0</td>\n",
       "      <td>0.0</td>\n",
       "      <td>0.0</td>\n",
       "      <td>0.0</td>\n",
       "      <td>1.000000</td>\n",
       "      <td>0.000000</td>\n",
       "      <td>0.0</td>\n",
       "      <td>0.333333</td>\n",
       "    </tr>\n",
       "  </tbody>\n",
       "</table>\n",
       "<p>146024 rows × 39 columns</p>\n",
       "</div>"
      ],
      "text/plain": [
       "        var15  ind_var5_0  ind_var5  ind_var8_0  ind_var8  ind_var12_0  \\\n",
       "0        0.18         1.0       0.0         0.0       0.0          0.0   \n",
       "1        0.29         1.0       0.0         0.0       0.0          0.0   \n",
       "2        0.18         1.0       1.0         0.0       0.0          0.0   \n",
       "3        0.32         1.0       1.0         0.0       0.0          0.0   \n",
       "4        0.34         1.0       0.0         0.0       0.0          1.0   \n",
       "...       ...         ...       ...         ...       ...          ...   \n",
       "146019   0.41         0.0       0.0         0.0       0.0          0.0   \n",
       "146020   0.30         1.0       0.0         0.0       0.0          0.0   \n",
       "146021   0.19         1.0       1.0         0.0       0.0          0.0   \n",
       "146022   0.28         0.0       0.0         0.0       0.0          0.0   \n",
       "146023   0.31         1.0       1.0         0.0       0.0          0.0   \n",
       "\n",
       "        ind_var12  ind_var13_0  ind_var13_corto_0  ind_var13_corto  ...  \\\n",
       "0             0.0          0.0                0.0              0.0  ...   \n",
       "1             0.0          1.0                1.0              1.0  ...   \n",
       "2             0.0          0.0                0.0              0.0  ...   \n",
       "3             0.0          0.0                0.0              0.0  ...   \n",
       "4             1.0          0.0                0.0              0.0  ...   \n",
       "...           ...          ...                ...              ...  ...   \n",
       "146019        0.0          0.0                0.0              0.0  ...   \n",
       "146020        0.0          0.0                0.0              0.0  ...   \n",
       "146021        0.0          0.0                0.0              0.0  ...   \n",
       "146022        0.0          0.0                0.0              0.0  ...   \n",
       "146023        0.0          0.0                0.0              0.0  ...   \n",
       "\n",
       "        ind_var10_ult1  ind_var10cte_ult1  ind_var9_cte_ult1  ind_var9_ult1  \\\n",
       "0                  0.0                0.0                0.0            0.0   \n",
       "1                  0.0                0.0                0.0            0.0   \n",
       "2                  0.0                0.0                0.0            0.0   \n",
       "3                  1.0                1.0                1.0            1.0   \n",
       "4                  0.0                0.0                0.0            0.0   \n",
       "...                ...                ...                ...            ...   \n",
       "146019             0.0                0.0                0.0            0.0   \n",
       "146020             0.0                0.0                0.0            0.0   \n",
       "146021             0.0                0.0                0.0            0.0   \n",
       "146022             0.0                0.0                0.0            0.0   \n",
       "146023             0.0                0.0                0.0            0.0   \n",
       "\n",
       "        ind_var43_emit_ult1  ind_var43_recib_ult1  num_meses_var5_ult3  \\\n",
       "0                       0.0                   0.0             0.000000   \n",
       "1                       0.0                   0.0             0.333333   \n",
       "2                       0.0                   0.0             1.000000   \n",
       "3                       0.0                   0.0             0.666667   \n",
       "4                       1.0                   1.0             1.000000   \n",
       "...                     ...                   ...                  ...   \n",
       "146019                  0.0                   0.0             0.666667   \n",
       "146020                  0.0                   0.0             0.000000   \n",
       "146021                  0.0                   0.0             1.000000   \n",
       "146022                  0.0                   0.0             0.000000   \n",
       "146023                  0.0                   0.0             1.000000   \n",
       "\n",
       "        num_meses_var12_ult3  num_meses_var13_corto_ult3  \\\n",
       "0                   0.000000                         0.0   \n",
       "1                   0.000000                         1.0   \n",
       "2                   0.000000                         0.0   \n",
       "3                   0.000000                         0.0   \n",
       "4                   0.333333                         0.0   \n",
       "...                      ...                         ...   \n",
       "146019              0.000000                         0.0   \n",
       "146020              0.000000                         0.0   \n",
       "146021              0.000000                         0.0   \n",
       "146022              0.000000                         0.0   \n",
       "146023              0.000000                         0.0   \n",
       "\n",
       "        num_meses_var39_vig_ult3  \n",
       "0                       0.666667  \n",
       "1                       0.666667  \n",
       "2                       0.333333  \n",
       "3                       0.333333  \n",
       "4                       0.666667  \n",
       "...                          ...  \n",
       "146019                  0.000000  \n",
       "146020                  0.666667  \n",
       "146021                  0.000000  \n",
       "146022                  0.666667  \n",
       "146023                  0.333333  \n",
       "\n",
       "[146024 rows x 39 columns]"
      ]
     },
     "execution_count": 27,
     "metadata": {},
     "output_type": "execute_result"
    }
   ],
   "source": [
    "selector = VarianceThreshold(threshold = 0.01)\n",
    "\n",
    "result = selector.fit_transform(scaled_x_smote)\n",
    "result = pd.DataFrame(result, columns=scaled_x_smote.columns[selector.get_support()])\n",
    "result"
   ]
  },
  {
   "cell_type": "code",
   "execution_count": 28,
   "id": "b30af1d8",
   "metadata": {
    "execution": {
     "iopub.execute_input": "2023-10-15T15:53:40.220415Z",
     "iopub.status.busy": "2023-10-15T15:53:40.219880Z",
     "iopub.status.idle": "2023-10-15T15:53:40.826107Z",
     "shell.execute_reply": "2023-10-15T15:53:40.825075Z"
    },
    "papermill": {
     "duration": 0.639045,
     "end_time": "2023-10-15T15:53:40.829553",
     "exception": false,
     "start_time": "2023-10-15T15:53:40.190508",
     "status": "completed"
    },
    "tags": []
   },
   "outputs": [
    {
     "data": {
      "text/html": [
       "<div>\n",
       "<style scoped>\n",
       "    .dataframe tbody tr th:only-of-type {\n",
       "        vertical-align: middle;\n",
       "    }\n",
       "\n",
       "    .dataframe tbody tr th {\n",
       "        vertical-align: top;\n",
       "    }\n",
       "\n",
       "    .dataframe thead th {\n",
       "        text-align: right;\n",
       "    }\n",
       "</style>\n",
       "<table border=\"1\" class=\"dataframe\">\n",
       "  <thead>\n",
       "    <tr style=\"text-align: right;\">\n",
       "      <th></th>\n",
       "      <th>var3</th>\n",
       "      <th>var15</th>\n",
       "      <th>ind_var1_0</th>\n",
       "      <th>ind_var1</th>\n",
       "      <th>ind_var5_0</th>\n",
       "      <th>ind_var5</th>\n",
       "      <th>ind_var8_0</th>\n",
       "      <th>ind_var8</th>\n",
       "      <th>ind_var12_0</th>\n",
       "      <th>ind_var12</th>\n",
       "      <th>...</th>\n",
       "      <th>num_meses_var13_largo_ult3</th>\n",
       "      <th>num_meses_var39_vig_ult3</th>\n",
       "      <th>num_op_var41_efect_ult1</th>\n",
       "      <th>num_op_var39_efect_ult1</th>\n",
       "      <th>num_op_var39_efect_ult3</th>\n",
       "      <th>num_var45_hace2</th>\n",
       "      <th>num_var45_ult3</th>\n",
       "      <th>saldo_medio_var13_corto_hace2</th>\n",
       "      <th>saldo_medio_var13_corto_ult1</th>\n",
       "      <th>saldo_medio_var13_corto_ult3</th>\n",
       "    </tr>\n",
       "  </thead>\n",
       "  <tbody>\n",
       "    <tr>\n",
       "      <th>0</th>\n",
       "      <td>0.999764</td>\n",
       "      <td>0.18</td>\n",
       "      <td>0.0</td>\n",
       "      <td>0.0</td>\n",
       "      <td>1.0</td>\n",
       "      <td>0.0</td>\n",
       "      <td>0.0</td>\n",
       "      <td>0.0</td>\n",
       "      <td>0.0</td>\n",
       "      <td>0.0</td>\n",
       "      <td>...</td>\n",
       "      <td>0.0</td>\n",
       "      <td>0.666667</td>\n",
       "      <td>0.0</td>\n",
       "      <td>0.0</td>\n",
       "      <td>0.0</td>\n",
       "      <td>0.000000</td>\n",
       "      <td>0.000000</td>\n",
       "      <td>0.000000</td>\n",
       "      <td>0.000000</td>\n",
       "      <td>0.000000</td>\n",
       "    </tr>\n",
       "    <tr>\n",
       "      <th>1</th>\n",
       "      <td>0.999764</td>\n",
       "      <td>0.29</td>\n",
       "      <td>0.0</td>\n",
       "      <td>0.0</td>\n",
       "      <td>1.0</td>\n",
       "      <td>0.0</td>\n",
       "      <td>0.0</td>\n",
       "      <td>0.0</td>\n",
       "      <td>0.0</td>\n",
       "      <td>0.0</td>\n",
       "      <td>...</td>\n",
       "      <td>0.0</td>\n",
       "      <td>0.666667</td>\n",
       "      <td>0.0</td>\n",
       "      <td>0.0</td>\n",
       "      <td>0.0</td>\n",
       "      <td>0.000000</td>\n",
       "      <td>0.000000</td>\n",
       "      <td>0.000667</td>\n",
       "      <td>0.000667</td>\n",
       "      <td>0.000535</td>\n",
       "    </tr>\n",
       "    <tr>\n",
       "      <th>2</th>\n",
       "      <td>0.999764</td>\n",
       "      <td>0.18</td>\n",
       "      <td>0.0</td>\n",
       "      <td>0.0</td>\n",
       "      <td>1.0</td>\n",
       "      <td>1.0</td>\n",
       "      <td>0.0</td>\n",
       "      <td>0.0</td>\n",
       "      <td>0.0</td>\n",
       "      <td>0.0</td>\n",
       "      <td>...</td>\n",
       "      <td>0.0</td>\n",
       "      <td>0.333333</td>\n",
       "      <td>0.0</td>\n",
       "      <td>0.0</td>\n",
       "      <td>0.0</td>\n",
       "      <td>0.000000</td>\n",
       "      <td>0.000000</td>\n",
       "      <td>0.000000</td>\n",
       "      <td>0.000000</td>\n",
       "      <td>0.000000</td>\n",
       "    </tr>\n",
       "    <tr>\n",
       "      <th>3</th>\n",
       "      <td>0.999764</td>\n",
       "      <td>0.32</td>\n",
       "      <td>0.0</td>\n",
       "      <td>0.0</td>\n",
       "      <td>1.0</td>\n",
       "      <td>1.0</td>\n",
       "      <td>0.0</td>\n",
       "      <td>0.0</td>\n",
       "      <td>0.0</td>\n",
       "      <td>0.0</td>\n",
       "      <td>...</td>\n",
       "      <td>0.0</td>\n",
       "      <td>0.333333</td>\n",
       "      <td>0.0</td>\n",
       "      <td>0.0</td>\n",
       "      <td>0.0</td>\n",
       "      <td>0.078947</td>\n",
       "      <td>0.059925</td>\n",
       "      <td>0.000000</td>\n",
       "      <td>0.000000</td>\n",
       "      <td>0.000000</td>\n",
       "    </tr>\n",
       "    <tr>\n",
       "      <th>4</th>\n",
       "      <td>0.999764</td>\n",
       "      <td>0.34</td>\n",
       "      <td>0.0</td>\n",
       "      <td>0.0</td>\n",
       "      <td>1.0</td>\n",
       "      <td>0.0</td>\n",
       "      <td>0.0</td>\n",
       "      <td>0.0</td>\n",
       "      <td>1.0</td>\n",
       "      <td>1.0</td>\n",
       "      <td>...</td>\n",
       "      <td>0.0</td>\n",
       "      <td>0.666667</td>\n",
       "      <td>0.0</td>\n",
       "      <td>0.0</td>\n",
       "      <td>0.0</td>\n",
       "      <td>0.000000</td>\n",
       "      <td>0.000000</td>\n",
       "      <td>0.000000</td>\n",
       "      <td>0.000000</td>\n",
       "      <td>0.000000</td>\n",
       "    </tr>\n",
       "    <tr>\n",
       "      <th>...</th>\n",
       "      <td>...</td>\n",
       "      <td>...</td>\n",
       "      <td>...</td>\n",
       "      <td>...</td>\n",
       "      <td>...</td>\n",
       "      <td>...</td>\n",
       "      <td>...</td>\n",
       "      <td>...</td>\n",
       "      <td>...</td>\n",
       "      <td>...</td>\n",
       "      <td>...</td>\n",
       "      <td>...</td>\n",
       "      <td>...</td>\n",
       "      <td>...</td>\n",
       "      <td>...</td>\n",
       "      <td>...</td>\n",
       "      <td>...</td>\n",
       "      <td>...</td>\n",
       "      <td>...</td>\n",
       "      <td>...</td>\n",
       "      <td>...</td>\n",
       "    </tr>\n",
       "    <tr>\n",
       "      <th>146019</th>\n",
       "      <td>0.999764</td>\n",
       "      <td>0.41</td>\n",
       "      <td>0.0</td>\n",
       "      <td>0.0</td>\n",
       "      <td>0.0</td>\n",
       "      <td>0.0</td>\n",
       "      <td>0.0</td>\n",
       "      <td>0.0</td>\n",
       "      <td>0.0</td>\n",
       "      <td>0.0</td>\n",
       "      <td>...</td>\n",
       "      <td>0.0</td>\n",
       "      <td>0.000000</td>\n",
       "      <td>0.0</td>\n",
       "      <td>0.0</td>\n",
       "      <td>0.0</td>\n",
       "      <td>0.002924</td>\n",
       "      <td>0.003745</td>\n",
       "      <td>0.000000</td>\n",
       "      <td>0.000000</td>\n",
       "      <td>0.000000</td>\n",
       "    </tr>\n",
       "    <tr>\n",
       "      <th>146020</th>\n",
       "      <td>0.999764</td>\n",
       "      <td>0.30</td>\n",
       "      <td>0.0</td>\n",
       "      <td>0.0</td>\n",
       "      <td>1.0</td>\n",
       "      <td>0.0</td>\n",
       "      <td>0.0</td>\n",
       "      <td>0.0</td>\n",
       "      <td>0.0</td>\n",
       "      <td>0.0</td>\n",
       "      <td>...</td>\n",
       "      <td>0.0</td>\n",
       "      <td>0.666667</td>\n",
       "      <td>0.0</td>\n",
       "      <td>0.0</td>\n",
       "      <td>0.0</td>\n",
       "      <td>0.000000</td>\n",
       "      <td>0.000000</td>\n",
       "      <td>0.000000</td>\n",
       "      <td>0.000000</td>\n",
       "      <td>0.000000</td>\n",
       "    </tr>\n",
       "    <tr>\n",
       "      <th>146021</th>\n",
       "      <td>0.999764</td>\n",
       "      <td>0.19</td>\n",
       "      <td>0.0</td>\n",
       "      <td>0.0</td>\n",
       "      <td>1.0</td>\n",
       "      <td>1.0</td>\n",
       "      <td>0.0</td>\n",
       "      <td>0.0</td>\n",
       "      <td>0.0</td>\n",
       "      <td>0.0</td>\n",
       "      <td>...</td>\n",
       "      <td>0.0</td>\n",
       "      <td>0.000000</td>\n",
       "      <td>0.0</td>\n",
       "      <td>0.0</td>\n",
       "      <td>0.0</td>\n",
       "      <td>0.000000</td>\n",
       "      <td>0.000000</td>\n",
       "      <td>0.000000</td>\n",
       "      <td>0.000000</td>\n",
       "      <td>0.000000</td>\n",
       "    </tr>\n",
       "    <tr>\n",
       "      <th>146022</th>\n",
       "      <td>0.999764</td>\n",
       "      <td>0.28</td>\n",
       "      <td>0.0</td>\n",
       "      <td>0.0</td>\n",
       "      <td>0.0</td>\n",
       "      <td>0.0</td>\n",
       "      <td>0.0</td>\n",
       "      <td>0.0</td>\n",
       "      <td>0.0</td>\n",
       "      <td>0.0</td>\n",
       "      <td>...</td>\n",
       "      <td>0.0</td>\n",
       "      <td>0.666667</td>\n",
       "      <td>0.0</td>\n",
       "      <td>0.0</td>\n",
       "      <td>0.0</td>\n",
       "      <td>0.005848</td>\n",
       "      <td>0.011236</td>\n",
       "      <td>0.000000</td>\n",
       "      <td>0.000000</td>\n",
       "      <td>0.000000</td>\n",
       "    </tr>\n",
       "    <tr>\n",
       "      <th>146023</th>\n",
       "      <td>0.999764</td>\n",
       "      <td>0.31</td>\n",
       "      <td>0.0</td>\n",
       "      <td>0.0</td>\n",
       "      <td>1.0</td>\n",
       "      <td>1.0</td>\n",
       "      <td>0.0</td>\n",
       "      <td>0.0</td>\n",
       "      <td>0.0</td>\n",
       "      <td>0.0</td>\n",
       "      <td>...</td>\n",
       "      <td>0.0</td>\n",
       "      <td>0.333333</td>\n",
       "      <td>0.0</td>\n",
       "      <td>0.0</td>\n",
       "      <td>0.0</td>\n",
       "      <td>0.000000</td>\n",
       "      <td>0.002497</td>\n",
       "      <td>0.000000</td>\n",
       "      <td>0.000000</td>\n",
       "      <td>0.000000</td>\n",
       "    </tr>\n",
       "  </tbody>\n",
       "</table>\n",
       "<p>146024 rows × 92 columns</p>\n",
       "</div>"
      ],
      "text/plain": [
       "            var3  var15  ind_var1_0  ind_var1  ind_var5_0  ind_var5  \\\n",
       "0       0.999764   0.18         0.0       0.0         1.0       0.0   \n",
       "1       0.999764   0.29         0.0       0.0         1.0       0.0   \n",
       "2       0.999764   0.18         0.0       0.0         1.0       1.0   \n",
       "3       0.999764   0.32         0.0       0.0         1.0       1.0   \n",
       "4       0.999764   0.34         0.0       0.0         1.0       0.0   \n",
       "...          ...    ...         ...       ...         ...       ...   \n",
       "146019  0.999764   0.41         0.0       0.0         0.0       0.0   \n",
       "146020  0.999764   0.30         0.0       0.0         1.0       0.0   \n",
       "146021  0.999764   0.19         0.0       0.0         1.0       1.0   \n",
       "146022  0.999764   0.28         0.0       0.0         0.0       0.0   \n",
       "146023  0.999764   0.31         0.0       0.0         1.0       1.0   \n",
       "\n",
       "        ind_var8_0  ind_var8  ind_var12_0  ind_var12  ...  \\\n",
       "0              0.0       0.0          0.0        0.0  ...   \n",
       "1              0.0       0.0          0.0        0.0  ...   \n",
       "2              0.0       0.0          0.0        0.0  ...   \n",
       "3              0.0       0.0          0.0        0.0  ...   \n",
       "4              0.0       0.0          1.0        1.0  ...   \n",
       "...            ...       ...          ...        ...  ...   \n",
       "146019         0.0       0.0          0.0        0.0  ...   \n",
       "146020         0.0       0.0          0.0        0.0  ...   \n",
       "146021         0.0       0.0          0.0        0.0  ...   \n",
       "146022         0.0       0.0          0.0        0.0  ...   \n",
       "146023         0.0       0.0          0.0        0.0  ...   \n",
       "\n",
       "        num_meses_var13_largo_ult3  num_meses_var39_vig_ult3  \\\n",
       "0                              0.0                  0.666667   \n",
       "1                              0.0                  0.666667   \n",
       "2                              0.0                  0.333333   \n",
       "3                              0.0                  0.333333   \n",
       "4                              0.0                  0.666667   \n",
       "...                            ...                       ...   \n",
       "146019                         0.0                  0.000000   \n",
       "146020                         0.0                  0.666667   \n",
       "146021                         0.0                  0.000000   \n",
       "146022                         0.0                  0.666667   \n",
       "146023                         0.0                  0.333333   \n",
       "\n",
       "        num_op_var41_efect_ult1  num_op_var39_efect_ult1  \\\n",
       "0                           0.0                      0.0   \n",
       "1                           0.0                      0.0   \n",
       "2                           0.0                      0.0   \n",
       "3                           0.0                      0.0   \n",
       "4                           0.0                      0.0   \n",
       "...                         ...                      ...   \n",
       "146019                      0.0                      0.0   \n",
       "146020                      0.0                      0.0   \n",
       "146021                      0.0                      0.0   \n",
       "146022                      0.0                      0.0   \n",
       "146023                      0.0                      0.0   \n",
       "\n",
       "        num_op_var39_efect_ult3  num_var45_hace2  num_var45_ult3  \\\n",
       "0                           0.0         0.000000        0.000000   \n",
       "1                           0.0         0.000000        0.000000   \n",
       "2                           0.0         0.000000        0.000000   \n",
       "3                           0.0         0.078947        0.059925   \n",
       "4                           0.0         0.000000        0.000000   \n",
       "...                         ...              ...             ...   \n",
       "146019                      0.0         0.002924        0.003745   \n",
       "146020                      0.0         0.000000        0.000000   \n",
       "146021                      0.0         0.000000        0.000000   \n",
       "146022                      0.0         0.005848        0.011236   \n",
       "146023                      0.0         0.000000        0.002497   \n",
       "\n",
       "        saldo_medio_var13_corto_hace2  saldo_medio_var13_corto_ult1  \\\n",
       "0                            0.000000                      0.000000   \n",
       "1                            0.000667                      0.000667   \n",
       "2                            0.000000                      0.000000   \n",
       "3                            0.000000                      0.000000   \n",
       "4                            0.000000                      0.000000   \n",
       "...                               ...                           ...   \n",
       "146019                       0.000000                      0.000000   \n",
       "146020                       0.000000                      0.000000   \n",
       "146021                       0.000000                      0.000000   \n",
       "146022                       0.000000                      0.000000   \n",
       "146023                       0.000000                      0.000000   \n",
       "\n",
       "        saldo_medio_var13_corto_ult3  \n",
       "0                           0.000000  \n",
       "1                           0.000535  \n",
       "2                           0.000000  \n",
       "3                           0.000000  \n",
       "4                           0.000000  \n",
       "...                              ...  \n",
       "146019                      0.000000  \n",
       "146020                      0.000000  \n",
       "146021                      0.000000  \n",
       "146022                      0.000000  \n",
       "146023                      0.000000  \n",
       "\n",
       "[146024 rows x 92 columns]"
      ]
     },
     "execution_count": 28,
     "metadata": {},
     "output_type": "execute_result"
    }
   ],
   "source": [
    "selector = VarianceThreshold(threshold = 0.001)\n",
    "\n",
    "result = selector.fit_transform(scaled_x_smote)\n",
    "result = pd.DataFrame(result, columns=scaled_x_smote.columns[selector.get_support()])\n",
    "result"
   ]
  },
  {
   "cell_type": "markdown",
   "id": "645f0899",
   "metadata": {
    "papermill": {
     "duration": 0.0296,
     "end_time": "2023-10-15T15:53:40.886114",
     "exception": false,
     "start_time": "2023-10-15T15:53:40.856514",
     "status": "completed"
    },
    "tags": []
   },
   "source": [
    "Os resultados mais interessantes gerados pelo algoritmo são os de variância de 1% e 5%. Vamos separá-los."
   ]
  },
  {
   "cell_type": "code",
   "execution_count": 29,
   "id": "f2f5e23c",
   "metadata": {
    "execution": {
     "iopub.execute_input": "2023-10-15T15:53:40.941387Z",
     "iopub.status.busy": "2023-10-15T15:53:40.940647Z",
     "iopub.status.idle": "2023-10-15T15:53:42.040829Z",
     "shell.execute_reply": "2023-10-15T15:53:42.039492Z"
    },
    "papermill": {
     "duration": 1.130872,
     "end_time": "2023-10-15T15:53:42.043493",
     "exception": false,
     "start_time": "2023-10-15T15:53:40.912621",
     "status": "completed"
    },
    "tags": []
   },
   "outputs": [],
   "source": [
    "selector = VarianceThreshold(threshold = 0.05)\n",
    "result = selector.fit_transform(scaled_x_smote)\n",
    "result = pd.DataFrame(result, columns=scaled_x_smote.columns[selector.get_support()])\n",
    "\n",
    "COLUNAS_VARIANCIA_5 = set(result.columns)\n",
    "\n",
    "selector = VarianceThreshold(threshold = 0.01)\n",
    "result = selector.fit_transform(scaled_x_smote)\n",
    "result = pd.DataFrame(result, columns=scaled_x_smote.columns[selector.get_support()])\n",
    "\n",
    "COLUNAS_VARIANCIA_1 = set(result.columns)"
   ]
  },
  {
   "cell_type": "markdown",
   "id": "1cf2d585",
   "metadata": {
    "papermill": {
     "duration": 0.025571,
     "end_time": "2023-10-15T15:53:42.095410",
     "exception": false,
     "start_time": "2023-10-15T15:53:42.069839",
     "status": "completed"
    },
    "tags": []
   },
   "source": [
    "#### 2.2 SelectKBest\n",
    "O chi2não depende do escalamento do conjunto de dados."
   ]
  },
  {
   "cell_type": "code",
   "execution_count": 30,
   "id": "97fc114f",
   "metadata": {
    "execution": {
     "iopub.execute_input": "2023-10-15T15:53:42.150422Z",
     "iopub.status.busy": "2023-10-15T15:53:42.149649Z",
     "iopub.status.idle": "2023-10-15T15:53:42.154438Z",
     "shell.execute_reply": "2023-10-15T15:53:42.153630Z"
    },
    "papermill": {
     "duration": 0.034478,
     "end_time": "2023-10-15T15:53:42.156413",
     "exception": false,
     "start_time": "2023-10-15T15:53:42.121935",
     "status": "completed"
    },
    "tags": []
   },
   "outputs": [],
   "source": [
    "from sklearn.feature_selection import SelectKBest\n",
    "from sklearn.feature_selection import chi2"
   ]
  },
  {
   "cell_type": "code",
   "execution_count": 31,
   "id": "dfcd4f96",
   "metadata": {
    "execution": {
     "iopub.execute_input": "2023-10-15T15:53:42.211034Z",
     "iopub.status.busy": "2023-10-15T15:53:42.210410Z",
     "iopub.status.idle": "2023-10-15T15:53:42.534439Z",
     "shell.execute_reply": "2023-10-15T15:53:42.533034Z"
    },
    "papermill": {
     "duration": 0.354439,
     "end_time": "2023-10-15T15:53:42.537279",
     "exception": false,
     "start_time": "2023-10-15T15:53:42.182840",
     "status": "completed"
    },
    "tags": []
   },
   "outputs": [],
   "source": [
    "selector = SelectKBest(chi2, k = 10)\n",
    "result = selector.fit_transform(scaled_x_smote, TARGET)\n",
    "result = pd.DataFrame(result, columns=scaled_x_smote.columns[selector.get_support()])\n",
    "\n",
    "SELECT_10_BEST = set(result.columns)"
   ]
  },
  {
   "cell_type": "code",
   "execution_count": 32,
   "id": "e143fe05",
   "metadata": {
    "execution": {
     "iopub.execute_input": "2023-10-15T15:53:42.593467Z",
     "iopub.status.busy": "2023-10-15T15:53:42.592753Z",
     "iopub.status.idle": "2023-10-15T15:53:42.893104Z",
     "shell.execute_reply": "2023-10-15T15:53:42.891933Z"
    },
    "papermill": {
     "duration": 0.331692,
     "end_time": "2023-10-15T15:53:42.895913",
     "exception": false,
     "start_time": "2023-10-15T15:53:42.564221",
     "status": "completed"
    },
    "tags": []
   },
   "outputs": [],
   "source": [
    "selector = SelectKBest(chi2, k = 20)\n",
    "result = selector.fit_transform(scaled_x_smote, TARGET)\n",
    "result = pd.DataFrame(result, columns=scaled_x_smote.columns[selector.get_support()])\n",
    "\n",
    "SELECT_20_BEST = set(result.columns)"
   ]
  },
  {
   "cell_type": "code",
   "execution_count": 33,
   "id": "480d3a45",
   "metadata": {
    "execution": {
     "iopub.execute_input": "2023-10-15T15:53:42.950475Z",
     "iopub.status.busy": "2023-10-15T15:53:42.950039Z",
     "iopub.status.idle": "2023-10-15T15:53:43.253192Z",
     "shell.execute_reply": "2023-10-15T15:53:43.252026Z"
    },
    "papermill": {
     "duration": 0.333828,
     "end_time": "2023-10-15T15:53:43.255768",
     "exception": false,
     "start_time": "2023-10-15T15:53:42.921940",
     "status": "completed"
    },
    "tags": []
   },
   "outputs": [],
   "source": [
    "selector = SelectKBest(chi2, k = 30)\n",
    "result = selector.fit_transform(scaled_x_smote, TARGET)\n",
    "result = pd.DataFrame(result, columns=scaled_x_smote.columns[selector.get_support()])\n",
    "\n",
    "SELECT_30_BEST = set(result.columns)"
   ]
  },
  {
   "cell_type": "code",
   "execution_count": 34,
   "id": "07344fcb",
   "metadata": {
    "execution": {
     "iopub.execute_input": "2023-10-15T15:53:43.310405Z",
     "iopub.status.busy": "2023-10-15T15:53:43.309720Z",
     "iopub.status.idle": "2023-10-15T15:53:43.615135Z",
     "shell.execute_reply": "2023-10-15T15:53:43.613829Z"
    },
    "papermill": {
     "duration": 0.336072,
     "end_time": "2023-10-15T15:53:43.617937",
     "exception": false,
     "start_time": "2023-10-15T15:53:43.281865",
     "status": "completed"
    },
    "tags": []
   },
   "outputs": [],
   "source": [
    "selector = SelectKBest(chi2, k = 40)\n",
    "result = selector.fit_transform(scaled_x_smote, TARGET)\n",
    "result = pd.DataFrame(result, columns=scaled_x_smote.columns[selector.get_support()])\n",
    "\n",
    "SELECT_40_BEST = set(result.columns)"
   ]
  },
  {
   "cell_type": "code",
   "execution_count": 35,
   "id": "ea7b5a5d",
   "metadata": {
    "execution": {
     "iopub.execute_input": "2023-10-15T15:53:43.672093Z",
     "iopub.status.busy": "2023-10-15T15:53:43.671669Z",
     "iopub.status.idle": "2023-10-15T15:53:43.984215Z",
     "shell.execute_reply": "2023-10-15T15:53:43.983330Z"
    },
    "papermill": {
     "duration": 0.342087,
     "end_time": "2023-10-15T15:53:43.986685",
     "exception": false,
     "start_time": "2023-10-15T15:53:43.644598",
     "status": "completed"
    },
    "tags": []
   },
   "outputs": [],
   "source": [
    "selector = SelectKBest(chi2, k = 50)\n",
    "result = selector.fit_transform(scaled_x_smote, TARGET)\n",
    "result = pd.DataFrame(result, columns=scaled_x_smote.columns[selector.get_support()])\n",
    "\n",
    "SELECT_50_BEST = set(result.columns)"
   ]
  },
  {
   "cell_type": "markdown",
   "id": "1ef7a74f",
   "metadata": {
    "papermill": {
     "duration": 0.028676,
     "end_time": "2023-10-15T15:53:44.041671",
     "exception": false,
     "start_time": "2023-10-15T15:53:44.012995",
     "status": "completed"
    },
    "tags": []
   },
   "source": [
    "#### 2.3 Selecionando com Base em Modelos"
   ]
  },
  {
   "cell_type": "code",
   "execution_count": 36,
   "id": "48ead74c",
   "metadata": {
    "execution": {
     "iopub.execute_input": "2023-10-15T15:53:44.095655Z",
     "iopub.status.busy": "2023-10-15T15:53:44.095267Z",
     "iopub.status.idle": "2023-10-15T15:53:44.100375Z",
     "shell.execute_reply": "2023-10-15T15:53:44.099202Z"
    },
    "papermill": {
     "duration": 0.034787,
     "end_time": "2023-10-15T15:53:44.102252",
     "exception": false,
     "start_time": "2023-10-15T15:53:44.067465",
     "status": "completed"
    },
    "tags": []
   },
   "outputs": [],
   "source": [
    "from sklearn.feature_selection import SelectFromModel\n",
    "from sklearn.tree import DecisionTreeClassifier\n",
    "from sklearn.linear_model import LogisticRegression"
   ]
  },
  {
   "cell_type": "code",
   "execution_count": 37,
   "id": "fb1b98ea",
   "metadata": {
    "execution": {
     "iopub.execute_input": "2023-10-15T15:53:44.157557Z",
     "iopub.status.busy": "2023-10-15T15:53:44.157135Z",
     "iopub.status.idle": "2023-10-15T15:53:49.519801Z",
     "shell.execute_reply": "2023-10-15T15:53:49.518709Z"
    },
    "papermill": {
     "duration": 5.392643,
     "end_time": "2023-10-15T15:53:49.522400",
     "exception": false,
     "start_time": "2023-10-15T15:53:44.129757",
     "status": "completed"
    },
    "tags": []
   },
   "outputs": [],
   "source": [
    "selector = SelectFromModel(estimator = DecisionTreeClassifier(random_state = SEED))\n",
    "result = selector.fit_transform(scaled_x_smote, TARGET)\n",
    "result = pd.DataFrame(result, columns=scaled_x_smote.columns[selector.get_support()])\n",
    "\n",
    "DECISION_TREE_COLUMNS = set(result.columns)"
   ]
  },
  {
   "cell_type": "code",
   "execution_count": 38,
   "id": "11eb9cba",
   "metadata": {
    "execution": {
     "iopub.execute_input": "2023-10-15T15:53:49.576590Z",
     "iopub.status.busy": "2023-10-15T15:53:49.576215Z",
     "iopub.status.idle": "2023-10-15T15:53:55.919642Z",
     "shell.execute_reply": "2023-10-15T15:53:55.918311Z"
    },
    "papermill": {
     "duration": 6.37321,
     "end_time": "2023-10-15T15:53:55.921746",
     "exception": false,
     "start_time": "2023-10-15T15:53:49.548536",
     "status": "completed"
    },
    "tags": []
   },
   "outputs": [
    {
     "name": "stderr",
     "output_type": "stream",
     "text": [
      "/opt/conda/lib/python3.10/site-packages/sklearn/linear_model/_logistic.py:458: ConvergenceWarning: lbfgs failed to converge (status=1):\n",
      "STOP: TOTAL NO. of ITERATIONS REACHED LIMIT.\n",
      "\n",
      "Increase the number of iterations (max_iter) or scale the data as shown in:\n",
      "    https://scikit-learn.org/stable/modules/preprocessing.html\n",
      "Please also refer to the documentation for alternative solver options:\n",
      "    https://scikit-learn.org/stable/modules/linear_model.html#logistic-regression\n",
      "  n_iter_i = _check_optimize_result(\n"
     ]
    }
   ],
   "source": [
    "selector = SelectFromModel(estimator = LogisticRegression(random_state = SEED))\n",
    "result = selector.fit_transform(scaled_x_smote, TARGET)\n",
    "result = pd.DataFrame(result, columns=scaled_x_smote.columns[selector.get_support()])\n",
    "\n",
    "LOGISTIC_REGRESSION_COLUMNS = set(result.columns)"
   ]
  },
  {
   "cell_type": "markdown",
   "id": "5c6ac2e7",
   "metadata": {
    "papermill": {
     "duration": 0.026047,
     "end_time": "2023-10-15T15:53:55.973884",
     "exception": false,
     "start_time": "2023-10-15T15:53:55.947837",
     "status": "completed"
    },
    "tags": []
   },
   "source": [
    "### 3. Analisando Resultados\n",
    "Fazendo uso dos resultados até então, vamos listar as variáveis comuns entre os seletores, e construir um campo conjunto a partir daí."
   ]
  },
  {
   "cell_type": "code",
   "execution_count": 39,
   "id": "9910cf9e",
   "metadata": {
    "execution": {
     "iopub.execute_input": "2023-10-15T15:53:56.029870Z",
     "iopub.status.busy": "2023-10-15T15:53:56.029127Z",
     "iopub.status.idle": "2023-10-15T15:53:56.032911Z",
     "shell.execute_reply": "2023-10-15T15:53:56.032238Z"
    },
    "papermill": {
     "duration": 0.033705,
     "end_time": "2023-10-15T15:53:56.034661",
     "exception": false,
     "start_time": "2023-10-15T15:53:56.000956",
     "status": "completed"
    },
    "tags": []
   },
   "outputs": [],
   "source": [
    "# Seleções construídas até aqui.\n",
    "#LOGISTIC_REGRESSION_COLUMNS\n",
    "#DECISION_TREE_COLUMNS\n",
    "#SELECT_50_BEST\n",
    "#SELECT_40_BEST\n",
    "#SELECT_30_BEST\n",
    "#SELECT_20_BEST\n",
    "#SELECT_10_BEST\n",
    "#COLUNAS_VARIANCIA_5\n",
    "#COLUNAS_VARIANCIA_1\n",
    "#CORRELACAO_COLUNAS_SMOTE_10\n",
    "#CORRELACAO_COLUNAS_SMOTE_20\n",
    "#CORRELACAO_COLUNAS_SMOTE_30\n",
    "#CORRELACAO_COLUNAS_SMOTE_40\n",
    "#CORRELACAO_COLUNAS_SMOTE_50"
   ]
  },
  {
   "cell_type": "code",
   "execution_count": 40,
   "id": "c202270a",
   "metadata": {
    "execution": {
     "iopub.execute_input": "2023-10-15T15:53:56.090390Z",
     "iopub.status.busy": "2023-10-15T15:53:56.089864Z",
     "iopub.status.idle": "2023-10-15T15:53:56.100131Z",
     "shell.execute_reply": "2023-10-15T15:53:56.099013Z"
    },
    "papermill": {
     "duration": 0.040423,
     "end_time": "2023-10-15T15:53:56.102123",
     "exception": false,
     "start_time": "2023-10-15T15:53:56.061700",
     "status": "completed"
    },
    "tags": []
   },
   "outputs": [
    {
     "name": "stdout",
     "output_type": "stream",
     "text": [
      "ind_var30: 13\n",
      "num_var30: 10\n",
      "num_meses_var5_ult3: 14\n",
      "var15: 8\n",
      "num_var4: 13\n",
      "ind_var5: 13\n",
      "num_var35: 9\n",
      "num_var5: 10\n",
      "num_var42: 9\n",
      "TARGET: 5\n",
      "var36: 13\n",
      "num_meses_var39_vig_ult3: 8\n",
      "num_var39_0: 6\n",
      "ind_var9_cte_ult1: 11\n",
      "ind_var39_0: 9\n",
      "num_var41_0: 6\n",
      "ind_var10cte_ult1: 11\n",
      "ind_var43_recib_ult1: 12\n",
      "ind_var9_ult1: 9\n",
      "ind_var12_0: 11\n",
      "ind_var41_0: 11\n",
      "ind_var37_cte: 9\n",
      "ind_var43_emit_ult1: 9\n",
      "ind_var12: 9\n",
      "num_var13_0: 3\n",
      "ind_var37: 9\n",
      "ind_var13_0: 8\n",
      "ind_var13: 8\n",
      "num_var13: 3\n",
      "ind_var37_0: 8\n",
      "ind_var10_ult1: 8\n",
      "num_var12: 2\n",
      "num_meses_var12_ult3: 7\n",
      "saldo_var30: 3\n",
      "num_meses_var13_corto_ult3: 7\n",
      "ind_var5_0: 6\n",
      "ind_var24_0: 8\n",
      "ind_var24: 6\n",
      "num_var13_corto_0: 5\n",
      "ind_var13_corto: 6\n",
      "ind_var13_corto_0: 6\n",
      "num_var24: 4\n",
      "num_aport_var13_hace3: 2\n",
      "num_var13_corto: 4\n",
      "num_var30_0: 1\n",
      "saldo_var13: 1\n",
      "saldo_var13_corto: 2\n",
      "ind_var14_0: 5\n",
      "num_var24_0: 3\n",
      "saldo_var42: 1\n",
      "saldo_medio_var13_corto_ult1: 2\n",
      "ind_var25_cte: 3\n",
      "ind_var26_cte: 3\n",
      "ind_var26: 3\n",
      "ind_var25: 3\n",
      "ind_var26_0: 3\n",
      "ind_var25_0: 3\n",
      "ind_var13_largo: 2\n",
      "ind_var8: 3\n",
      "ind_var1_0: 2\n",
      "ind_var40_0: 2\n",
      "ind_var13_largo_0: 2\n",
      "ind_var8_0: 3\n",
      "num_var8: 3\n",
      "delta_num_compra_var44_1y3: 1\n",
      "saldo_var5: 2\n",
      "ind_var14: 1\n",
      "imp_var43_emit_ult1: 1\n",
      "ind_var31: 1\n",
      "num_var20_0: 1\n",
      "imp_op_var41_ult1: 1\n",
      "num_var39: 1\n",
      "num_op_var39_hace3: 1\n",
      "ind_var32_0: 1\n",
      "ind_var40: 1\n",
      "saldo_medio_var5_ult3: 2\n",
      "num_var22_ult3: 2\n",
      "imp_aport_var13_ult1: 1\n",
      "delta_num_aport_var13_1y3: 1\n",
      "ind_var33: 1\n",
      "num_meses_var33_ult3: 1\n",
      "num_var40: 1\n",
      "ind_var31_0: 1\n",
      "ind_var7_recib_ult1: 1\n",
      "ind_var33_0: 1\n",
      "ind_var32_cte: 1\n",
      "imp_op_var41_efect_ult1: 1\n",
      "num_var8_0: 1\n",
      "ind_var32: 1\n",
      "num_var37_med_ult2: 1\n",
      "num_var45_hace2: 2\n",
      "var3: 1\n",
      "imp_aport_var13_hace3: 1\n",
      "ind_var19: 1\n",
      "imp_op_var41_comer_ult1: 1\n",
      "num_meses_var8_ult3: 1\n",
      "num_var5_0: 1\n",
      "ind_var39: 1\n",
      "imp_op_var39_comer_ult1: 1\n",
      "num_op_var41_hace3: 1\n",
      "num_var45_ult3: 2\n",
      "saldo_medio_var5_ult1: 2\n",
      "num_var40_0: 1\n",
      "saldo_medio_var13_corto_hace3: 1\n",
      "imp_op_var39_efect_ult1: 1\n",
      "var38: 2\n",
      "num_var37: 1\n",
      "delta_imp_aport_var13_1y3: 1\n",
      "num_var45_hace3: 2\n",
      "ind_var1: 1\n",
      "num_var43_recib_ult1: 1\n",
      "num_var45_ult1: 2\n",
      "num_var37_0: 1\n",
      "ind_var17_0: 1\n",
      "num_op_var39_efect_ult3: 1\n",
      "imp_op_var39_ult1: 1\n",
      "ind_var20_0: 1\n",
      "ind_var30_0: 1\n",
      "delta_imp_compra_var44_1y3: 1\n",
      "num_var43_emit_ult1: 1\n",
      "saldo_var37: 2\n",
      "saldo_medio_var5_hace2: 2\n",
      "num_var1_0: 1\n",
      "num_op_var39_ult3: 1\n",
      "num_sal_var16_ult1: 1\n",
      "saldo_medio_var13_corto_hace2: 1\n",
      "num_op_var41_efect_ult3: 2\n",
      "num_var22_ult1: 2\n",
      "num_op_var41_ult3: 1\n",
      "num_meses_var13_largo_ult3: 1\n",
      "num_var22_hace2: 1\n",
      "num_med_var45_ult3: 1\n",
      "num_med_var22_ult3: 1\n",
      "imp_op_var41_efect_ult3: 1\n",
      "num_var22_hace3: 1\n",
      "imp_trans_var37_ult1: 1\n",
      "saldo_medio_var5_hace3: 1\n"
     ]
    }
   ],
   "source": [
    "contador_colunas = {}\n",
    "\n",
    "# Iterate through each list and update the counts\n",
    "for i, lista_colunas in enumerate([CORRELACAO_COLUNAS_SMOTE_10, CORRELACAO_COLUNAS_SMOTE_20, CORRELACAO_COLUNAS_SMOTE_30,\n",
    "                                   CORRELACAO_COLUNAS_SMOTE_40, CORRELACAO_COLUNAS_SMOTE_50, SELECT_10_BEST, SELECT_20_BEST,\n",
    "                                   SELECT_30_BEST, SELECT_40_BEST, SELECT_50_BEST, COLUNAS_VARIANCIA_1, COLUNAS_VARIANCIA_5,\n",
    "                                   LOGISTIC_REGRESSION_COLUMNS, DECISION_TREE_COLUMNS]):\n",
    "    for coluna in lista_colunas:\n",
    "        if coluna in contador_colunas:\n",
    "            contador_colunas[coluna].append(i + 1)\n",
    "        else:\n",
    "            contador_colunas[coluna] = [i + 1]\n",
    "            \n",
    "contador_colunas = dict(sorted(contador_colunas.items(), reverse = True, key = len))\n",
    "\n",
    "# Print the appearance of columns in each list\n",
    "for coluna, lista in contador_colunas.items():\n",
    "    print(f\"{coluna}: {len(lista)}\")"
   ]
  },
  {
   "cell_type": "code",
   "execution_count": 41,
   "id": "30fa38f7",
   "metadata": {
    "execution": {
     "iopub.execute_input": "2023-10-15T15:53:56.157099Z",
     "iopub.status.busy": "2023-10-15T15:53:56.156706Z",
     "iopub.status.idle": "2023-10-15T15:53:56.160943Z",
     "shell.execute_reply": "2023-10-15T15:53:56.159955Z"
    },
    "papermill": {
     "duration": 0.034452,
     "end_time": "2023-10-15T15:53:56.162943",
     "exception": false,
     "start_time": "2023-10-15T15:53:56.128491",
     "status": "completed"
    },
    "tags": []
   },
   "outputs": [],
   "source": [
    "del contador_colunas[\"TARGET\"]"
   ]
  },
  {
   "cell_type": "code",
   "execution_count": 42,
   "id": "8c14c069",
   "metadata": {
    "execution": {
     "iopub.execute_input": "2023-10-15T15:53:56.216923Z",
     "iopub.status.busy": "2023-10-15T15:53:56.216509Z",
     "iopub.status.idle": "2023-10-15T15:53:56.222695Z",
     "shell.execute_reply": "2023-10-15T15:53:56.221633Z"
    },
    "papermill": {
     "duration": 0.035777,
     "end_time": "2023-10-15T15:53:56.224764",
     "exception": false,
     "start_time": "2023-10-15T15:53:56.188987",
     "status": "completed"
    },
    "tags": []
   },
   "outputs": [],
   "source": [
    "resultado_11_aparicoes = [coluna for coluna, lista in contador_colunas.items() if len(lista) >= 11]\n",
    "resultado_9_aparicoes = [coluna for coluna, lista in contador_colunas.items() if len(lista) >= 9]\n",
    "resultado_7_aparicoes = [coluna for coluna, lista in contador_colunas.items() if len(lista) >= 7]\n",
    "resultado_5_aparicoes = [coluna for coluna, lista in contador_colunas.items() if len(lista) >= 5]\n",
    "resultado_3_aparicoes = [coluna for coluna, lista in contador_colunas.items() if len(lista) >= 3]"
   ]
  },
  {
   "cell_type": "code",
   "execution_count": 43,
   "id": "416a8806",
   "metadata": {
    "execution": {
     "iopub.execute_input": "2023-10-15T15:53:56.278889Z",
     "iopub.status.busy": "2023-10-15T15:53:56.278001Z",
     "iopub.status.idle": "2023-10-15T15:53:56.284391Z",
     "shell.execute_reply": "2023-10-15T15:53:56.283534Z"
    },
    "papermill": {
     "duration": 0.035358,
     "end_time": "2023-10-15T15:53:56.286262",
     "exception": false,
     "start_time": "2023-10-15T15:53:56.250904",
     "status": "completed"
    },
    "tags": []
   },
   "outputs": [
    {
     "data": {
      "text/plain": [
       "10"
      ]
     },
     "execution_count": 43,
     "metadata": {},
     "output_type": "execute_result"
    }
   ],
   "source": [
    "len(resultado_11_aparicoes)"
   ]
  },
  {
   "cell_type": "code",
   "execution_count": 44,
   "id": "343d9453",
   "metadata": {
    "execution": {
     "iopub.execute_input": "2023-10-15T15:53:56.340706Z",
     "iopub.status.busy": "2023-10-15T15:53:56.340321Z",
     "iopub.status.idle": "2023-10-15T15:53:56.346822Z",
     "shell.execute_reply": "2023-10-15T15:53:56.345795Z"
    },
    "papermill": {
     "duration": 0.035882,
     "end_time": "2023-10-15T15:53:56.348777",
     "exception": false,
     "start_time": "2023-10-15T15:53:56.312895",
     "status": "completed"
    },
    "tags": []
   },
   "outputs": [
    {
     "data": {
      "text/plain": [
       "20"
      ]
     },
     "execution_count": 44,
     "metadata": {},
     "output_type": "execute_result"
    }
   ],
   "source": [
    "len(resultado_9_aparicoes)"
   ]
  },
  {
   "cell_type": "code",
   "execution_count": 45,
   "id": "c32bd844",
   "metadata": {
    "execution": {
     "iopub.execute_input": "2023-10-15T15:53:56.403170Z",
     "iopub.status.busy": "2023-10-15T15:53:56.402799Z",
     "iopub.status.idle": "2023-10-15T15:53:56.409431Z",
     "shell.execute_reply": "2023-10-15T15:53:56.408341Z"
    },
    "papermill": {
     "duration": 0.036013,
     "end_time": "2023-10-15T15:53:56.411368",
     "exception": false,
     "start_time": "2023-10-15T15:53:56.375355",
     "status": "completed"
    },
    "tags": []
   },
   "outputs": [
    {
     "data": {
      "text/plain": [
       "29"
      ]
     },
     "execution_count": 45,
     "metadata": {},
     "output_type": "execute_result"
    }
   ],
   "source": [
    "len(resultado_7_aparicoes)"
   ]
  },
  {
   "cell_type": "code",
   "execution_count": 46,
   "id": "868679f4",
   "metadata": {
    "execution": {
     "iopub.execute_input": "2023-10-15T15:53:56.466015Z",
     "iopub.status.busy": "2023-10-15T15:53:56.465336Z",
     "iopub.status.idle": "2023-10-15T15:53:56.472150Z",
     "shell.execute_reply": "2023-10-15T15:53:56.470997Z"
    },
    "papermill": {
     "duration": 0.036332,
     "end_time": "2023-10-15T15:53:56.474170",
     "exception": false,
     "start_time": "2023-10-15T15:53:56.437838",
     "status": "completed"
    },
    "tags": []
   },
   "outputs": [
    {
     "data": {
      "text/plain": [
       "37"
      ]
     },
     "execution_count": 46,
     "metadata": {},
     "output_type": "execute_result"
    }
   ],
   "source": [
    "len(resultado_5_aparicoes)"
   ]
  },
  {
   "cell_type": "code",
   "execution_count": 47,
   "id": "98473171",
   "metadata": {
    "execution": {
     "iopub.execute_input": "2023-10-15T15:53:56.529216Z",
     "iopub.status.busy": "2023-10-15T15:53:56.528803Z",
     "iopub.status.idle": "2023-10-15T15:53:56.534866Z",
     "shell.execute_reply": "2023-10-15T15:53:56.533872Z"
    },
    "papermill": {
     "duration": 0.035965,
     "end_time": "2023-10-15T15:53:56.536800",
     "exception": false,
     "start_time": "2023-10-15T15:53:56.500835",
     "status": "completed"
    },
    "tags": []
   },
   "outputs": [
    {
     "data": {
      "text/plain": [
       "52"
      ]
     },
     "execution_count": 47,
     "metadata": {},
     "output_type": "execute_result"
    }
   ],
   "source": [
    "len(resultado_3_aparicoes)"
   ]
  },
  {
   "cell_type": "markdown",
   "id": "79fad61f",
   "metadata": {
    "papermill": {
     "duration": 0.026247,
     "end_time": "2023-10-15T15:53:56.589612",
     "exception": false,
     "start_time": "2023-10-15T15:53:56.563365",
     "status": "completed"
    },
    "tags": []
   },
   "source": [
    "Com esses resultados, vamos filtrar o conjunto de dados original para criar datasets para análise."
   ]
  },
  {
   "cell_type": "code",
   "execution_count": 48,
   "id": "d3376bbf",
   "metadata": {
    "execution": {
     "iopub.execute_input": "2023-10-15T15:53:56.645502Z",
     "iopub.status.busy": "2023-10-15T15:53:56.645114Z",
     "iopub.status.idle": "2023-10-15T15:53:56.687296Z",
     "shell.execute_reply": "2023-10-15T15:53:56.686213Z"
    },
    "papermill": {
     "duration": 0.072721,
     "end_time": "2023-10-15T15:53:56.689654",
     "exception": false,
     "start_time": "2023-10-15T15:53:56.616933",
     "status": "completed"
    },
    "tags": []
   },
   "outputs": [
    {
     "data": {
      "text/html": [
       "<div>\n",
       "<style scoped>\n",
       "    .dataframe tbody tr th:only-of-type {\n",
       "        vertical-align: middle;\n",
       "    }\n",
       "\n",
       "    .dataframe tbody tr th {\n",
       "        vertical-align: top;\n",
       "    }\n",
       "\n",
       "    .dataframe thead th {\n",
       "        text-align: right;\n",
       "    }\n",
       "</style>\n",
       "<table border=\"1\" class=\"dataframe\">\n",
       "  <thead>\n",
       "    <tr style=\"text-align: right;\">\n",
       "      <th></th>\n",
       "      <th>var3</th>\n",
       "      <th>var15</th>\n",
       "      <th>imp_ent_var16_ult1</th>\n",
       "      <th>imp_op_var39_comer_ult1</th>\n",
       "      <th>imp_op_var39_comer_ult3</th>\n",
       "      <th>imp_op_var40_comer_ult1</th>\n",
       "      <th>imp_op_var40_comer_ult3</th>\n",
       "      <th>imp_op_var40_efect_ult1</th>\n",
       "      <th>imp_op_var40_efect_ult3</th>\n",
       "      <th>imp_op_var40_ult1</th>\n",
       "      <th>...</th>\n",
       "      <th>saldo_medio_var29_ult3</th>\n",
       "      <th>saldo_medio_var33_hace2</th>\n",
       "      <th>saldo_medio_var33_hace3</th>\n",
       "      <th>saldo_medio_var33_ult1</th>\n",
       "      <th>saldo_medio_var33_ult3</th>\n",
       "      <th>saldo_medio_var44_hace2</th>\n",
       "      <th>saldo_medio_var44_hace3</th>\n",
       "      <th>saldo_medio_var44_ult1</th>\n",
       "      <th>saldo_medio_var44_ult3</th>\n",
       "      <th>var38</th>\n",
       "    </tr>\n",
       "  </thead>\n",
       "  <tbody>\n",
       "    <tr>\n",
       "      <th>0</th>\n",
       "      <td>0.999764</td>\n",
       "      <td>0.18</td>\n",
       "      <td>0.000000</td>\n",
       "      <td>0.000000</td>\n",
       "      <td>0.000000</td>\n",
       "      <td>0.0</td>\n",
       "      <td>0.0</td>\n",
       "      <td>0.0</td>\n",
       "      <td>0.0</td>\n",
       "      <td>0.0</td>\n",
       "      <td>...</td>\n",
       "      <td>0.0</td>\n",
       "      <td>0.0</td>\n",
       "      <td>0.0</td>\n",
       "      <td>0.0</td>\n",
       "      <td>0.0</td>\n",
       "      <td>0.0</td>\n",
       "      <td>0.0</td>\n",
       "      <td>0.0</td>\n",
       "      <td>0.0</td>\n",
       "      <td>0.001545</td>\n",
       "    </tr>\n",
       "    <tr>\n",
       "      <th>1</th>\n",
       "      <td>0.999764</td>\n",
       "      <td>0.29</td>\n",
       "      <td>0.000000</td>\n",
       "      <td>0.000000</td>\n",
       "      <td>0.000000</td>\n",
       "      <td>0.0</td>\n",
       "      <td>0.0</td>\n",
       "      <td>0.0</td>\n",
       "      <td>0.0</td>\n",
       "      <td>0.0</td>\n",
       "      <td>...</td>\n",
       "      <td>0.0</td>\n",
       "      <td>0.0</td>\n",
       "      <td>0.0</td>\n",
       "      <td>0.0</td>\n",
       "      <td>0.0</td>\n",
       "      <td>0.0</td>\n",
       "      <td>0.0</td>\n",
       "      <td>0.0</td>\n",
       "      <td>0.0</td>\n",
       "      <td>0.002003</td>\n",
       "    </tr>\n",
       "    <tr>\n",
       "      <th>2</th>\n",
       "      <td>0.999764</td>\n",
       "      <td>0.18</td>\n",
       "      <td>0.000000</td>\n",
       "      <td>0.000000</td>\n",
       "      <td>0.000000</td>\n",
       "      <td>0.0</td>\n",
       "      <td>0.0</td>\n",
       "      <td>0.0</td>\n",
       "      <td>0.0</td>\n",
       "      <td>0.0</td>\n",
       "      <td>...</td>\n",
       "      <td>0.0</td>\n",
       "      <td>0.0</td>\n",
       "      <td>0.0</td>\n",
       "      <td>0.0</td>\n",
       "      <td>0.0</td>\n",
       "      <td>0.0</td>\n",
       "      <td>0.0</td>\n",
       "      <td>0.0</td>\n",
       "      <td>0.0</td>\n",
       "      <td>0.002822</td>\n",
       "    </tr>\n",
       "    <tr>\n",
       "      <th>3</th>\n",
       "      <td>0.999764</td>\n",
       "      <td>0.32</td>\n",
       "      <td>0.000000</td>\n",
       "      <td>0.015130</td>\n",
       "      <td>0.009275</td>\n",
       "      <td>0.0</td>\n",
       "      <td>0.0</td>\n",
       "      <td>0.0</td>\n",
       "      <td>0.0</td>\n",
       "      <td>0.0</td>\n",
       "      <td>...</td>\n",
       "      <td>0.0</td>\n",
       "      <td>0.0</td>\n",
       "      <td>0.0</td>\n",
       "      <td>0.0</td>\n",
       "      <td>0.0</td>\n",
       "      <td>0.0</td>\n",
       "      <td>0.0</td>\n",
       "      <td>0.0</td>\n",
       "      <td>0.0</td>\n",
       "      <td>0.002671</td>\n",
       "    </tr>\n",
       "    <tr>\n",
       "      <th>4</th>\n",
       "      <td>0.999764</td>\n",
       "      <td>0.34</td>\n",
       "      <td>0.000000</td>\n",
       "      <td>0.000000</td>\n",
       "      <td>0.000000</td>\n",
       "      <td>0.0</td>\n",
       "      <td>0.0</td>\n",
       "      <td>0.0</td>\n",
       "      <td>0.0</td>\n",
       "      <td>0.0</td>\n",
       "      <td>...</td>\n",
       "      <td>0.0</td>\n",
       "      <td>0.0</td>\n",
       "      <td>0.0</td>\n",
       "      <td>0.0</td>\n",
       "      <td>0.0</td>\n",
       "      <td>0.0</td>\n",
       "      <td>0.0</td>\n",
       "      <td>0.0</td>\n",
       "      <td>0.0</td>\n",
       "      <td>0.005091</td>\n",
       "    </tr>\n",
       "    <tr>\n",
       "      <th>...</th>\n",
       "      <td>...</td>\n",
       "      <td>...</td>\n",
       "      <td>...</td>\n",
       "      <td>...</td>\n",
       "      <td>...</td>\n",
       "      <td>...</td>\n",
       "      <td>...</td>\n",
       "      <td>...</td>\n",
       "      <td>...</td>\n",
       "      <td>...</td>\n",
       "      <td>...</td>\n",
       "      <td>...</td>\n",
       "      <td>...</td>\n",
       "      <td>...</td>\n",
       "      <td>...</td>\n",
       "      <td>...</td>\n",
       "      <td>...</td>\n",
       "      <td>...</td>\n",
       "      <td>...</td>\n",
       "      <td>...</td>\n",
       "      <td>...</td>\n",
       "    </tr>\n",
       "    <tr>\n",
       "      <th>146019</th>\n",
       "      <td>0.999764</td>\n",
       "      <td>0.41</td>\n",
       "      <td>0.000294</td>\n",
       "      <td>0.007183</td>\n",
       "      <td>0.004403</td>\n",
       "      <td>0.0</td>\n",
       "      <td>0.0</td>\n",
       "      <td>0.0</td>\n",
       "      <td>0.0</td>\n",
       "      <td>0.0</td>\n",
       "      <td>...</td>\n",
       "      <td>0.0</td>\n",
       "      <td>0.0</td>\n",
       "      <td>0.0</td>\n",
       "      <td>0.0</td>\n",
       "      <td>0.0</td>\n",
       "      <td>0.0</td>\n",
       "      <td>0.0</td>\n",
       "      <td>0.0</td>\n",
       "      <td>0.0</td>\n",
       "      <td>0.008147</td>\n",
       "    </tr>\n",
       "    <tr>\n",
       "      <th>146020</th>\n",
       "      <td>0.999764</td>\n",
       "      <td>0.30</td>\n",
       "      <td>0.000000</td>\n",
       "      <td>0.000000</td>\n",
       "      <td>0.000000</td>\n",
       "      <td>0.0</td>\n",
       "      <td>0.0</td>\n",
       "      <td>0.0</td>\n",
       "      <td>0.0</td>\n",
       "      <td>0.0</td>\n",
       "      <td>...</td>\n",
       "      <td>0.0</td>\n",
       "      <td>0.0</td>\n",
       "      <td>0.0</td>\n",
       "      <td>0.0</td>\n",
       "      <td>0.0</td>\n",
       "      <td>0.0</td>\n",
       "      <td>0.0</td>\n",
       "      <td>0.0</td>\n",
       "      <td>0.0</td>\n",
       "      <td>0.005091</td>\n",
       "    </tr>\n",
       "    <tr>\n",
       "      <th>146021</th>\n",
       "      <td>0.999764</td>\n",
       "      <td>0.19</td>\n",
       "      <td>0.000000</td>\n",
       "      <td>0.000000</td>\n",
       "      <td>0.000000</td>\n",
       "      <td>0.0</td>\n",
       "      <td>0.0</td>\n",
       "      <td>0.0</td>\n",
       "      <td>0.0</td>\n",
       "      <td>0.0</td>\n",
       "      <td>...</td>\n",
       "      <td>0.0</td>\n",
       "      <td>0.0</td>\n",
       "      <td>0.0</td>\n",
       "      <td>0.0</td>\n",
       "      <td>0.0</td>\n",
       "      <td>0.0</td>\n",
       "      <td>0.0</td>\n",
       "      <td>0.0</td>\n",
       "      <td>0.0</td>\n",
       "      <td>0.006645</td>\n",
       "    </tr>\n",
       "    <tr>\n",
       "      <th>146022</th>\n",
       "      <td>0.999764</td>\n",
       "      <td>0.28</td>\n",
       "      <td>0.000000</td>\n",
       "      <td>0.000000</td>\n",
       "      <td>0.000000</td>\n",
       "      <td>0.0</td>\n",
       "      <td>0.0</td>\n",
       "      <td>0.0</td>\n",
       "      <td>0.0</td>\n",
       "      <td>0.0</td>\n",
       "      <td>...</td>\n",
       "      <td>0.0</td>\n",
       "      <td>0.0</td>\n",
       "      <td>0.0</td>\n",
       "      <td>0.0</td>\n",
       "      <td>0.0</td>\n",
       "      <td>0.0</td>\n",
       "      <td>0.0</td>\n",
       "      <td>0.0</td>\n",
       "      <td>0.0</td>\n",
       "      <td>0.005091</td>\n",
       "    </tr>\n",
       "    <tr>\n",
       "      <th>146023</th>\n",
       "      <td>0.999764</td>\n",
       "      <td>0.31</td>\n",
       "      <td>0.000000</td>\n",
       "      <td>0.000000</td>\n",
       "      <td>0.000000</td>\n",
       "      <td>0.0</td>\n",
       "      <td>0.0</td>\n",
       "      <td>0.0</td>\n",
       "      <td>0.0</td>\n",
       "      <td>0.0</td>\n",
       "      <td>...</td>\n",
       "      <td>0.0</td>\n",
       "      <td>0.0</td>\n",
       "      <td>0.0</td>\n",
       "      <td>0.0</td>\n",
       "      <td>0.0</td>\n",
       "      <td>0.0</td>\n",
       "      <td>0.0</td>\n",
       "      <td>0.0</td>\n",
       "      <td>0.0</td>\n",
       "      <td>0.005779</td>\n",
       "    </tr>\n",
       "  </tbody>\n",
       "</table>\n",
       "<p>146024 rows × 335 columns</p>\n",
       "</div>"
      ],
      "text/plain": [
       "            var3  var15  imp_ent_var16_ult1  imp_op_var39_comer_ult1  \\\n",
       "0       0.999764   0.18            0.000000                 0.000000   \n",
       "1       0.999764   0.29            0.000000                 0.000000   \n",
       "2       0.999764   0.18            0.000000                 0.000000   \n",
       "3       0.999764   0.32            0.000000                 0.015130   \n",
       "4       0.999764   0.34            0.000000                 0.000000   \n",
       "...          ...    ...                 ...                      ...   \n",
       "146019  0.999764   0.41            0.000294                 0.007183   \n",
       "146020  0.999764   0.30            0.000000                 0.000000   \n",
       "146021  0.999764   0.19            0.000000                 0.000000   \n",
       "146022  0.999764   0.28            0.000000                 0.000000   \n",
       "146023  0.999764   0.31            0.000000                 0.000000   \n",
       "\n",
       "        imp_op_var39_comer_ult3  imp_op_var40_comer_ult1  \\\n",
       "0                      0.000000                      0.0   \n",
       "1                      0.000000                      0.0   \n",
       "2                      0.000000                      0.0   \n",
       "3                      0.009275                      0.0   \n",
       "4                      0.000000                      0.0   \n",
       "...                         ...                      ...   \n",
       "146019                 0.004403                      0.0   \n",
       "146020                 0.000000                      0.0   \n",
       "146021                 0.000000                      0.0   \n",
       "146022                 0.000000                      0.0   \n",
       "146023                 0.000000                      0.0   \n",
       "\n",
       "        imp_op_var40_comer_ult3  imp_op_var40_efect_ult1  \\\n",
       "0                           0.0                      0.0   \n",
       "1                           0.0                      0.0   \n",
       "2                           0.0                      0.0   \n",
       "3                           0.0                      0.0   \n",
       "4                           0.0                      0.0   \n",
       "...                         ...                      ...   \n",
       "146019                      0.0                      0.0   \n",
       "146020                      0.0                      0.0   \n",
       "146021                      0.0                      0.0   \n",
       "146022                      0.0                      0.0   \n",
       "146023                      0.0                      0.0   \n",
       "\n",
       "        imp_op_var40_efect_ult3  imp_op_var40_ult1  ...  \\\n",
       "0                           0.0                0.0  ...   \n",
       "1                           0.0                0.0  ...   \n",
       "2                           0.0                0.0  ...   \n",
       "3                           0.0                0.0  ...   \n",
       "4                           0.0                0.0  ...   \n",
       "...                         ...                ...  ...   \n",
       "146019                      0.0                0.0  ...   \n",
       "146020                      0.0                0.0  ...   \n",
       "146021                      0.0                0.0  ...   \n",
       "146022                      0.0                0.0  ...   \n",
       "146023                      0.0                0.0  ...   \n",
       "\n",
       "        saldo_medio_var29_ult3  saldo_medio_var33_hace2  \\\n",
       "0                          0.0                      0.0   \n",
       "1                          0.0                      0.0   \n",
       "2                          0.0                      0.0   \n",
       "3                          0.0                      0.0   \n",
       "4                          0.0                      0.0   \n",
       "...                        ...                      ...   \n",
       "146019                     0.0                      0.0   \n",
       "146020                     0.0                      0.0   \n",
       "146021                     0.0                      0.0   \n",
       "146022                     0.0                      0.0   \n",
       "146023                     0.0                      0.0   \n",
       "\n",
       "        saldo_medio_var33_hace3  saldo_medio_var33_ult1  \\\n",
       "0                           0.0                     0.0   \n",
       "1                           0.0                     0.0   \n",
       "2                           0.0                     0.0   \n",
       "3                           0.0                     0.0   \n",
       "4                           0.0                     0.0   \n",
       "...                         ...                     ...   \n",
       "146019                      0.0                     0.0   \n",
       "146020                      0.0                     0.0   \n",
       "146021                      0.0                     0.0   \n",
       "146022                      0.0                     0.0   \n",
       "146023                      0.0                     0.0   \n",
       "\n",
       "        saldo_medio_var33_ult3  saldo_medio_var44_hace2  \\\n",
       "0                          0.0                      0.0   \n",
       "1                          0.0                      0.0   \n",
       "2                          0.0                      0.0   \n",
       "3                          0.0                      0.0   \n",
       "4                          0.0                      0.0   \n",
       "...                        ...                      ...   \n",
       "146019                     0.0                      0.0   \n",
       "146020                     0.0                      0.0   \n",
       "146021                     0.0                      0.0   \n",
       "146022                     0.0                      0.0   \n",
       "146023                     0.0                      0.0   \n",
       "\n",
       "        saldo_medio_var44_hace3  saldo_medio_var44_ult1  \\\n",
       "0                           0.0                     0.0   \n",
       "1                           0.0                     0.0   \n",
       "2                           0.0                     0.0   \n",
       "3                           0.0                     0.0   \n",
       "4                           0.0                     0.0   \n",
       "...                         ...                     ...   \n",
       "146019                      0.0                     0.0   \n",
       "146020                      0.0                     0.0   \n",
       "146021                      0.0                     0.0   \n",
       "146022                      0.0                     0.0   \n",
       "146023                      0.0                     0.0   \n",
       "\n",
       "        saldo_medio_var44_ult3     var38  \n",
       "0                          0.0  0.001545  \n",
       "1                          0.0  0.002003  \n",
       "2                          0.0  0.002822  \n",
       "3                          0.0  0.002671  \n",
       "4                          0.0  0.005091  \n",
       "...                        ...       ...  \n",
       "146019                     0.0  0.008147  \n",
       "146020                     0.0  0.005091  \n",
       "146021                     0.0  0.006645  \n",
       "146022                     0.0  0.005091  \n",
       "146023                     0.0  0.005779  \n",
       "\n",
       "[146024 rows x 335 columns]"
      ]
     },
     "execution_count": 48,
     "metadata": {},
     "output_type": "execute_result"
    }
   ],
   "source": [
    "scaled_x_smote"
   ]
  },
  {
   "cell_type": "code",
   "execution_count": 49,
   "id": "6e2a4c08",
   "metadata": {
    "execution": {
     "iopub.execute_input": "2023-10-15T15:53:56.745632Z",
     "iopub.status.busy": "2023-10-15T15:53:56.745252Z",
     "iopub.status.idle": "2023-10-15T15:53:56.795249Z",
     "shell.execute_reply": "2023-10-15T15:53:56.794365Z"
    },
    "papermill": {
     "duration": 0.08093,
     "end_time": "2023-10-15T15:53:56.797665",
     "exception": false,
     "start_time": "2023-10-15T15:53:56.716735",
     "status": "completed"
    },
    "tags": []
   },
   "outputs": [],
   "source": [
    "x_selecionado_frequencia_3 = pd.DataFrame({coluna: scaled_x_smote[coluna] for coluna in resultado_3_aparicoes})\n",
    "x_selecionado_frequencia_5 = pd.DataFrame({coluna: scaled_x_smote[coluna] for coluna in resultado_5_aparicoes})\n",
    "x_selecionado_frequencia_7 = pd.DataFrame({coluna: scaled_x_smote[coluna] for coluna in resultado_7_aparicoes})\n",
    "x_selecionado_frequencia_9 = pd.DataFrame({coluna: scaled_x_smote[coluna] for coluna in resultado_9_aparicoes})\n",
    "x_selecionado_frequencia_11 = pd.DataFrame({coluna: scaled_x_smote[coluna] for coluna in resultado_11_aparicoes})"
   ]
  },
  {
   "cell_type": "code",
   "execution_count": 50,
   "id": "ead4f2bf",
   "metadata": {
    "execution": {
     "iopub.execute_input": "2023-10-15T15:53:56.854669Z",
     "iopub.status.busy": "2023-10-15T15:53:56.854291Z",
     "iopub.status.idle": "2023-10-15T15:53:56.878052Z",
     "shell.execute_reply": "2023-10-15T15:53:56.877354Z"
    },
    "papermill": {
     "duration": 0.053774,
     "end_time": "2023-10-15T15:53:56.879700",
     "exception": false,
     "start_time": "2023-10-15T15:53:56.825926",
     "status": "completed"
    },
    "tags": []
   },
   "outputs": [
    {
     "data": {
      "text/html": [
       "<div>\n",
       "<style scoped>\n",
       "    .dataframe tbody tr th:only-of-type {\n",
       "        vertical-align: middle;\n",
       "    }\n",
       "\n",
       "    .dataframe tbody tr th {\n",
       "        vertical-align: top;\n",
       "    }\n",
       "\n",
       "    .dataframe thead th {\n",
       "        text-align: right;\n",
       "    }\n",
       "</style>\n",
       "<table border=\"1\" class=\"dataframe\">\n",
       "  <thead>\n",
       "    <tr style=\"text-align: right;\">\n",
       "      <th></th>\n",
       "      <th>ind_var30</th>\n",
       "      <th>num_var30</th>\n",
       "      <th>num_meses_var5_ult3</th>\n",
       "      <th>var15</th>\n",
       "      <th>num_var4</th>\n",
       "      <th>ind_var5</th>\n",
       "      <th>num_var35</th>\n",
       "      <th>num_var5</th>\n",
       "      <th>num_var42</th>\n",
       "      <th>var36</th>\n",
       "      <th>...</th>\n",
       "      <th>num_var24_0</th>\n",
       "      <th>ind_var25_cte</th>\n",
       "      <th>ind_var26_cte</th>\n",
       "      <th>ind_var26</th>\n",
       "      <th>ind_var25</th>\n",
       "      <th>ind_var26_0</th>\n",
       "      <th>ind_var25_0</th>\n",
       "      <th>ind_var8</th>\n",
       "      <th>ind_var8_0</th>\n",
       "      <th>num_var8</th>\n",
       "    </tr>\n",
       "  </thead>\n",
       "  <tbody>\n",
       "    <tr>\n",
       "      <th>0</th>\n",
       "      <td>0.0</td>\n",
       "      <td>0.000000</td>\n",
       "      <td>0.000000</td>\n",
       "      <td>0.18</td>\n",
       "      <td>0.000000</td>\n",
       "      <td>0.0</td>\n",
       "      <td>0.000000</td>\n",
       "      <td>0.0</td>\n",
       "      <td>0.000000</td>\n",
       "      <td>1.000000</td>\n",
       "      <td>...</td>\n",
       "      <td>0.000000</td>\n",
       "      <td>0.0</td>\n",
       "      <td>0.0</td>\n",
       "      <td>0.0</td>\n",
       "      <td>0.0</td>\n",
       "      <td>0.0</td>\n",
       "      <td>0.0</td>\n",
       "      <td>0.0</td>\n",
       "      <td>0.0</td>\n",
       "      <td>0.0</td>\n",
       "    </tr>\n",
       "    <tr>\n",
       "      <th>1</th>\n",
       "      <td>1.0</td>\n",
       "      <td>0.090909</td>\n",
       "      <td>0.333333</td>\n",
       "      <td>0.29</td>\n",
       "      <td>0.142857</td>\n",
       "      <td>0.0</td>\n",
       "      <td>0.083333</td>\n",
       "      <td>0.0</td>\n",
       "      <td>0.000000</td>\n",
       "      <td>0.030303</td>\n",
       "      <td>...</td>\n",
       "      <td>0.000000</td>\n",
       "      <td>0.0</td>\n",
       "      <td>0.0</td>\n",
       "      <td>0.0</td>\n",
       "      <td>0.0</td>\n",
       "      <td>0.0</td>\n",
       "      <td>0.0</td>\n",
       "      <td>0.0</td>\n",
       "      <td>0.0</td>\n",
       "      <td>0.0</td>\n",
       "    </tr>\n",
       "    <tr>\n",
       "      <th>2</th>\n",
       "      <td>1.0</td>\n",
       "      <td>0.090909</td>\n",
       "      <td>1.000000</td>\n",
       "      <td>0.18</td>\n",
       "      <td>0.142857</td>\n",
       "      <td>1.0</td>\n",
       "      <td>0.083333</td>\n",
       "      <td>0.2</td>\n",
       "      <td>0.166667</td>\n",
       "      <td>1.000000</td>\n",
       "      <td>...</td>\n",
       "      <td>0.000000</td>\n",
       "      <td>0.0</td>\n",
       "      <td>0.0</td>\n",
       "      <td>0.0</td>\n",
       "      <td>0.0</td>\n",
       "      <td>0.0</td>\n",
       "      <td>0.0</td>\n",
       "      <td>0.0</td>\n",
       "      <td>0.0</td>\n",
       "      <td>0.0</td>\n",
       "    </tr>\n",
       "    <tr>\n",
       "      <th>3</th>\n",
       "      <td>1.0</td>\n",
       "      <td>0.090909</td>\n",
       "      <td>0.666667</td>\n",
       "      <td>0.32</td>\n",
       "      <td>0.428571</td>\n",
       "      <td>1.0</td>\n",
       "      <td>0.250000</td>\n",
       "      <td>0.2</td>\n",
       "      <td>0.166667</td>\n",
       "      <td>0.020202</td>\n",
       "      <td>...</td>\n",
       "      <td>0.000000</td>\n",
       "      <td>0.0</td>\n",
       "      <td>0.0</td>\n",
       "      <td>0.0</td>\n",
       "      <td>0.0</td>\n",
       "      <td>0.0</td>\n",
       "      <td>0.0</td>\n",
       "      <td>0.0</td>\n",
       "      <td>0.0</td>\n",
       "      <td>0.0</td>\n",
       "    </tr>\n",
       "    <tr>\n",
       "      <th>4</th>\n",
       "      <td>1.0</td>\n",
       "      <td>0.090909</td>\n",
       "      <td>1.000000</td>\n",
       "      <td>0.34</td>\n",
       "      <td>0.142857</td>\n",
       "      <td>0.0</td>\n",
       "      <td>0.083333</td>\n",
       "      <td>0.0</td>\n",
       "      <td>0.166667</td>\n",
       "      <td>0.010101</td>\n",
       "      <td>...</td>\n",
       "      <td>0.333333</td>\n",
       "      <td>0.0</td>\n",
       "      <td>0.0</td>\n",
       "      <td>0.0</td>\n",
       "      <td>0.0</td>\n",
       "      <td>0.0</td>\n",
       "      <td>0.0</td>\n",
       "      <td>0.0</td>\n",
       "      <td>0.0</td>\n",
       "      <td>0.0</td>\n",
       "    </tr>\n",
       "  </tbody>\n",
       "</table>\n",
       "<p>5 rows × 52 columns</p>\n",
       "</div>"
      ],
      "text/plain": [
       "   ind_var30  num_var30  num_meses_var5_ult3  var15  num_var4  ind_var5  \\\n",
       "0        0.0   0.000000             0.000000   0.18  0.000000       0.0   \n",
       "1        1.0   0.090909             0.333333   0.29  0.142857       0.0   \n",
       "2        1.0   0.090909             1.000000   0.18  0.142857       1.0   \n",
       "3        1.0   0.090909             0.666667   0.32  0.428571       1.0   \n",
       "4        1.0   0.090909             1.000000   0.34  0.142857       0.0   \n",
       "\n",
       "   num_var35  num_var5  num_var42     var36  ...  num_var24_0  ind_var25_cte  \\\n",
       "0   0.000000       0.0   0.000000  1.000000  ...     0.000000            0.0   \n",
       "1   0.083333       0.0   0.000000  0.030303  ...     0.000000            0.0   \n",
       "2   0.083333       0.2   0.166667  1.000000  ...     0.000000            0.0   \n",
       "3   0.250000       0.2   0.166667  0.020202  ...     0.000000            0.0   \n",
       "4   0.083333       0.0   0.166667  0.010101  ...     0.333333            0.0   \n",
       "\n",
       "   ind_var26_cte  ind_var26  ind_var25  ind_var26_0  ind_var25_0  ind_var8  \\\n",
       "0            0.0        0.0        0.0          0.0          0.0       0.0   \n",
       "1            0.0        0.0        0.0          0.0          0.0       0.0   \n",
       "2            0.0        0.0        0.0          0.0          0.0       0.0   \n",
       "3            0.0        0.0        0.0          0.0          0.0       0.0   \n",
       "4            0.0        0.0        0.0          0.0          0.0       0.0   \n",
       "\n",
       "   ind_var8_0  num_var8  \n",
       "0         0.0       0.0  \n",
       "1         0.0       0.0  \n",
       "2         0.0       0.0  \n",
       "3         0.0       0.0  \n",
       "4         0.0       0.0  \n",
       "\n",
       "[5 rows x 52 columns]"
      ]
     },
     "execution_count": 50,
     "metadata": {},
     "output_type": "execute_result"
    }
   ],
   "source": [
    "x_selecionado_frequencia_3.head()"
   ]
  },
  {
   "cell_type": "code",
   "execution_count": 51,
   "id": "6b0873a3",
   "metadata": {
    "execution": {
     "iopub.execute_input": "2023-10-15T15:53:56.936673Z",
     "iopub.status.busy": "2023-10-15T15:53:56.936277Z",
     "iopub.status.idle": "2023-10-15T15:53:56.960113Z",
     "shell.execute_reply": "2023-10-15T15:53:56.959075Z"
    },
    "papermill": {
     "duration": 0.054979,
     "end_time": "2023-10-15T15:53:56.962096",
     "exception": false,
     "start_time": "2023-10-15T15:53:56.907117",
     "status": "completed"
    },
    "tags": []
   },
   "outputs": [
    {
     "data": {
      "text/html": [
       "<div>\n",
       "<style scoped>\n",
       "    .dataframe tbody tr th:only-of-type {\n",
       "        vertical-align: middle;\n",
       "    }\n",
       "\n",
       "    .dataframe tbody tr th {\n",
       "        vertical-align: top;\n",
       "    }\n",
       "\n",
       "    .dataframe thead th {\n",
       "        text-align: right;\n",
       "    }\n",
       "</style>\n",
       "<table border=\"1\" class=\"dataframe\">\n",
       "  <thead>\n",
       "    <tr style=\"text-align: right;\">\n",
       "      <th></th>\n",
       "      <th>ind_var30</th>\n",
       "      <th>num_var30</th>\n",
       "      <th>num_meses_var5_ult3</th>\n",
       "      <th>var15</th>\n",
       "      <th>num_var4</th>\n",
       "      <th>ind_var5</th>\n",
       "      <th>num_var35</th>\n",
       "      <th>num_var5</th>\n",
       "      <th>num_var42</th>\n",
       "      <th>var36</th>\n",
       "      <th>...</th>\n",
       "      <th>ind_var10_ult1</th>\n",
       "      <th>num_meses_var12_ult3</th>\n",
       "      <th>num_meses_var13_corto_ult3</th>\n",
       "      <th>ind_var5_0</th>\n",
       "      <th>ind_var24_0</th>\n",
       "      <th>ind_var24</th>\n",
       "      <th>num_var13_corto_0</th>\n",
       "      <th>ind_var13_corto</th>\n",
       "      <th>ind_var13_corto_0</th>\n",
       "      <th>ind_var14_0</th>\n",
       "    </tr>\n",
       "  </thead>\n",
       "  <tbody>\n",
       "    <tr>\n",
       "      <th>0</th>\n",
       "      <td>0.0</td>\n",
       "      <td>0.000000</td>\n",
       "      <td>0.000000</td>\n",
       "      <td>0.18</td>\n",
       "      <td>0.000000</td>\n",
       "      <td>0.0</td>\n",
       "      <td>0.000000</td>\n",
       "      <td>0.0</td>\n",
       "      <td>0.000000</td>\n",
       "      <td>1.000000</td>\n",
       "      <td>...</td>\n",
       "      <td>0.0</td>\n",
       "      <td>0.000000</td>\n",
       "      <td>0.0</td>\n",
       "      <td>1.0</td>\n",
       "      <td>0.0</td>\n",
       "      <td>0.0</td>\n",
       "      <td>0.0</td>\n",
       "      <td>0.0</td>\n",
       "      <td>0.0</td>\n",
       "      <td>0.0</td>\n",
       "    </tr>\n",
       "    <tr>\n",
       "      <th>1</th>\n",
       "      <td>1.0</td>\n",
       "      <td>0.090909</td>\n",
       "      <td>0.333333</td>\n",
       "      <td>0.29</td>\n",
       "      <td>0.142857</td>\n",
       "      <td>0.0</td>\n",
       "      <td>0.083333</td>\n",
       "      <td>0.0</td>\n",
       "      <td>0.000000</td>\n",
       "      <td>0.030303</td>\n",
       "      <td>...</td>\n",
       "      <td>0.0</td>\n",
       "      <td>0.000000</td>\n",
       "      <td>1.0</td>\n",
       "      <td>1.0</td>\n",
       "      <td>0.0</td>\n",
       "      <td>0.0</td>\n",
       "      <td>0.5</td>\n",
       "      <td>1.0</td>\n",
       "      <td>1.0</td>\n",
       "      <td>0.0</td>\n",
       "    </tr>\n",
       "    <tr>\n",
       "      <th>2</th>\n",
       "      <td>1.0</td>\n",
       "      <td>0.090909</td>\n",
       "      <td>1.000000</td>\n",
       "      <td>0.18</td>\n",
       "      <td>0.142857</td>\n",
       "      <td>1.0</td>\n",
       "      <td>0.083333</td>\n",
       "      <td>0.2</td>\n",
       "      <td>0.166667</td>\n",
       "      <td>1.000000</td>\n",
       "      <td>...</td>\n",
       "      <td>0.0</td>\n",
       "      <td>0.000000</td>\n",
       "      <td>0.0</td>\n",
       "      <td>1.0</td>\n",
       "      <td>0.0</td>\n",
       "      <td>0.0</td>\n",
       "      <td>0.0</td>\n",
       "      <td>0.0</td>\n",
       "      <td>0.0</td>\n",
       "      <td>0.0</td>\n",
       "    </tr>\n",
       "    <tr>\n",
       "      <th>3</th>\n",
       "      <td>1.0</td>\n",
       "      <td>0.090909</td>\n",
       "      <td>0.666667</td>\n",
       "      <td>0.32</td>\n",
       "      <td>0.428571</td>\n",
       "      <td>1.0</td>\n",
       "      <td>0.250000</td>\n",
       "      <td>0.2</td>\n",
       "      <td>0.166667</td>\n",
       "      <td>0.020202</td>\n",
       "      <td>...</td>\n",
       "      <td>1.0</td>\n",
       "      <td>0.000000</td>\n",
       "      <td>0.0</td>\n",
       "      <td>1.0</td>\n",
       "      <td>0.0</td>\n",
       "      <td>0.0</td>\n",
       "      <td>0.0</td>\n",
       "      <td>0.0</td>\n",
       "      <td>0.0</td>\n",
       "      <td>0.0</td>\n",
       "    </tr>\n",
       "    <tr>\n",
       "      <th>4</th>\n",
       "      <td>1.0</td>\n",
       "      <td>0.090909</td>\n",
       "      <td>1.000000</td>\n",
       "      <td>0.34</td>\n",
       "      <td>0.142857</td>\n",
       "      <td>0.0</td>\n",
       "      <td>0.083333</td>\n",
       "      <td>0.0</td>\n",
       "      <td>0.166667</td>\n",
       "      <td>0.010101</td>\n",
       "      <td>...</td>\n",
       "      <td>0.0</td>\n",
       "      <td>0.333333</td>\n",
       "      <td>0.0</td>\n",
       "      <td>1.0</td>\n",
       "      <td>1.0</td>\n",
       "      <td>1.0</td>\n",
       "      <td>0.0</td>\n",
       "      <td>0.0</td>\n",
       "      <td>0.0</td>\n",
       "      <td>0.0</td>\n",
       "    </tr>\n",
       "  </tbody>\n",
       "</table>\n",
       "<p>5 rows × 37 columns</p>\n",
       "</div>"
      ],
      "text/plain": [
       "   ind_var30  num_var30  num_meses_var5_ult3  var15  num_var4  ind_var5  \\\n",
       "0        0.0   0.000000             0.000000   0.18  0.000000       0.0   \n",
       "1        1.0   0.090909             0.333333   0.29  0.142857       0.0   \n",
       "2        1.0   0.090909             1.000000   0.18  0.142857       1.0   \n",
       "3        1.0   0.090909             0.666667   0.32  0.428571       1.0   \n",
       "4        1.0   0.090909             1.000000   0.34  0.142857       0.0   \n",
       "\n",
       "   num_var35  num_var5  num_var42     var36  ...  ind_var10_ult1  \\\n",
       "0   0.000000       0.0   0.000000  1.000000  ...             0.0   \n",
       "1   0.083333       0.0   0.000000  0.030303  ...             0.0   \n",
       "2   0.083333       0.2   0.166667  1.000000  ...             0.0   \n",
       "3   0.250000       0.2   0.166667  0.020202  ...             1.0   \n",
       "4   0.083333       0.0   0.166667  0.010101  ...             0.0   \n",
       "\n",
       "   num_meses_var12_ult3  num_meses_var13_corto_ult3  ind_var5_0  ind_var24_0  \\\n",
       "0              0.000000                         0.0         1.0          0.0   \n",
       "1              0.000000                         1.0         1.0          0.0   \n",
       "2              0.000000                         0.0         1.0          0.0   \n",
       "3              0.000000                         0.0         1.0          0.0   \n",
       "4              0.333333                         0.0         1.0          1.0   \n",
       "\n",
       "   ind_var24  num_var13_corto_0  ind_var13_corto  ind_var13_corto_0  \\\n",
       "0        0.0                0.0              0.0                0.0   \n",
       "1        0.0                0.5              1.0                1.0   \n",
       "2        0.0                0.0              0.0                0.0   \n",
       "3        0.0                0.0              0.0                0.0   \n",
       "4        1.0                0.0              0.0                0.0   \n",
       "\n",
       "   ind_var14_0  \n",
       "0          0.0  \n",
       "1          0.0  \n",
       "2          0.0  \n",
       "3          0.0  \n",
       "4          0.0  \n",
       "\n",
       "[5 rows x 37 columns]"
      ]
     },
     "execution_count": 51,
     "metadata": {},
     "output_type": "execute_result"
    }
   ],
   "source": [
    "x_selecionado_frequencia_5.head()"
   ]
  },
  {
   "cell_type": "code",
   "execution_count": 52,
   "id": "d7cd48f4",
   "metadata": {
    "execution": {
     "iopub.execute_input": "2023-10-15T15:53:57.019567Z",
     "iopub.status.busy": "2023-10-15T15:53:57.019099Z",
     "iopub.status.idle": "2023-10-15T15:53:57.044387Z",
     "shell.execute_reply": "2023-10-15T15:53:57.043229Z"
    },
    "papermill": {
     "duration": 0.056371,
     "end_time": "2023-10-15T15:53:57.046401",
     "exception": false,
     "start_time": "2023-10-15T15:53:56.990030",
     "status": "completed"
    },
    "tags": []
   },
   "outputs": [
    {
     "data": {
      "text/html": [
       "<div>\n",
       "<style scoped>\n",
       "    .dataframe tbody tr th:only-of-type {\n",
       "        vertical-align: middle;\n",
       "    }\n",
       "\n",
       "    .dataframe tbody tr th {\n",
       "        vertical-align: top;\n",
       "    }\n",
       "\n",
       "    .dataframe thead th {\n",
       "        text-align: right;\n",
       "    }\n",
       "</style>\n",
       "<table border=\"1\" class=\"dataframe\">\n",
       "  <thead>\n",
       "    <tr style=\"text-align: right;\">\n",
       "      <th></th>\n",
       "      <th>ind_var30</th>\n",
       "      <th>num_var30</th>\n",
       "      <th>num_meses_var5_ult3</th>\n",
       "      <th>var15</th>\n",
       "      <th>num_var4</th>\n",
       "      <th>ind_var5</th>\n",
       "      <th>num_var35</th>\n",
       "      <th>num_var5</th>\n",
       "      <th>num_var42</th>\n",
       "      <th>var36</th>\n",
       "      <th>...</th>\n",
       "      <th>ind_var43_emit_ult1</th>\n",
       "      <th>ind_var12</th>\n",
       "      <th>ind_var37</th>\n",
       "      <th>ind_var13_0</th>\n",
       "      <th>ind_var13</th>\n",
       "      <th>ind_var37_0</th>\n",
       "      <th>ind_var10_ult1</th>\n",
       "      <th>num_meses_var12_ult3</th>\n",
       "      <th>num_meses_var13_corto_ult3</th>\n",
       "      <th>ind_var24_0</th>\n",
       "    </tr>\n",
       "  </thead>\n",
       "  <tbody>\n",
       "    <tr>\n",
       "      <th>0</th>\n",
       "      <td>0.0</td>\n",
       "      <td>0.000000</td>\n",
       "      <td>0.000000</td>\n",
       "      <td>0.18</td>\n",
       "      <td>0.000000</td>\n",
       "      <td>0.0</td>\n",
       "      <td>0.000000</td>\n",
       "      <td>0.0</td>\n",
       "      <td>0.000000</td>\n",
       "      <td>1.000000</td>\n",
       "      <td>...</td>\n",
       "      <td>0.0</td>\n",
       "      <td>0.0</td>\n",
       "      <td>0.0</td>\n",
       "      <td>0.0</td>\n",
       "      <td>0.0</td>\n",
       "      <td>0.0</td>\n",
       "      <td>0.0</td>\n",
       "      <td>0.000000</td>\n",
       "      <td>0.0</td>\n",
       "      <td>0.0</td>\n",
       "    </tr>\n",
       "    <tr>\n",
       "      <th>1</th>\n",
       "      <td>1.0</td>\n",
       "      <td>0.090909</td>\n",
       "      <td>0.333333</td>\n",
       "      <td>0.29</td>\n",
       "      <td>0.142857</td>\n",
       "      <td>0.0</td>\n",
       "      <td>0.083333</td>\n",
       "      <td>0.0</td>\n",
       "      <td>0.000000</td>\n",
       "      <td>0.030303</td>\n",
       "      <td>...</td>\n",
       "      <td>0.0</td>\n",
       "      <td>0.0</td>\n",
       "      <td>0.0</td>\n",
       "      <td>1.0</td>\n",
       "      <td>1.0</td>\n",
       "      <td>0.0</td>\n",
       "      <td>0.0</td>\n",
       "      <td>0.000000</td>\n",
       "      <td>1.0</td>\n",
       "      <td>0.0</td>\n",
       "    </tr>\n",
       "    <tr>\n",
       "      <th>2</th>\n",
       "      <td>1.0</td>\n",
       "      <td>0.090909</td>\n",
       "      <td>1.000000</td>\n",
       "      <td>0.18</td>\n",
       "      <td>0.142857</td>\n",
       "      <td>1.0</td>\n",
       "      <td>0.083333</td>\n",
       "      <td>0.2</td>\n",
       "      <td>0.166667</td>\n",
       "      <td>1.000000</td>\n",
       "      <td>...</td>\n",
       "      <td>0.0</td>\n",
       "      <td>0.0</td>\n",
       "      <td>0.0</td>\n",
       "      <td>0.0</td>\n",
       "      <td>0.0</td>\n",
       "      <td>0.0</td>\n",
       "      <td>0.0</td>\n",
       "      <td>0.000000</td>\n",
       "      <td>0.0</td>\n",
       "      <td>0.0</td>\n",
       "    </tr>\n",
       "    <tr>\n",
       "      <th>3</th>\n",
       "      <td>1.0</td>\n",
       "      <td>0.090909</td>\n",
       "      <td>0.666667</td>\n",
       "      <td>0.32</td>\n",
       "      <td>0.428571</td>\n",
       "      <td>1.0</td>\n",
       "      <td>0.250000</td>\n",
       "      <td>0.2</td>\n",
       "      <td>0.166667</td>\n",
       "      <td>0.020202</td>\n",
       "      <td>...</td>\n",
       "      <td>0.0</td>\n",
       "      <td>0.0</td>\n",
       "      <td>1.0</td>\n",
       "      <td>0.0</td>\n",
       "      <td>0.0</td>\n",
       "      <td>1.0</td>\n",
       "      <td>1.0</td>\n",
       "      <td>0.000000</td>\n",
       "      <td>0.0</td>\n",
       "      <td>0.0</td>\n",
       "    </tr>\n",
       "    <tr>\n",
       "      <th>4</th>\n",
       "      <td>1.0</td>\n",
       "      <td>0.090909</td>\n",
       "      <td>1.000000</td>\n",
       "      <td>0.34</td>\n",
       "      <td>0.142857</td>\n",
       "      <td>0.0</td>\n",
       "      <td>0.083333</td>\n",
       "      <td>0.0</td>\n",
       "      <td>0.166667</td>\n",
       "      <td>0.010101</td>\n",
       "      <td>...</td>\n",
       "      <td>1.0</td>\n",
       "      <td>1.0</td>\n",
       "      <td>0.0</td>\n",
       "      <td>0.0</td>\n",
       "      <td>0.0</td>\n",
       "      <td>0.0</td>\n",
       "      <td>0.0</td>\n",
       "      <td>0.333333</td>\n",
       "      <td>0.0</td>\n",
       "      <td>1.0</td>\n",
       "    </tr>\n",
       "  </tbody>\n",
       "</table>\n",
       "<p>5 rows × 29 columns</p>\n",
       "</div>"
      ],
      "text/plain": [
       "   ind_var30  num_var30  num_meses_var5_ult3  var15  num_var4  ind_var5  \\\n",
       "0        0.0   0.000000             0.000000   0.18  0.000000       0.0   \n",
       "1        1.0   0.090909             0.333333   0.29  0.142857       0.0   \n",
       "2        1.0   0.090909             1.000000   0.18  0.142857       1.0   \n",
       "3        1.0   0.090909             0.666667   0.32  0.428571       1.0   \n",
       "4        1.0   0.090909             1.000000   0.34  0.142857       0.0   \n",
       "\n",
       "   num_var35  num_var5  num_var42     var36  ...  ind_var43_emit_ult1  \\\n",
       "0   0.000000       0.0   0.000000  1.000000  ...                  0.0   \n",
       "1   0.083333       0.0   0.000000  0.030303  ...                  0.0   \n",
       "2   0.083333       0.2   0.166667  1.000000  ...                  0.0   \n",
       "3   0.250000       0.2   0.166667  0.020202  ...                  0.0   \n",
       "4   0.083333       0.0   0.166667  0.010101  ...                  1.0   \n",
       "\n",
       "   ind_var12  ind_var37  ind_var13_0  ind_var13  ind_var37_0  ind_var10_ult1  \\\n",
       "0        0.0        0.0          0.0        0.0          0.0             0.0   \n",
       "1        0.0        0.0          1.0        1.0          0.0             0.0   \n",
       "2        0.0        0.0          0.0        0.0          0.0             0.0   \n",
       "3        0.0        1.0          0.0        0.0          1.0             1.0   \n",
       "4        1.0        0.0          0.0        0.0          0.0             0.0   \n",
       "\n",
       "   num_meses_var12_ult3  num_meses_var13_corto_ult3  ind_var24_0  \n",
       "0              0.000000                         0.0          0.0  \n",
       "1              0.000000                         1.0          0.0  \n",
       "2              0.000000                         0.0          0.0  \n",
       "3              0.000000                         0.0          0.0  \n",
       "4              0.333333                         0.0          1.0  \n",
       "\n",
       "[5 rows x 29 columns]"
      ]
     },
     "execution_count": 52,
     "metadata": {},
     "output_type": "execute_result"
    }
   ],
   "source": [
    "x_selecionado_frequencia_7.head()"
   ]
  },
  {
   "cell_type": "code",
   "execution_count": 53,
   "id": "bc4a78d6",
   "metadata": {
    "execution": {
     "iopub.execute_input": "2023-10-15T15:53:57.107058Z",
     "iopub.status.busy": "2023-10-15T15:53:57.106007Z",
     "iopub.status.idle": "2023-10-15T15:53:57.128588Z",
     "shell.execute_reply": "2023-10-15T15:53:57.127823Z"
    },
    "papermill": {
     "duration": 0.054766,
     "end_time": "2023-10-15T15:53:57.130499",
     "exception": false,
     "start_time": "2023-10-15T15:53:57.075733",
     "status": "completed"
    },
    "tags": []
   },
   "outputs": [
    {
     "data": {
      "text/html": [
       "<div>\n",
       "<style scoped>\n",
       "    .dataframe tbody tr th:only-of-type {\n",
       "        vertical-align: middle;\n",
       "    }\n",
       "\n",
       "    .dataframe tbody tr th {\n",
       "        vertical-align: top;\n",
       "    }\n",
       "\n",
       "    .dataframe thead th {\n",
       "        text-align: right;\n",
       "    }\n",
       "</style>\n",
       "<table border=\"1\" class=\"dataframe\">\n",
       "  <thead>\n",
       "    <tr style=\"text-align: right;\">\n",
       "      <th></th>\n",
       "      <th>ind_var30</th>\n",
       "      <th>num_var30</th>\n",
       "      <th>num_meses_var5_ult3</th>\n",
       "      <th>num_var4</th>\n",
       "      <th>ind_var5</th>\n",
       "      <th>num_var35</th>\n",
       "      <th>num_var5</th>\n",
       "      <th>num_var42</th>\n",
       "      <th>var36</th>\n",
       "      <th>ind_var9_cte_ult1</th>\n",
       "      <th>ind_var39_0</th>\n",
       "      <th>ind_var10cte_ult1</th>\n",
       "      <th>ind_var43_recib_ult1</th>\n",
       "      <th>ind_var9_ult1</th>\n",
       "      <th>ind_var12_0</th>\n",
       "      <th>ind_var41_0</th>\n",
       "      <th>ind_var37_cte</th>\n",
       "      <th>ind_var43_emit_ult1</th>\n",
       "      <th>ind_var12</th>\n",
       "      <th>ind_var37</th>\n",
       "    </tr>\n",
       "  </thead>\n",
       "  <tbody>\n",
       "    <tr>\n",
       "      <th>0</th>\n",
       "      <td>0.0</td>\n",
       "      <td>0.000000</td>\n",
       "      <td>0.000000</td>\n",
       "      <td>0.000000</td>\n",
       "      <td>0.0</td>\n",
       "      <td>0.000000</td>\n",
       "      <td>0.0</td>\n",
       "      <td>0.000000</td>\n",
       "      <td>1.000000</td>\n",
       "      <td>0.0</td>\n",
       "      <td>1.0</td>\n",
       "      <td>0.0</td>\n",
       "      <td>0.0</td>\n",
       "      <td>0.0</td>\n",
       "      <td>0.0</td>\n",
       "      <td>1.0</td>\n",
       "      <td>0.0</td>\n",
       "      <td>0.0</td>\n",
       "      <td>0.0</td>\n",
       "      <td>0.0</td>\n",
       "    </tr>\n",
       "    <tr>\n",
       "      <th>1</th>\n",
       "      <td>1.0</td>\n",
       "      <td>0.090909</td>\n",
       "      <td>0.333333</td>\n",
       "      <td>0.142857</td>\n",
       "      <td>0.0</td>\n",
       "      <td>0.083333</td>\n",
       "      <td>0.0</td>\n",
       "      <td>0.000000</td>\n",
       "      <td>0.030303</td>\n",
       "      <td>0.0</td>\n",
       "      <td>1.0</td>\n",
       "      <td>0.0</td>\n",
       "      <td>0.0</td>\n",
       "      <td>0.0</td>\n",
       "      <td>0.0</td>\n",
       "      <td>1.0</td>\n",
       "      <td>0.0</td>\n",
       "      <td>0.0</td>\n",
       "      <td>0.0</td>\n",
       "      <td>0.0</td>\n",
       "    </tr>\n",
       "    <tr>\n",
       "      <th>2</th>\n",
       "      <td>1.0</td>\n",
       "      <td>0.090909</td>\n",
       "      <td>1.000000</td>\n",
       "      <td>0.142857</td>\n",
       "      <td>1.0</td>\n",
       "      <td>0.083333</td>\n",
       "      <td>0.2</td>\n",
       "      <td>0.166667</td>\n",
       "      <td>1.000000</td>\n",
       "      <td>0.0</td>\n",
       "      <td>1.0</td>\n",
       "      <td>0.0</td>\n",
       "      <td>0.0</td>\n",
       "      <td>0.0</td>\n",
       "      <td>0.0</td>\n",
       "      <td>1.0</td>\n",
       "      <td>0.0</td>\n",
       "      <td>0.0</td>\n",
       "      <td>0.0</td>\n",
       "      <td>0.0</td>\n",
       "    </tr>\n",
       "    <tr>\n",
       "      <th>3</th>\n",
       "      <td>1.0</td>\n",
       "      <td>0.090909</td>\n",
       "      <td>0.666667</td>\n",
       "      <td>0.428571</td>\n",
       "      <td>1.0</td>\n",
       "      <td>0.250000</td>\n",
       "      <td>0.2</td>\n",
       "      <td>0.166667</td>\n",
       "      <td>0.020202</td>\n",
       "      <td>1.0</td>\n",
       "      <td>1.0</td>\n",
       "      <td>1.0</td>\n",
       "      <td>0.0</td>\n",
       "      <td>1.0</td>\n",
       "      <td>0.0</td>\n",
       "      <td>1.0</td>\n",
       "      <td>1.0</td>\n",
       "      <td>0.0</td>\n",
       "      <td>0.0</td>\n",
       "      <td>1.0</td>\n",
       "    </tr>\n",
       "    <tr>\n",
       "      <th>4</th>\n",
       "      <td>1.0</td>\n",
       "      <td>0.090909</td>\n",
       "      <td>1.000000</td>\n",
       "      <td>0.142857</td>\n",
       "      <td>0.0</td>\n",
       "      <td>0.083333</td>\n",
       "      <td>0.0</td>\n",
       "      <td>0.166667</td>\n",
       "      <td>0.010101</td>\n",
       "      <td>0.0</td>\n",
       "      <td>1.0</td>\n",
       "      <td>0.0</td>\n",
       "      <td>1.0</td>\n",
       "      <td>0.0</td>\n",
       "      <td>1.0</td>\n",
       "      <td>1.0</td>\n",
       "      <td>0.0</td>\n",
       "      <td>1.0</td>\n",
       "      <td>1.0</td>\n",
       "      <td>0.0</td>\n",
       "    </tr>\n",
       "  </tbody>\n",
       "</table>\n",
       "</div>"
      ],
      "text/plain": [
       "   ind_var30  num_var30  num_meses_var5_ult3  num_var4  ind_var5  num_var35  \\\n",
       "0        0.0   0.000000             0.000000  0.000000       0.0   0.000000   \n",
       "1        1.0   0.090909             0.333333  0.142857       0.0   0.083333   \n",
       "2        1.0   0.090909             1.000000  0.142857       1.0   0.083333   \n",
       "3        1.0   0.090909             0.666667  0.428571       1.0   0.250000   \n",
       "4        1.0   0.090909             1.000000  0.142857       0.0   0.083333   \n",
       "\n",
       "   num_var5  num_var42     var36  ind_var9_cte_ult1  ind_var39_0  \\\n",
       "0       0.0   0.000000  1.000000                0.0          1.0   \n",
       "1       0.0   0.000000  0.030303                0.0          1.0   \n",
       "2       0.2   0.166667  1.000000                0.0          1.0   \n",
       "3       0.2   0.166667  0.020202                1.0          1.0   \n",
       "4       0.0   0.166667  0.010101                0.0          1.0   \n",
       "\n",
       "   ind_var10cte_ult1  ind_var43_recib_ult1  ind_var9_ult1  ind_var12_0  \\\n",
       "0                0.0                   0.0            0.0          0.0   \n",
       "1                0.0                   0.0            0.0          0.0   \n",
       "2                0.0                   0.0            0.0          0.0   \n",
       "3                1.0                   0.0            1.0          0.0   \n",
       "4                0.0                   1.0            0.0          1.0   \n",
       "\n",
       "   ind_var41_0  ind_var37_cte  ind_var43_emit_ult1  ind_var12  ind_var37  \n",
       "0          1.0            0.0                  0.0        0.0        0.0  \n",
       "1          1.0            0.0                  0.0        0.0        0.0  \n",
       "2          1.0            0.0                  0.0        0.0        0.0  \n",
       "3          1.0            1.0                  0.0        0.0        1.0  \n",
       "4          1.0            0.0                  1.0        1.0        0.0  "
      ]
     },
     "execution_count": 53,
     "metadata": {},
     "output_type": "execute_result"
    }
   ],
   "source": [
    "x_selecionado_frequencia_9.head()"
   ]
  },
  {
   "cell_type": "code",
   "execution_count": 54,
   "id": "7fce02ad",
   "metadata": {
    "execution": {
     "iopub.execute_input": "2023-10-15T15:53:57.191341Z",
     "iopub.status.busy": "2023-10-15T15:53:57.190640Z",
     "iopub.status.idle": "2023-10-15T15:53:57.207246Z",
     "shell.execute_reply": "2023-10-15T15:53:57.206090Z"
    },
    "papermill": {
     "duration": 0.048814,
     "end_time": "2023-10-15T15:53:57.209153",
     "exception": false,
     "start_time": "2023-10-15T15:53:57.160339",
     "status": "completed"
    },
    "tags": []
   },
   "outputs": [
    {
     "data": {
      "text/html": [
       "<div>\n",
       "<style scoped>\n",
       "    .dataframe tbody tr th:only-of-type {\n",
       "        vertical-align: middle;\n",
       "    }\n",
       "\n",
       "    .dataframe tbody tr th {\n",
       "        vertical-align: top;\n",
       "    }\n",
       "\n",
       "    .dataframe thead th {\n",
       "        text-align: right;\n",
       "    }\n",
       "</style>\n",
       "<table border=\"1\" class=\"dataframe\">\n",
       "  <thead>\n",
       "    <tr style=\"text-align: right;\">\n",
       "      <th></th>\n",
       "      <th>ind_var30</th>\n",
       "      <th>num_meses_var5_ult3</th>\n",
       "      <th>num_var4</th>\n",
       "      <th>ind_var5</th>\n",
       "      <th>var36</th>\n",
       "      <th>ind_var9_cte_ult1</th>\n",
       "      <th>ind_var10cte_ult1</th>\n",
       "      <th>ind_var43_recib_ult1</th>\n",
       "      <th>ind_var12_0</th>\n",
       "      <th>ind_var41_0</th>\n",
       "    </tr>\n",
       "  </thead>\n",
       "  <tbody>\n",
       "    <tr>\n",
       "      <th>0</th>\n",
       "      <td>0.0</td>\n",
       "      <td>0.000000</td>\n",
       "      <td>0.000000</td>\n",
       "      <td>0.0</td>\n",
       "      <td>1.000000</td>\n",
       "      <td>0.0</td>\n",
       "      <td>0.0</td>\n",
       "      <td>0.0</td>\n",
       "      <td>0.0</td>\n",
       "      <td>1.0</td>\n",
       "    </tr>\n",
       "    <tr>\n",
       "      <th>1</th>\n",
       "      <td>1.0</td>\n",
       "      <td>0.333333</td>\n",
       "      <td>0.142857</td>\n",
       "      <td>0.0</td>\n",
       "      <td>0.030303</td>\n",
       "      <td>0.0</td>\n",
       "      <td>0.0</td>\n",
       "      <td>0.0</td>\n",
       "      <td>0.0</td>\n",
       "      <td>1.0</td>\n",
       "    </tr>\n",
       "    <tr>\n",
       "      <th>2</th>\n",
       "      <td>1.0</td>\n",
       "      <td>1.000000</td>\n",
       "      <td>0.142857</td>\n",
       "      <td>1.0</td>\n",
       "      <td>1.000000</td>\n",
       "      <td>0.0</td>\n",
       "      <td>0.0</td>\n",
       "      <td>0.0</td>\n",
       "      <td>0.0</td>\n",
       "      <td>1.0</td>\n",
       "    </tr>\n",
       "    <tr>\n",
       "      <th>3</th>\n",
       "      <td>1.0</td>\n",
       "      <td>0.666667</td>\n",
       "      <td>0.428571</td>\n",
       "      <td>1.0</td>\n",
       "      <td>0.020202</td>\n",
       "      <td>1.0</td>\n",
       "      <td>1.0</td>\n",
       "      <td>0.0</td>\n",
       "      <td>0.0</td>\n",
       "      <td>1.0</td>\n",
       "    </tr>\n",
       "    <tr>\n",
       "      <th>4</th>\n",
       "      <td>1.0</td>\n",
       "      <td>1.000000</td>\n",
       "      <td>0.142857</td>\n",
       "      <td>0.0</td>\n",
       "      <td>0.010101</td>\n",
       "      <td>0.0</td>\n",
       "      <td>0.0</td>\n",
       "      <td>1.0</td>\n",
       "      <td>1.0</td>\n",
       "      <td>1.0</td>\n",
       "    </tr>\n",
       "  </tbody>\n",
       "</table>\n",
       "</div>"
      ],
      "text/plain": [
       "   ind_var30  num_meses_var5_ult3  num_var4  ind_var5     var36  \\\n",
       "0        0.0             0.000000  0.000000       0.0  1.000000   \n",
       "1        1.0             0.333333  0.142857       0.0  0.030303   \n",
       "2        1.0             1.000000  0.142857       1.0  1.000000   \n",
       "3        1.0             0.666667  0.428571       1.0  0.020202   \n",
       "4        1.0             1.000000  0.142857       0.0  0.010101   \n",
       "\n",
       "   ind_var9_cte_ult1  ind_var10cte_ult1  ind_var43_recib_ult1  ind_var12_0  \\\n",
       "0                0.0                0.0                   0.0          0.0   \n",
       "1                0.0                0.0                   0.0          0.0   \n",
       "2                0.0                0.0                   0.0          0.0   \n",
       "3                1.0                1.0                   0.0          0.0   \n",
       "4                0.0                0.0                   1.0          1.0   \n",
       "\n",
       "   ind_var41_0  \n",
       "0          1.0  \n",
       "1          1.0  \n",
       "2          1.0  \n",
       "3          1.0  \n",
       "4          1.0  "
      ]
     },
     "execution_count": 54,
     "metadata": {},
     "output_type": "execute_result"
    }
   ],
   "source": [
    "x_selecionado_frequencia_11.head()"
   ]
  },
  {
   "cell_type": "markdown",
   "id": "ddad7141",
   "metadata": {
    "papermill": {
     "duration": 0.028955,
     "end_time": "2023-10-15T15:53:57.267047",
     "exception": false,
     "start_time": "2023-10-15T15:53:57.238092",
     "status": "completed"
    },
    "tags": []
   },
   "source": [
    "### 4. Treinamento\n",
    "Agora, com os conjuntos definidos, é hora de treinar os modelos e avaliar resultados."
   ]
  },
  {
   "cell_type": "code",
   "execution_count": 55,
   "id": "8d3c6863",
   "metadata": {
    "execution": {
     "iopub.execute_input": "2023-10-15T15:53:57.326850Z",
     "iopub.status.busy": "2023-10-15T15:53:57.326088Z",
     "iopub.status.idle": "2023-10-15T15:53:57.350822Z",
     "shell.execute_reply": "2023-10-15T15:53:57.349847Z"
    },
    "papermill": {
     "duration": 0.057487,
     "end_time": "2023-10-15T15:53:57.353127",
     "exception": false,
     "start_time": "2023-10-15T15:53:57.295640",
     "status": "completed"
    },
    "tags": []
   },
   "outputs": [],
   "source": [
    "from sklearn.svm import SVC\n",
    "from sklearn.linear_model import LogisticRegression\n",
    "from sklearn.neighbors import KNeighborsClassifier\n",
    "from sklearn.tree import DecisionTreeClassifier\n",
    "from sklearn.ensemble import RandomForestClassifier, AdaBoostClassifier, ExtraTreesClassifier, GradientBoostingClassifier\n",
    "from sklearn.neural_network import MLPClassifier\n",
    "\n",
    "linear = SVC(random_state = SEED)\n",
    "knn = KNeighborsClassifier()\n",
    "lr = LogisticRegression(random_state = SEED)\n",
    "dt = DecisionTreeClassifier(random_state = SEED)\n",
    "rf = RandomForestClassifier(random_state = SEED)\n",
    "ab = AdaBoostClassifier(random_state = SEED)\n",
    "gb = GradientBoostingClassifier(random_state = SEED)\n",
    "extra = ExtraTreesClassifier(random_state = SEED)\n",
    "mlp = MLPClassifier(random_state = SEED)"
   ]
  },
  {
   "cell_type": "code",
   "execution_count": 56,
   "id": "0f40f55d",
   "metadata": {
    "execution": {
     "iopub.execute_input": "2023-10-15T15:53:57.413002Z",
     "iopub.status.busy": "2023-10-15T15:53:57.412386Z",
     "iopub.status.idle": "2023-10-15T15:53:57.423634Z",
     "shell.execute_reply": "2023-10-15T15:53:57.422593Z"
    },
    "papermill": {
     "duration": 0.04404,
     "end_time": "2023-10-15T15:53:57.425855",
     "exception": false,
     "start_time": "2023-10-15T15:53:57.381815",
     "status": "completed"
    },
    "tags": []
   },
   "outputs": [],
   "source": [
    "from sklearn.model_selection import cross_validate\n",
    "\n",
    "def avalia_modelo(modelo, x, y, dummy = False, multiclass = False):\n",
    "\n",
    "    if dummy:\n",
    "        resultados = cross_validate(modelo, x, y,\n",
    "                                    scoring = [\"accuracy\"],\n",
    "                                    cv = 10, n_jobs = -1)\n",
    "        print(f'Modelo: {modelo}')\n",
    "\n",
    "\n",
    "        media_acuracia = sum(resultados[\"test_accuracy\"])/10\n",
    "        print(f'Acurácia --> {media_acuracia :.2f}')\n",
    "\n",
    "    elif multiclass:\n",
    "        resultados = cross_validate(modelo, x, y,\n",
    "                                    scoring = [\"accuracy\", \"f1_weighted\", \"precision_weighted\", \"recall_weighted\"],\n",
    "                                    cv = 10, n_jobs = -1)\n",
    "        print(f'Modelo: {modelo}')\n",
    "\n",
    "\n",
    "        media_acuracia = sum(resultados[\"test_accuracy\"])/10\n",
    "        media_precisao = sum(resultados[\"test_precision_weighted\"])/10\n",
    "        media_recall = sum(resultados[\"test_recall_weighted\"])/10\n",
    "        media_f1 = sum(resultados[\"test_f1_weighted\"])/10\n",
    "        print(f'Acurácia --> {media_acuracia :.2f}')\n",
    "        print(f'Precisão --> {media_precisao :.2f}')\n",
    "        print(f'Recall --> {media_recall :.2f}')\n",
    "        print(f'F1 --> {media_f1 :.2f}')\n",
    "\n",
    "    else:\n",
    "        resultados = cross_validate(modelo, x, y,\n",
    "                                    scoring = [\"accuracy\", \"f1\", \"precision\", \"recall\"],\n",
    "                                    cv = 10, n_jobs = -1)\n",
    "        print(f'Modelo: {modelo}')\n",
    "\n",
    "\n",
    "        media_acuracia = sum(resultados[\"test_accuracy\"])/10\n",
    "        media_precisao = sum(resultados[\"test_precision\"])/10\n",
    "        media_recall = sum(resultados[\"test_recall\"])/10\n",
    "        media_f1 = sum(resultados[\"test_f1\"])/10\n",
    "        print(f'Acurácia --> {media_acuracia :.2f}')\n",
    "        print(f'Precisão --> {media_precisao :.2f}')\n",
    "        print(f'Recall --> {media_recall :.2f}')\n",
    "        print(f'F1 --> {media_f1 :.2f}')"
   ]
  },
  {
   "cell_type": "markdown",
   "id": "d138910d",
   "metadata": {
    "papermill": {
     "duration": 0.028346,
     "end_time": "2023-10-15T15:53:57.483290",
     "exception": false,
     "start_time": "2023-10-15T15:53:57.454944",
     "status": "completed"
    },
    "tags": []
   },
   "source": [
    "#### 4.1 KNN"
   ]
  },
  {
   "cell_type": "code",
   "execution_count": 57,
   "id": "1d58a842",
   "metadata": {
    "execution": {
     "iopub.execute_input": "2023-10-15T15:53:57.542910Z",
     "iopub.status.busy": "2023-10-15T15:53:57.541650Z",
     "iopub.status.idle": "2023-10-15T15:55:09.325136Z",
     "shell.execute_reply": "2023-10-15T15:55:09.323865Z"
    },
    "papermill": {
     "duration": 71.844834,
     "end_time": "2023-10-15T15:55:09.356645",
     "exception": false,
     "start_time": "2023-10-15T15:53:57.511811",
     "status": "completed"
    },
    "tags": []
   },
   "outputs": [
    {
     "name": "stdout",
     "output_type": "stream",
     "text": [
      "Modelo: KNeighborsClassifier()\n",
      "Acurácia --> 0.83\n",
      "Precisão --> 0.96\n",
      "Recall --> 0.69\n",
      "F1 --> 0.80\n"
     ]
    }
   ],
   "source": [
    "avalia_modelo(knn, x_selecionado_frequencia_3, TARGET)"
   ]
  },
  {
   "cell_type": "code",
   "execution_count": 58,
   "id": "3fff3c84",
   "metadata": {
    "execution": {
     "iopub.execute_input": "2023-10-15T15:55:09.418612Z",
     "iopub.status.busy": "2023-10-15T15:55:09.418146Z",
     "iopub.status.idle": "2023-10-15T15:56:11.902131Z",
     "shell.execute_reply": "2023-10-15T15:56:11.900957Z"
    },
    "papermill": {
     "duration": 62.546662,
     "end_time": "2023-10-15T15:56:11.932023",
     "exception": false,
     "start_time": "2023-10-15T15:55:09.385361",
     "status": "completed"
    },
    "tags": []
   },
   "outputs": [
    {
     "name": "stdout",
     "output_type": "stream",
     "text": [
      "Modelo: KNeighborsClassifier()\n",
      "Acurácia --> 0.81\n",
      "Precisão --> 0.97\n",
      "Recall --> 0.65\n",
      "F1 --> 0.78\n"
     ]
    }
   ],
   "source": [
    "avalia_modelo(knn, x_selecionado_frequencia_5, TARGET)"
   ]
  },
  {
   "cell_type": "code",
   "execution_count": 59,
   "id": "d6ff55bb",
   "metadata": {
    "execution": {
     "iopub.execute_input": "2023-10-15T15:56:11.991185Z",
     "iopub.status.busy": "2023-10-15T15:56:11.990680Z",
     "iopub.status.idle": "2023-10-15T15:57:09.770668Z",
     "shell.execute_reply": "2023-10-15T15:57:09.769915Z"
    },
    "papermill": {
     "duration": 57.841944,
     "end_time": "2023-10-15T15:57:09.802365",
     "exception": false,
     "start_time": "2023-10-15T15:56:11.960421",
     "status": "completed"
    },
    "tags": []
   },
   "outputs": [
    {
     "name": "stdout",
     "output_type": "stream",
     "text": [
      "Modelo: KNeighborsClassifier()\n",
      "Acurácia --> 0.80\n",
      "Precisão --> 0.97\n",
      "Recall --> 0.62\n",
      "F1 --> 0.75\n"
     ]
    }
   ],
   "source": [
    "avalia_modelo(knn, x_selecionado_frequencia_7, TARGET)"
   ]
  },
  {
   "cell_type": "code",
   "execution_count": 60,
   "id": "5e3a00f3",
   "metadata": {
    "execution": {
     "iopub.execute_input": "2023-10-15T15:57:09.861585Z",
     "iopub.status.busy": "2023-10-15T15:57:09.860558Z",
     "iopub.status.idle": "2023-10-15T15:58:00.765375Z",
     "shell.execute_reply": "2023-10-15T15:58:00.764599Z"
    },
    "papermill": {
     "duration": 50.964556,
     "end_time": "2023-10-15T15:58:00.795376",
     "exception": false,
     "start_time": "2023-10-15T15:57:09.830820",
     "status": "completed"
    },
    "tags": []
   },
   "outputs": [
    {
     "name": "stdout",
     "output_type": "stream",
     "text": [
      "Modelo: KNeighborsClassifier()\n",
      "Acurácia --> 0.75\n",
      "Precisão --> 0.99\n",
      "Recall --> 0.51\n",
      "F1 --> 0.67\n"
     ]
    }
   ],
   "source": [
    "avalia_modelo(knn, x_selecionado_frequencia_9, TARGET)"
   ]
  },
  {
   "cell_type": "code",
   "execution_count": 61,
   "id": "6e1e2586",
   "metadata": {
    "execution": {
     "iopub.execute_input": "2023-10-15T15:58:00.852894Z",
     "iopub.status.busy": "2023-10-15T15:58:00.852519Z",
     "iopub.status.idle": "2023-10-15T15:58:48.578769Z",
     "shell.execute_reply": "2023-10-15T15:58:48.577971Z"
    },
    "papermill": {
     "duration": 47.786483,
     "end_time": "2023-10-15T15:58:48.610098",
     "exception": false,
     "start_time": "2023-10-15T15:58:00.823615",
     "status": "completed"
    },
    "tags": []
   },
   "outputs": [
    {
     "name": "stdout",
     "output_type": "stream",
     "text": [
      "Modelo: KNeighborsClassifier()\n",
      "Acurácia --> 0.70\n",
      "Precisão --> 1.00\n",
      "Recall --> 0.40\n",
      "F1 --> 0.57\n"
     ]
    }
   ],
   "source": [
    "avalia_modelo(knn, x_selecionado_frequencia_11, TARGET)"
   ]
  },
  {
   "cell_type": "markdown",
   "id": "35ebda9a",
   "metadata": {
    "papermill": {
     "duration": 0.028609,
     "end_time": "2023-10-15T15:58:48.668594",
     "exception": false,
     "start_time": "2023-10-15T15:58:48.639985",
     "status": "completed"
    },
    "tags": []
   },
   "source": [
    "Aparentemente, o resultado da redução de dimensionalidade é uma queda gradual do recall até, eventualmente, comprometer a acurácia do modelo. A precisão é levemente melhorada."
   ]
  },
  {
   "cell_type": "markdown",
   "id": "1598f1a1",
   "metadata": {
    "papermill": {
     "duration": 0.029104,
     "end_time": "2023-10-15T15:58:48.726615",
     "exception": false,
     "start_time": "2023-10-15T15:58:48.697511",
     "status": "completed"
    },
    "tags": []
   },
   "source": [
    "#### 4.2 DecisionTree"
   ]
  },
  {
   "cell_type": "code",
   "execution_count": 62,
   "id": "70d81835",
   "metadata": {
    "execution": {
     "iopub.execute_input": "2023-10-15T15:58:48.788782Z",
     "iopub.status.busy": "2023-10-15T15:58:48.788026Z",
     "iopub.status.idle": "2023-10-15T15:58:51.840595Z",
     "shell.execute_reply": "2023-10-15T15:58:51.839501Z"
    },
    "papermill": {
     "duration": 3.0862,
     "end_time": "2023-10-15T15:58:51.842961",
     "exception": false,
     "start_time": "2023-10-15T15:58:48.756761",
     "status": "completed"
    },
    "tags": []
   },
   "outputs": [
    {
     "name": "stdout",
     "output_type": "stream",
     "text": [
      "Modelo: DecisionTreeClassifier(random_state=4923)\n",
      "Acurácia --> 0.90\n",
      "Precisão --> 0.88\n",
      "Recall --> 0.93\n",
      "F1 --> 0.90\n"
     ]
    }
   ],
   "source": [
    "avalia_modelo(dt, x_selecionado_frequencia_3, TARGET)"
   ]
  },
  {
   "cell_type": "code",
   "execution_count": 63,
   "id": "0db50ac0",
   "metadata": {
    "execution": {
     "iopub.execute_input": "2023-10-15T15:58:51.902260Z",
     "iopub.status.busy": "2023-10-15T15:58:51.901873Z",
     "iopub.status.idle": "2023-10-15T15:58:54.040005Z",
     "shell.execute_reply": "2023-10-15T15:58:54.039253Z"
    },
    "papermill": {
     "duration": 2.1707,
     "end_time": "2023-10-15T15:58:54.042437",
     "exception": false,
     "start_time": "2023-10-15T15:58:51.871737",
     "status": "completed"
    },
    "tags": []
   },
   "outputs": [
    {
     "name": "stdout",
     "output_type": "stream",
     "text": [
      "Modelo: DecisionTreeClassifier(random_state=4923)\n",
      "Acurácia --> 0.90\n",
      "Precisão --> 0.89\n",
      "Recall --> 0.91\n",
      "F1 --> 0.90\n"
     ]
    }
   ],
   "source": [
    "avalia_modelo(dt, x_selecionado_frequencia_5, TARGET)"
   ]
  },
  {
   "cell_type": "code",
   "execution_count": 64,
   "id": "051e7b05",
   "metadata": {
    "execution": {
     "iopub.execute_input": "2023-10-15T15:58:54.102451Z",
     "iopub.status.busy": "2023-10-15T15:58:54.101693Z",
     "iopub.status.idle": "2023-10-15T15:58:55.830734Z",
     "shell.execute_reply": "2023-10-15T15:58:55.829991Z"
    },
    "papermill": {
     "duration": 1.760971,
     "end_time": "2023-10-15T15:58:55.832785",
     "exception": false,
     "start_time": "2023-10-15T15:58:54.071814",
     "status": "completed"
    },
    "tags": []
   },
   "outputs": [
    {
     "name": "stdout",
     "output_type": "stream",
     "text": [
      "Modelo: DecisionTreeClassifier(random_state=4923)\n",
      "Acurácia --> 0.90\n",
      "Precisão --> 0.88\n",
      "Recall --> 0.91\n",
      "F1 --> 0.90\n"
     ]
    }
   ],
   "source": [
    "avalia_modelo(dt, x_selecionado_frequencia_7, TARGET)"
   ]
  },
  {
   "cell_type": "code",
   "execution_count": 65,
   "id": "50a039eb",
   "metadata": {
    "execution": {
     "iopub.execute_input": "2023-10-15T15:58:55.892872Z",
     "iopub.status.busy": "2023-10-15T15:58:55.892486Z",
     "iopub.status.idle": "2023-10-15T15:58:56.840408Z",
     "shell.execute_reply": "2023-10-15T15:58:56.838954Z"
    },
    "papermill": {
     "duration": 0.980073,
     "end_time": "2023-10-15T15:58:56.842494",
     "exception": false,
     "start_time": "2023-10-15T15:58:55.862421",
     "status": "completed"
    },
    "tags": []
   },
   "outputs": [
    {
     "name": "stdout",
     "output_type": "stream",
     "text": [
      "Modelo: DecisionTreeClassifier(random_state=4923)\n",
      "Acurácia --> 0.84\n",
      "Precisão --> 0.79\n",
      "Recall --> 0.93\n",
      "F1 --> 0.86\n"
     ]
    }
   ],
   "source": [
    "avalia_modelo(dt, x_selecionado_frequencia_9, TARGET)"
   ]
  },
  {
   "cell_type": "code",
   "execution_count": 66,
   "id": "cf4fca24",
   "metadata": {
    "execution": {
     "iopub.execute_input": "2023-10-15T15:58:56.902435Z",
     "iopub.status.busy": "2023-10-15T15:58:56.902014Z",
     "iopub.status.idle": "2023-10-15T15:58:57.498775Z",
     "shell.execute_reply": "2023-10-15T15:58:57.497698Z"
    },
    "papermill": {
     "duration": 0.629446,
     "end_time": "2023-10-15T15:58:57.501230",
     "exception": false,
     "start_time": "2023-10-15T15:58:56.871784",
     "status": "completed"
    },
    "tags": []
   },
   "outputs": [
    {
     "name": "stdout",
     "output_type": "stream",
     "text": [
      "Modelo: DecisionTreeClassifier(random_state=4923)\n",
      "Acurácia --> 0.82\n",
      "Precisão --> 0.78\n",
      "Recall --> 0.90\n",
      "F1 --> 0.84\n"
     ]
    }
   ],
   "source": [
    "avalia_modelo(dt, x_selecionado_frequencia_11, TARGET)"
   ]
  },
  {
   "cell_type": "markdown",
   "id": "f386ba8e",
   "metadata": {
    "papermill": {
     "duration": 0.028797,
     "end_time": "2023-10-15T15:58:57.558714",
     "exception": false,
     "start_time": "2023-10-15T15:58:57.529917",
     "status": "completed"
    },
    "tags": []
   },
   "source": [
    "#### 4.3 Regressão Logística"
   ]
  },
  {
   "cell_type": "code",
   "execution_count": 67,
   "id": "b7241337",
   "metadata": {
    "execution": {
     "iopub.execute_input": "2023-10-15T15:58:57.625037Z",
     "iopub.status.busy": "2023-10-15T15:58:57.624674Z",
     "iopub.status.idle": "2023-10-15T15:59:05.701708Z",
     "shell.execute_reply": "2023-10-15T15:59:05.700933Z"
    },
    "papermill": {
     "duration": 8.111462,
     "end_time": "2023-10-15T15:59:05.703844",
     "exception": false,
     "start_time": "2023-10-15T15:58:57.592382",
     "status": "completed"
    },
    "tags": []
   },
   "outputs": [
    {
     "name": "stderr",
     "output_type": "stream",
     "text": [
      "/opt/conda/lib/python3.10/site-packages/sklearn/linear_model/_logistic.py:458: ConvergenceWarning: lbfgs failed to converge (status=1):\n",
      "STOP: TOTAL NO. of ITERATIONS REACHED LIMIT.\n",
      "\n",
      "Increase the number of iterations (max_iter) or scale the data as shown in:\n",
      "    https://scikit-learn.org/stable/modules/preprocessing.html\n",
      "Please also refer to the documentation for alternative solver options:\n",
      "    https://scikit-learn.org/stable/modules/linear_model.html#logistic-regression\n",
      "  n_iter_i = _check_optimize_result(\n",
      "/opt/conda/lib/python3.10/site-packages/sklearn/linear_model/_logistic.py:458: ConvergenceWarning: lbfgs failed to converge (status=1):\n",
      "STOP: TOTAL NO. of ITERATIONS REACHED LIMIT.\n",
      "\n",
      "Increase the number of iterations (max_iter) or scale the data as shown in:\n",
      "    https://scikit-learn.org/stable/modules/preprocessing.html\n",
      "Please also refer to the documentation for alternative solver options:\n",
      "    https://scikit-learn.org/stable/modules/linear_model.html#logistic-regression\n",
      "  n_iter_i = _check_optimize_result(\n",
      "/opt/conda/lib/python3.10/site-packages/sklearn/linear_model/_logistic.py:458: ConvergenceWarning: lbfgs failed to converge (status=1):\n",
      "STOP: TOTAL NO. of ITERATIONS REACHED LIMIT.\n",
      "\n",
      "Increase the number of iterations (max_iter) or scale the data as shown in:\n",
      "    https://scikit-learn.org/stable/modules/preprocessing.html\n",
      "Please also refer to the documentation for alternative solver options:\n",
      "    https://scikit-learn.org/stable/modules/linear_model.html#logistic-regression\n",
      "  n_iter_i = _check_optimize_result(\n",
      "/opt/conda/lib/python3.10/site-packages/sklearn/linear_model/_logistic.py:458: ConvergenceWarning: lbfgs failed to converge (status=1):\n",
      "STOP: TOTAL NO. of ITERATIONS REACHED LIMIT.\n",
      "\n",
      "Increase the number of iterations (max_iter) or scale the data as shown in:\n",
      "    https://scikit-learn.org/stable/modules/preprocessing.html\n",
      "Please also refer to the documentation for alternative solver options:\n",
      "    https://scikit-learn.org/stable/modules/linear_model.html#logistic-regression\n",
      "  n_iter_i = _check_optimize_result(\n",
      "/opt/conda/lib/python3.10/site-packages/sklearn/linear_model/_logistic.py:458: ConvergenceWarning: lbfgs failed to converge (status=1):\n",
      "STOP: TOTAL NO. of ITERATIONS REACHED LIMIT.\n",
      "\n",
      "Increase the number of iterations (max_iter) or scale the data as shown in:\n",
      "    https://scikit-learn.org/stable/modules/preprocessing.html\n",
      "Please also refer to the documentation for alternative solver options:\n",
      "    https://scikit-learn.org/stable/modules/linear_model.html#logistic-regression\n",
      "  n_iter_i = _check_optimize_result(\n",
      "/opt/conda/lib/python3.10/site-packages/sklearn/linear_model/_logistic.py:458: ConvergenceWarning: lbfgs failed to converge (status=1):\n",
      "STOP: TOTAL NO. of ITERATIONS REACHED LIMIT.\n",
      "\n",
      "Increase the number of iterations (max_iter) or scale the data as shown in:\n",
      "    https://scikit-learn.org/stable/modules/preprocessing.html\n",
      "Please also refer to the documentation for alternative solver options:\n",
      "    https://scikit-learn.org/stable/modules/linear_model.html#logistic-regression\n",
      "  n_iter_i = _check_optimize_result(\n",
      "/opt/conda/lib/python3.10/site-packages/sklearn/linear_model/_logistic.py:458: ConvergenceWarning: lbfgs failed to converge (status=1):\n",
      "STOP: TOTAL NO. of ITERATIONS REACHED LIMIT.\n",
      "\n",
      "Increase the number of iterations (max_iter) or scale the data as shown in:\n",
      "    https://scikit-learn.org/stable/modules/preprocessing.html\n",
      "Please also refer to the documentation for alternative solver options:\n",
      "    https://scikit-learn.org/stable/modules/linear_model.html#logistic-regression\n",
      "  n_iter_i = _check_optimize_result(\n",
      "/opt/conda/lib/python3.10/site-packages/sklearn/linear_model/_logistic.py:458: ConvergenceWarning: lbfgs failed to converge (status=1):\n",
      "STOP: TOTAL NO. of ITERATIONS REACHED LIMIT.\n",
      "\n",
      "Increase the number of iterations (max_iter) or scale the data as shown in:\n",
      "    https://scikit-learn.org/stable/modules/preprocessing.html\n",
      "Please also refer to the documentation for alternative solver options:\n",
      "    https://scikit-learn.org/stable/modules/linear_model.html#logistic-regression\n",
      "  n_iter_i = _check_optimize_result(\n",
      "/opt/conda/lib/python3.10/site-packages/sklearn/linear_model/_logistic.py:458: ConvergenceWarning: lbfgs failed to converge (status=1):\n",
      "STOP: TOTAL NO. of ITERATIONS REACHED LIMIT.\n",
      "\n",
      "Increase the number of iterations (max_iter) or scale the data as shown in:\n",
      "    https://scikit-learn.org/stable/modules/preprocessing.html\n",
      "Please also refer to the documentation for alternative solver options:\n",
      "    https://scikit-learn.org/stable/modules/linear_model.html#logistic-regression\n",
      "  n_iter_i = _check_optimize_result(\n",
      "/opt/conda/lib/python3.10/site-packages/sklearn/linear_model/_logistic.py:458: ConvergenceWarning: lbfgs failed to converge (status=1):\n",
      "STOP: TOTAL NO. of ITERATIONS REACHED LIMIT.\n",
      "\n",
      "Increase the number of iterations (max_iter) or scale the data as shown in:\n",
      "    https://scikit-learn.org/stable/modules/preprocessing.html\n",
      "Please also refer to the documentation for alternative solver options:\n",
      "    https://scikit-learn.org/stable/modules/linear_model.html#logistic-regression\n",
      "  n_iter_i = _check_optimize_result(\n"
     ]
    },
    {
     "name": "stdout",
     "output_type": "stream",
     "text": [
      "Modelo: LogisticRegression(random_state=4923)\n",
      "Acurácia --> 0.85\n",
      "Precisão --> 0.84\n",
      "Recall --> 0.86\n",
      "F1 --> 0.85\n"
     ]
    }
   ],
   "source": [
    "avalia_modelo(lr, x_selecionado_frequencia_3, TARGET)"
   ]
  },
  {
   "cell_type": "code",
   "execution_count": 68,
   "id": "0b66ca35",
   "metadata": {
    "execution": {
     "iopub.execute_input": "2023-10-15T15:59:05.765055Z",
     "iopub.status.busy": "2023-10-15T15:59:05.764362Z",
     "iopub.status.idle": "2023-10-15T15:59:13.072616Z",
     "shell.execute_reply": "2023-10-15T15:59:13.071887Z"
    },
    "papermill": {
     "duration": 7.341279,
     "end_time": "2023-10-15T15:59:13.074854",
     "exception": false,
     "start_time": "2023-10-15T15:59:05.733575",
     "status": "completed"
    },
    "tags": []
   },
   "outputs": [
    {
     "name": "stderr",
     "output_type": "stream",
     "text": [
      "/opt/conda/lib/python3.10/site-packages/sklearn/linear_model/_logistic.py:458: ConvergenceWarning: lbfgs failed to converge (status=1):\n",
      "STOP: TOTAL NO. of ITERATIONS REACHED LIMIT.\n",
      "\n",
      "Increase the number of iterations (max_iter) or scale the data as shown in:\n",
      "    https://scikit-learn.org/stable/modules/preprocessing.html\n",
      "Please also refer to the documentation for alternative solver options:\n",
      "    https://scikit-learn.org/stable/modules/linear_model.html#logistic-regression\n",
      "  n_iter_i = _check_optimize_result(\n",
      "/opt/conda/lib/python3.10/site-packages/sklearn/linear_model/_logistic.py:458: ConvergenceWarning: lbfgs failed to converge (status=1):\n",
      "STOP: TOTAL NO. of ITERATIONS REACHED LIMIT.\n",
      "\n",
      "Increase the number of iterations (max_iter) or scale the data as shown in:\n",
      "    https://scikit-learn.org/stable/modules/preprocessing.html\n",
      "Please also refer to the documentation for alternative solver options:\n",
      "    https://scikit-learn.org/stable/modules/linear_model.html#logistic-regression\n",
      "  n_iter_i = _check_optimize_result(\n",
      "/opt/conda/lib/python3.10/site-packages/sklearn/linear_model/_logistic.py:458: ConvergenceWarning: lbfgs failed to converge (status=1):\n",
      "STOP: TOTAL NO. of ITERATIONS REACHED LIMIT.\n",
      "\n",
      "Increase the number of iterations (max_iter) or scale the data as shown in:\n",
      "    https://scikit-learn.org/stable/modules/preprocessing.html\n",
      "Please also refer to the documentation for alternative solver options:\n",
      "    https://scikit-learn.org/stable/modules/linear_model.html#logistic-regression\n",
      "  n_iter_i = _check_optimize_result(\n",
      "/opt/conda/lib/python3.10/site-packages/sklearn/linear_model/_logistic.py:458: ConvergenceWarning: lbfgs failed to converge (status=1):\n",
      "STOP: TOTAL NO. of ITERATIONS REACHED LIMIT.\n",
      "\n",
      "Increase the number of iterations (max_iter) or scale the data as shown in:\n",
      "    https://scikit-learn.org/stable/modules/preprocessing.html\n",
      "Please also refer to the documentation for alternative solver options:\n",
      "    https://scikit-learn.org/stable/modules/linear_model.html#logistic-regression\n",
      "  n_iter_i = _check_optimize_result(\n",
      "/opt/conda/lib/python3.10/site-packages/sklearn/linear_model/_logistic.py:458: ConvergenceWarning: lbfgs failed to converge (status=1):\n",
      "STOP: TOTAL NO. of ITERATIONS REACHED LIMIT.\n",
      "\n",
      "Increase the number of iterations (max_iter) or scale the data as shown in:\n",
      "    https://scikit-learn.org/stable/modules/preprocessing.html\n",
      "Please also refer to the documentation for alternative solver options:\n",
      "    https://scikit-learn.org/stable/modules/linear_model.html#logistic-regression\n",
      "  n_iter_i = _check_optimize_result(\n",
      "/opt/conda/lib/python3.10/site-packages/sklearn/linear_model/_logistic.py:458: ConvergenceWarning: lbfgs failed to converge (status=1):\n",
      "STOP: TOTAL NO. of ITERATIONS REACHED LIMIT.\n",
      "\n",
      "Increase the number of iterations (max_iter) or scale the data as shown in:\n",
      "    https://scikit-learn.org/stable/modules/preprocessing.html\n",
      "Please also refer to the documentation for alternative solver options:\n",
      "    https://scikit-learn.org/stable/modules/linear_model.html#logistic-regression\n",
      "  n_iter_i = _check_optimize_result(\n",
      "/opt/conda/lib/python3.10/site-packages/sklearn/linear_model/_logistic.py:458: ConvergenceWarning: lbfgs failed to converge (status=1):\n",
      "STOP: TOTAL NO. of ITERATIONS REACHED LIMIT.\n",
      "\n",
      "Increase the number of iterations (max_iter) or scale the data as shown in:\n",
      "    https://scikit-learn.org/stable/modules/preprocessing.html\n",
      "Please also refer to the documentation for alternative solver options:\n",
      "    https://scikit-learn.org/stable/modules/linear_model.html#logistic-regression\n",
      "  n_iter_i = _check_optimize_result(\n",
      "/opt/conda/lib/python3.10/site-packages/sklearn/linear_model/_logistic.py:458: ConvergenceWarning: lbfgs failed to converge (status=1):\n",
      "STOP: TOTAL NO. of ITERATIONS REACHED LIMIT.\n",
      "\n",
      "Increase the number of iterations (max_iter) or scale the data as shown in:\n",
      "    https://scikit-learn.org/stable/modules/preprocessing.html\n",
      "Please also refer to the documentation for alternative solver options:\n",
      "    https://scikit-learn.org/stable/modules/linear_model.html#logistic-regression\n",
      "  n_iter_i = _check_optimize_result(\n"
     ]
    },
    {
     "name": "stdout",
     "output_type": "stream",
     "text": [
      "Modelo: LogisticRegression(random_state=4923)\n",
      "Acurácia --> 0.85\n",
      "Precisão --> 0.83\n",
      "Recall --> 0.86\n",
      "F1 --> 0.85\n"
     ]
    },
    {
     "name": "stderr",
     "output_type": "stream",
     "text": [
      "/opt/conda/lib/python3.10/site-packages/sklearn/linear_model/_logistic.py:458: ConvergenceWarning: lbfgs failed to converge (status=1):\n",
      "STOP: TOTAL NO. of ITERATIONS REACHED LIMIT.\n",
      "\n",
      "Increase the number of iterations (max_iter) or scale the data as shown in:\n",
      "    https://scikit-learn.org/stable/modules/preprocessing.html\n",
      "Please also refer to the documentation for alternative solver options:\n",
      "    https://scikit-learn.org/stable/modules/linear_model.html#logistic-regression\n",
      "  n_iter_i = _check_optimize_result(\n",
      "/opt/conda/lib/python3.10/site-packages/sklearn/linear_model/_logistic.py:458: ConvergenceWarning: lbfgs failed to converge (status=1):\n",
      "STOP: TOTAL NO. of ITERATIONS REACHED LIMIT.\n",
      "\n",
      "Increase the number of iterations (max_iter) or scale the data as shown in:\n",
      "    https://scikit-learn.org/stable/modules/preprocessing.html\n",
      "Please also refer to the documentation for alternative solver options:\n",
      "    https://scikit-learn.org/stable/modules/linear_model.html#logistic-regression\n",
      "  n_iter_i = _check_optimize_result(\n"
     ]
    }
   ],
   "source": [
    "avalia_modelo(lr, x_selecionado_frequencia_5, TARGET)"
   ]
  },
  {
   "cell_type": "code",
   "execution_count": 69,
   "id": "f2c078b5",
   "metadata": {
    "execution": {
     "iopub.execute_input": "2023-10-15T15:59:13.135716Z",
     "iopub.status.busy": "2023-10-15T15:59:13.135360Z",
     "iopub.status.idle": "2023-10-15T15:59:19.857980Z",
     "shell.execute_reply": "2023-10-15T15:59:19.856853Z"
    },
    "papermill": {
     "duration": 6.755615,
     "end_time": "2023-10-15T15:59:19.860019",
     "exception": false,
     "start_time": "2023-10-15T15:59:13.104404",
     "status": "completed"
    },
    "tags": []
   },
   "outputs": [
    {
     "name": "stderr",
     "output_type": "stream",
     "text": [
      "/opt/conda/lib/python3.10/site-packages/sklearn/linear_model/_logistic.py:458: ConvergenceWarning: lbfgs failed to converge (status=1):\n",
      "STOP: TOTAL NO. of ITERATIONS REACHED LIMIT.\n",
      "\n",
      "Increase the number of iterations (max_iter) or scale the data as shown in:\n",
      "    https://scikit-learn.org/stable/modules/preprocessing.html\n",
      "Please also refer to the documentation for alternative solver options:\n",
      "    https://scikit-learn.org/stable/modules/linear_model.html#logistic-regression\n",
      "  n_iter_i = _check_optimize_result(\n",
      "/opt/conda/lib/python3.10/site-packages/sklearn/linear_model/_logistic.py:458: ConvergenceWarning: lbfgs failed to converge (status=1):\n",
      "STOP: TOTAL NO. of ITERATIONS REACHED LIMIT.\n",
      "\n",
      "Increase the number of iterations (max_iter) or scale the data as shown in:\n",
      "    https://scikit-learn.org/stable/modules/preprocessing.html\n",
      "Please also refer to the documentation for alternative solver options:\n",
      "    https://scikit-learn.org/stable/modules/linear_model.html#logistic-regression\n",
      "  n_iter_i = _check_optimize_result(\n",
      "/opt/conda/lib/python3.10/site-packages/sklearn/linear_model/_logistic.py:458: ConvergenceWarning: lbfgs failed to converge (status=1):\n",
      "STOP: TOTAL NO. of ITERATIONS REACHED LIMIT.\n",
      "\n",
      "Increase the number of iterations (max_iter) or scale the data as shown in:\n",
      "    https://scikit-learn.org/stable/modules/preprocessing.html\n",
      "Please also refer to the documentation for alternative solver options:\n",
      "    https://scikit-learn.org/stable/modules/linear_model.html#logistic-regression\n",
      "  n_iter_i = _check_optimize_result(\n",
      "/opt/conda/lib/python3.10/site-packages/sklearn/linear_model/_logistic.py:458: ConvergenceWarning: lbfgs failed to converge (status=1):\n",
      "STOP: TOTAL NO. of ITERATIONS REACHED LIMIT.\n",
      "\n",
      "Increase the number of iterations (max_iter) or scale the data as shown in:\n",
      "    https://scikit-learn.org/stable/modules/preprocessing.html\n",
      "Please also refer to the documentation for alternative solver options:\n",
      "    https://scikit-learn.org/stable/modules/linear_model.html#logistic-regression\n",
      "  n_iter_i = _check_optimize_result(\n",
      "/opt/conda/lib/python3.10/site-packages/sklearn/linear_model/_logistic.py:458: ConvergenceWarning: lbfgs failed to converge (status=1):\n",
      "STOP: TOTAL NO. of ITERATIONS REACHED LIMIT.\n",
      "\n",
      "Increase the number of iterations (max_iter) or scale the data as shown in:\n",
      "    https://scikit-learn.org/stable/modules/preprocessing.html\n",
      "Please also refer to the documentation for alternative solver options:\n",
      "    https://scikit-learn.org/stable/modules/linear_model.html#logistic-regression\n",
      "  n_iter_i = _check_optimize_result(\n",
      "/opt/conda/lib/python3.10/site-packages/sklearn/linear_model/_logistic.py:458: ConvergenceWarning: lbfgs failed to converge (status=1):\n",
      "STOP: TOTAL NO. of ITERATIONS REACHED LIMIT.\n",
      "\n",
      "Increase the number of iterations (max_iter) or scale the data as shown in:\n",
      "    https://scikit-learn.org/stable/modules/preprocessing.html\n",
      "Please also refer to the documentation for alternative solver options:\n",
      "    https://scikit-learn.org/stable/modules/linear_model.html#logistic-regression\n",
      "  n_iter_i = _check_optimize_result(\n",
      "/opt/conda/lib/python3.10/site-packages/sklearn/linear_model/_logistic.py:458: ConvergenceWarning: lbfgs failed to converge (status=1):\n",
      "STOP: TOTAL NO. of ITERATIONS REACHED LIMIT.\n",
      "\n",
      "Increase the number of iterations (max_iter) or scale the data as shown in:\n",
      "    https://scikit-learn.org/stable/modules/preprocessing.html\n",
      "Please also refer to the documentation for alternative solver options:\n",
      "    https://scikit-learn.org/stable/modules/linear_model.html#logistic-regression\n",
      "  n_iter_i = _check_optimize_result(\n",
      "/opt/conda/lib/python3.10/site-packages/sklearn/linear_model/_logistic.py:458: ConvergenceWarning: lbfgs failed to converge (status=1):\n",
      "STOP: TOTAL NO. of ITERATIONS REACHED LIMIT.\n",
      "\n",
      "Increase the number of iterations (max_iter) or scale the data as shown in:\n",
      "    https://scikit-learn.org/stable/modules/preprocessing.html\n",
      "Please also refer to the documentation for alternative solver options:\n",
      "    https://scikit-learn.org/stable/modules/linear_model.html#logistic-regression\n",
      "  n_iter_i = _check_optimize_result(\n"
     ]
    },
    {
     "name": "stdout",
     "output_type": "stream",
     "text": [
      "Modelo: LogisticRegression(random_state=4923)\n",
      "Acurácia --> 0.85\n",
      "Precisão --> 0.83\n",
      "Recall --> 0.87\n",
      "F1 --> 0.85\n"
     ]
    },
    {
     "name": "stderr",
     "output_type": "stream",
     "text": [
      "/opt/conda/lib/python3.10/site-packages/sklearn/linear_model/_logistic.py:458: ConvergenceWarning: lbfgs failed to converge (status=1):\n",
      "STOP: TOTAL NO. of ITERATIONS REACHED LIMIT.\n",
      "\n",
      "Increase the number of iterations (max_iter) or scale the data as shown in:\n",
      "    https://scikit-learn.org/stable/modules/preprocessing.html\n",
      "Please also refer to the documentation for alternative solver options:\n",
      "    https://scikit-learn.org/stable/modules/linear_model.html#logistic-regression\n",
      "  n_iter_i = _check_optimize_result(\n",
      "/opt/conda/lib/python3.10/site-packages/sklearn/linear_model/_logistic.py:458: ConvergenceWarning: lbfgs failed to converge (status=1):\n",
      "STOP: TOTAL NO. of ITERATIONS REACHED LIMIT.\n",
      "\n",
      "Increase the number of iterations (max_iter) or scale the data as shown in:\n",
      "    https://scikit-learn.org/stable/modules/preprocessing.html\n",
      "Please also refer to the documentation for alternative solver options:\n",
      "    https://scikit-learn.org/stable/modules/linear_model.html#logistic-regression\n",
      "  n_iter_i = _check_optimize_result(\n"
     ]
    }
   ],
   "source": [
    "avalia_modelo(lr, x_selecionado_frequencia_7, TARGET)"
   ]
  },
  {
   "cell_type": "code",
   "execution_count": 70,
   "id": "1d763dcb",
   "metadata": {
    "execution": {
     "iopub.execute_input": "2023-10-15T15:59:19.922749Z",
     "iopub.status.busy": "2023-10-15T15:59:19.922014Z",
     "iopub.status.idle": "2023-10-15T15:59:24.381334Z",
     "shell.execute_reply": "2023-10-15T15:59:24.380580Z"
    },
    "papermill": {
     "duration": 4.493754,
     "end_time": "2023-10-15T15:59:24.384165",
     "exception": false,
     "start_time": "2023-10-15T15:59:19.890411",
     "status": "completed"
    },
    "tags": []
   },
   "outputs": [
    {
     "name": "stderr",
     "output_type": "stream",
     "text": [
      "/opt/conda/lib/python3.10/site-packages/sklearn/linear_model/_logistic.py:458: ConvergenceWarning: lbfgs failed to converge (status=1):\n",
      "STOP: TOTAL NO. of ITERATIONS REACHED LIMIT.\n",
      "\n",
      "Increase the number of iterations (max_iter) or scale the data as shown in:\n",
      "    https://scikit-learn.org/stable/modules/preprocessing.html\n",
      "Please also refer to the documentation for alternative solver options:\n",
      "    https://scikit-learn.org/stable/modules/linear_model.html#logistic-regression\n",
      "  n_iter_i = _check_optimize_result(\n",
      "/opt/conda/lib/python3.10/site-packages/sklearn/linear_model/_logistic.py:458: ConvergenceWarning: lbfgs failed to converge (status=1):\n",
      "STOP: TOTAL NO. of ITERATIONS REACHED LIMIT.\n",
      "\n",
      "Increase the number of iterations (max_iter) or scale the data as shown in:\n",
      "    https://scikit-learn.org/stable/modules/preprocessing.html\n",
      "Please also refer to the documentation for alternative solver options:\n",
      "    https://scikit-learn.org/stable/modules/linear_model.html#logistic-regression\n",
      "  n_iter_i = _check_optimize_result(\n",
      "/opt/conda/lib/python3.10/site-packages/sklearn/linear_model/_logistic.py:458: ConvergenceWarning: lbfgs failed to converge (status=1):\n",
      "STOP: TOTAL NO. of ITERATIONS REACHED LIMIT.\n",
      "\n",
      "Increase the number of iterations (max_iter) or scale the data as shown in:\n",
      "    https://scikit-learn.org/stable/modules/preprocessing.html\n",
      "Please also refer to the documentation for alternative solver options:\n",
      "    https://scikit-learn.org/stable/modules/linear_model.html#logistic-regression\n",
      "  n_iter_i = _check_optimize_result(\n",
      "/opt/conda/lib/python3.10/site-packages/sklearn/linear_model/_logistic.py:458: ConvergenceWarning: lbfgs failed to converge (status=1):\n",
      "STOP: TOTAL NO. of ITERATIONS REACHED LIMIT.\n",
      "\n",
      "Increase the number of iterations (max_iter) or scale the data as shown in:\n",
      "    https://scikit-learn.org/stable/modules/preprocessing.html\n",
      "Please also refer to the documentation for alternative solver options:\n",
      "    https://scikit-learn.org/stable/modules/linear_model.html#logistic-regression\n",
      "  n_iter_i = _check_optimize_result(\n",
      "/opt/conda/lib/python3.10/site-packages/sklearn/linear_model/_logistic.py:458: ConvergenceWarning: lbfgs failed to converge (status=1):\n",
      "STOP: TOTAL NO. of ITERATIONS REACHED LIMIT.\n",
      "\n",
      "Increase the number of iterations (max_iter) or scale the data as shown in:\n",
      "    https://scikit-learn.org/stable/modules/preprocessing.html\n",
      "Please also refer to the documentation for alternative solver options:\n",
      "    https://scikit-learn.org/stable/modules/linear_model.html#logistic-regression\n",
      "  n_iter_i = _check_optimize_result(\n",
      "/opt/conda/lib/python3.10/site-packages/sklearn/linear_model/_logistic.py:458: ConvergenceWarning: lbfgs failed to converge (status=1):\n",
      "STOP: TOTAL NO. of ITERATIONS REACHED LIMIT.\n",
      "\n",
      "Increase the number of iterations (max_iter) or scale the data as shown in:\n",
      "    https://scikit-learn.org/stable/modules/preprocessing.html\n",
      "Please also refer to the documentation for alternative solver options:\n",
      "    https://scikit-learn.org/stable/modules/linear_model.html#logistic-regression\n",
      "  n_iter_i = _check_optimize_result(\n",
      "/opt/conda/lib/python3.10/site-packages/sklearn/linear_model/_logistic.py:458: ConvergenceWarning: lbfgs failed to converge (status=1):\n",
      "STOP: TOTAL NO. of ITERATIONS REACHED LIMIT.\n",
      "\n",
      "Increase the number of iterations (max_iter) or scale the data as shown in:\n",
      "    https://scikit-learn.org/stable/modules/preprocessing.html\n",
      "Please also refer to the documentation for alternative solver options:\n",
      "    https://scikit-learn.org/stable/modules/linear_model.html#logistic-regression\n",
      "  n_iter_i = _check_optimize_result(\n",
      "/opt/conda/lib/python3.10/site-packages/sklearn/linear_model/_logistic.py:458: ConvergenceWarning: lbfgs failed to converge (status=1):\n",
      "STOP: TOTAL NO. of ITERATIONS REACHED LIMIT.\n",
      "\n",
      "Increase the number of iterations (max_iter) or scale the data as shown in:\n",
      "    https://scikit-learn.org/stable/modules/preprocessing.html\n",
      "Please also refer to the documentation for alternative solver options:\n",
      "    https://scikit-learn.org/stable/modules/linear_model.html#logistic-regression\n",
      "  n_iter_i = _check_optimize_result(\n"
     ]
    },
    {
     "name": "stdout",
     "output_type": "stream",
     "text": [
      "Modelo: LogisticRegression(random_state=4923)\n",
      "Acurácia --> 0.81\n",
      "Precisão --> 0.77\n",
      "Recall --> 0.87\n",
      "F1 --> 0.82\n"
     ]
    },
    {
     "name": "stderr",
     "output_type": "stream",
     "text": [
      "/opt/conda/lib/python3.10/site-packages/sklearn/linear_model/_logistic.py:458: ConvergenceWarning: lbfgs failed to converge (status=1):\n",
      "STOP: TOTAL NO. of ITERATIONS REACHED LIMIT.\n",
      "\n",
      "Increase the number of iterations (max_iter) or scale the data as shown in:\n",
      "    https://scikit-learn.org/stable/modules/preprocessing.html\n",
      "Please also refer to the documentation for alternative solver options:\n",
      "    https://scikit-learn.org/stable/modules/linear_model.html#logistic-regression\n",
      "  n_iter_i = _check_optimize_result(\n",
      "/opt/conda/lib/python3.10/site-packages/sklearn/linear_model/_logistic.py:458: ConvergenceWarning: lbfgs failed to converge (status=1):\n",
      "STOP: TOTAL NO. of ITERATIONS REACHED LIMIT.\n",
      "\n",
      "Increase the number of iterations (max_iter) or scale the data as shown in:\n",
      "    https://scikit-learn.org/stable/modules/preprocessing.html\n",
      "Please also refer to the documentation for alternative solver options:\n",
      "    https://scikit-learn.org/stable/modules/linear_model.html#logistic-regression\n",
      "  n_iter_i = _check_optimize_result(\n"
     ]
    }
   ],
   "source": [
    "avalia_modelo(lr, x_selecionado_frequencia_9, TARGET)"
   ]
  },
  {
   "cell_type": "code",
   "execution_count": 71,
   "id": "1c2077f3",
   "metadata": {
    "execution": {
     "iopub.execute_input": "2023-10-15T15:59:24.447436Z",
     "iopub.status.busy": "2023-10-15T15:59:24.446416Z",
     "iopub.status.idle": "2023-10-15T15:59:27.199665Z",
     "shell.execute_reply": "2023-10-15T15:59:27.198774Z"
    },
    "papermill": {
     "duration": 2.786867,
     "end_time": "2023-10-15T15:59:27.201814",
     "exception": false,
     "start_time": "2023-10-15T15:59:24.414947",
     "status": "completed"
    },
    "tags": []
   },
   "outputs": [
    {
     "name": "stdout",
     "output_type": "stream",
     "text": [
      "Modelo: LogisticRegression(random_state=4923)\n",
      "Acurácia --> 0.79\n",
      "Precisão --> 0.76\n",
      "Recall --> 0.85\n",
      "F1 --> 0.80\n"
     ]
    }
   ],
   "source": [
    "avalia_modelo(lr, x_selecionado_frequencia_11, TARGET)"
   ]
  },
  {
   "cell_type": "markdown",
   "id": "354f348d",
   "metadata": {
    "papermill": {
     "duration": 0.0302,
     "end_time": "2023-10-15T15:59:27.262624",
     "exception": false,
     "start_time": "2023-10-15T15:59:27.232424",
     "status": "completed"
    },
    "tags": []
   },
   "source": [
    "#### 4.4 RandomForest"
   ]
  },
  {
   "cell_type": "code",
   "execution_count": 72,
   "id": "a536a979",
   "metadata": {
    "execution": {
     "iopub.execute_input": "2023-10-15T15:59:27.325607Z",
     "iopub.status.busy": "2023-10-15T15:59:27.325237Z",
     "iopub.status.idle": "2023-10-15T16:00:20.270115Z",
     "shell.execute_reply": "2023-10-15T16:00:20.269279Z"
    },
    "papermill": {
     "duration": 53.009738,
     "end_time": "2023-10-15T16:00:20.303057",
     "exception": false,
     "start_time": "2023-10-15T15:59:27.293319",
     "status": "completed"
    },
    "tags": []
   },
   "outputs": [
    {
     "name": "stdout",
     "output_type": "stream",
     "text": [
      "Modelo: RandomForestClassifier(random_state=4923)\n",
      "Acurácia --> 0.91\n",
      "Precisão --> 0.89\n",
      "Recall --> 0.93\n",
      "F1 --> 0.91\n"
     ]
    }
   ],
   "source": [
    "avalia_modelo(rf, x_selecionado_frequencia_3, TARGET)"
   ]
  },
  {
   "cell_type": "code",
   "execution_count": 73,
   "id": "851d2698",
   "metadata": {
    "execution": {
     "iopub.execute_input": "2023-10-15T16:00:20.364742Z",
     "iopub.status.busy": "2023-10-15T16:00:20.364363Z",
     "iopub.status.idle": "2023-10-15T16:01:05.230000Z",
     "shell.execute_reply": "2023-10-15T16:01:05.228922Z"
    },
    "papermill": {
     "duration": 44.929786,
     "end_time": "2023-10-15T16:01:05.262643",
     "exception": false,
     "start_time": "2023-10-15T16:00:20.332857",
     "status": "completed"
    },
    "tags": []
   },
   "outputs": [
    {
     "name": "stdout",
     "output_type": "stream",
     "text": [
      "Modelo: RandomForestClassifier(random_state=4923)\n",
      "Acurácia --> 0.90\n",
      "Precisão --> 0.89\n",
      "Recall --> 0.91\n",
      "F1 --> 0.90\n"
     ]
    }
   ],
   "source": [
    "avalia_modelo(rf, x_selecionado_frequencia_5, TARGET)"
   ]
  },
  {
   "cell_type": "code",
   "execution_count": 74,
   "id": "06d56845",
   "metadata": {
    "execution": {
     "iopub.execute_input": "2023-10-15T16:01:05.328033Z",
     "iopub.status.busy": "2023-10-15T16:01:05.327648Z",
     "iopub.status.idle": "2023-10-15T16:01:46.398646Z",
     "shell.execute_reply": "2023-10-15T16:01:46.397939Z"
    },
    "papermill": {
     "duration": 41.136828,
     "end_time": "2023-10-15T16:01:46.431633",
     "exception": false,
     "start_time": "2023-10-15T16:01:05.294805",
     "status": "completed"
    },
    "tags": []
   },
   "outputs": [
    {
     "name": "stdout",
     "output_type": "stream",
     "text": [
      "Modelo: RandomForestClassifier(random_state=4923)\n",
      "Acurácia --> 0.90\n",
      "Precisão --> 0.89\n",
      "Recall --> 0.91\n",
      "F1 --> 0.90\n"
     ]
    }
   ],
   "source": [
    "avalia_modelo(rf, x_selecionado_frequencia_7, TARGET)"
   ]
  },
  {
   "cell_type": "code",
   "execution_count": 75,
   "id": "1692a1b6",
   "metadata": {
    "execution": {
     "iopub.execute_input": "2023-10-15T16:01:46.494110Z",
     "iopub.status.busy": "2023-10-15T16:01:46.493406Z",
     "iopub.status.idle": "2023-10-15T16:02:09.821778Z",
     "shell.execute_reply": "2023-10-15T16:02:09.820303Z"
    },
    "papermill": {
     "duration": 23.362193,
     "end_time": "2023-10-15T16:02:09.824147",
     "exception": false,
     "start_time": "2023-10-15T16:01:46.461954",
     "status": "completed"
    },
    "tags": []
   },
   "outputs": [
    {
     "name": "stdout",
     "output_type": "stream",
     "text": [
      "Modelo: RandomForestClassifier(random_state=4923)\n",
      "Acurácia --> 0.84\n",
      "Precisão --> 0.79\n",
      "Recall --> 0.93\n",
      "F1 --> 0.86\n"
     ]
    }
   ],
   "source": [
    "avalia_modelo(rf, x_selecionado_frequencia_9, TARGET)"
   ]
  },
  {
   "cell_type": "code",
   "execution_count": 76,
   "id": "7bd762a4",
   "metadata": {
    "execution": {
     "iopub.execute_input": "2023-10-15T16:02:09.889202Z",
     "iopub.status.busy": "2023-10-15T16:02:09.888416Z",
     "iopub.status.idle": "2023-10-15T16:02:28.996520Z",
     "shell.execute_reply": "2023-10-15T16:02:28.995709Z"
    },
    "papermill": {
     "duration": 19.142792,
     "end_time": "2023-10-15T16:02:28.998747",
     "exception": false,
     "start_time": "2023-10-15T16:02:09.855955",
     "status": "completed"
    },
    "tags": []
   },
   "outputs": [
    {
     "name": "stdout",
     "output_type": "stream",
     "text": [
      "Modelo: RandomForestClassifier(random_state=4923)\n",
      "Acurácia --> 0.82\n",
      "Precisão --> 0.78\n",
      "Recall --> 0.90\n",
      "F1 --> 0.84\n"
     ]
    }
   ],
   "source": [
    "avalia_modelo(rf, x_selecionado_frequencia_11, TARGET)"
   ]
  },
  {
   "cell_type": "markdown",
   "id": "e06602cb",
   "metadata": {
    "papermill": {
     "duration": 0.030523,
     "end_time": "2023-10-15T16:02:29.060149",
     "exception": false,
     "start_time": "2023-10-15T16:02:29.029626",
     "status": "completed"
    },
    "tags": []
   },
   "source": [
    "Aparentemente, a generalização do RandomForest levou a resultados parecidos em modelos de frequência 3, 5 e 7."
   ]
  },
  {
   "cell_type": "markdown",
   "id": "704f6b19",
   "metadata": {
    "papermill": {
     "duration": 0.112816,
     "end_time": "2023-10-15T16:02:29.204121",
     "exception": false,
     "start_time": "2023-10-15T16:02:29.091305",
     "status": "completed"
    },
    "tags": []
   },
   "source": [
    "#### 4.5 Ada Boost"
   ]
  },
  {
   "cell_type": "code",
   "execution_count": 77,
   "id": "3f80f079",
   "metadata": {
    "execution": {
     "iopub.execute_input": "2023-10-15T16:02:29.269033Z",
     "iopub.status.busy": "2023-10-15T16:02:29.268112Z",
     "iopub.status.idle": "2023-10-15T16:02:55.123680Z",
     "shell.execute_reply": "2023-10-15T16:02:55.122979Z"
    },
    "papermill": {
     "duration": 25.890462,
     "end_time": "2023-10-15T16:02:55.125699",
     "exception": false,
     "start_time": "2023-10-15T16:02:29.235237",
     "status": "completed"
    },
    "tags": []
   },
   "outputs": [
    {
     "name": "stdout",
     "output_type": "stream",
     "text": [
      "Modelo: AdaBoostClassifier(random_state=4923)\n",
      "Acurácia --> 0.88\n",
      "Precisão --> 0.87\n",
      "Recall --> 0.89\n",
      "F1 --> 0.88\n"
     ]
    }
   ],
   "source": [
    "avalia_modelo(ab, x_selecionado_frequencia_3, TARGET)"
   ]
  },
  {
   "cell_type": "code",
   "execution_count": 78,
   "id": "ca73cfb4",
   "metadata": {
    "execution": {
     "iopub.execute_input": "2023-10-15T16:02:55.190242Z",
     "iopub.status.busy": "2023-10-15T16:02:55.189595Z",
     "iopub.status.idle": "2023-10-15T16:03:15.067291Z",
     "shell.execute_reply": "2023-10-15T16:03:15.066526Z"
    },
    "papermill": {
     "duration": 19.912618,
     "end_time": "2023-10-15T16:03:15.069250",
     "exception": false,
     "start_time": "2023-10-15T16:02:55.156632",
     "status": "completed"
    },
    "tags": []
   },
   "outputs": [
    {
     "name": "stdout",
     "output_type": "stream",
     "text": [
      "Modelo: AdaBoostClassifier(random_state=4923)\n",
      "Acurácia --> 0.88\n",
      "Precisão --> 0.87\n",
      "Recall --> 0.90\n",
      "F1 --> 0.88\n"
     ]
    }
   ],
   "source": [
    "avalia_modelo(ab, x_selecionado_frequencia_5, TARGET)"
   ]
  },
  {
   "cell_type": "code",
   "execution_count": 79,
   "id": "b4a8495d",
   "metadata": {
    "execution": {
     "iopub.execute_input": "2023-10-15T16:03:15.133650Z",
     "iopub.status.busy": "2023-10-15T16:03:15.132987Z",
     "iopub.status.idle": "2023-10-15T16:03:33.168534Z",
     "shell.execute_reply": "2023-10-15T16:03:33.167816Z"
    },
    "papermill": {
     "duration": 18.069727,
     "end_time": "2023-10-15T16:03:33.170370",
     "exception": false,
     "start_time": "2023-10-15T16:03:15.100643",
     "status": "completed"
    },
    "tags": []
   },
   "outputs": [
    {
     "name": "stdout",
     "output_type": "stream",
     "text": [
      "Modelo: AdaBoostClassifier(random_state=4923)\n",
      "Acurácia --> 0.88\n",
      "Precisão --> 0.87\n",
      "Recall --> 0.89\n",
      "F1 --> 0.88\n"
     ]
    }
   ],
   "source": [
    "avalia_modelo(ab, x_selecionado_frequencia_7, TARGET)"
   ]
  },
  {
   "cell_type": "code",
   "execution_count": 80,
   "id": "ce6cc7b9",
   "metadata": {
    "execution": {
     "iopub.execute_input": "2023-10-15T16:03:33.234169Z",
     "iopub.status.busy": "2023-10-15T16:03:33.233515Z",
     "iopub.status.idle": "2023-10-15T16:03:47.062687Z",
     "shell.execute_reply": "2023-10-15T16:03:47.061916Z"
    },
    "papermill": {
     "duration": 13.863814,
     "end_time": "2023-10-15T16:03:47.065166",
     "exception": false,
     "start_time": "2023-10-15T16:03:33.201352",
     "status": "completed"
    },
    "tags": []
   },
   "outputs": [
    {
     "name": "stdout",
     "output_type": "stream",
     "text": [
      "Modelo: AdaBoostClassifier(random_state=4923)\n",
      "Acurácia --> 0.83\n",
      "Precisão --> 0.78\n",
      "Recall --> 0.91\n",
      "F1 --> 0.84\n"
     ]
    }
   ],
   "source": [
    "avalia_modelo(ab, x_selecionado_frequencia_9, TARGET)"
   ]
  },
  {
   "cell_type": "code",
   "execution_count": 81,
   "id": "e0e96885",
   "metadata": {
    "execution": {
     "iopub.execute_input": "2023-10-15T16:03:47.129305Z",
     "iopub.status.busy": "2023-10-15T16:03:47.128662Z",
     "iopub.status.idle": "2023-10-15T16:03:58.354155Z",
     "shell.execute_reply": "2023-10-15T16:03:58.353439Z"
    },
    "papermill": {
     "duration": 11.259793,
     "end_time": "2023-10-15T16:03:58.356172",
     "exception": false,
     "start_time": "2023-10-15T16:03:47.096379",
     "status": "completed"
    },
    "tags": []
   },
   "outputs": [
    {
     "name": "stdout",
     "output_type": "stream",
     "text": [
      "Modelo: AdaBoostClassifier(random_state=4923)\n",
      "Acurácia --> 0.81\n",
      "Precisão --> 0.77\n",
      "Recall --> 0.89\n",
      "F1 --> 0.83\n"
     ]
    }
   ],
   "source": [
    "avalia_modelo(ab, x_selecionado_frequencia_11, TARGET)"
   ]
  },
  {
   "cell_type": "markdown",
   "id": "a48e0cd9",
   "metadata": {
    "papermill": {
     "duration": 0.030696,
     "end_time": "2023-10-15T16:03:58.418076",
     "exception": false,
     "start_time": "2023-10-15T16:03:58.387380",
     "status": "completed"
    },
    "tags": []
   },
   "source": [
    "#### 4.6 GradientBoosting"
   ]
  },
  {
   "cell_type": "code",
   "execution_count": 82,
   "id": "3444010d",
   "metadata": {
    "execution": {
     "iopub.execute_input": "2023-10-15T16:03:58.480770Z",
     "iopub.status.busy": "2023-10-15T16:03:58.480411Z",
     "iopub.status.idle": "2023-10-15T16:05:31.462307Z",
     "shell.execute_reply": "2023-10-15T16:05:31.461215Z"
    },
    "papermill": {
     "duration": 93.047227,
     "end_time": "2023-10-15T16:05:31.495843",
     "exception": false,
     "start_time": "2023-10-15T16:03:58.448616",
     "status": "completed"
    },
    "tags": []
   },
   "outputs": [
    {
     "name": "stdout",
     "output_type": "stream",
     "text": [
      "Modelo: GradientBoostingClassifier(random_state=4923)\n",
      "Acurácia --> 0.90\n",
      "Precisão --> 0.89\n",
      "Recall --> 0.90\n",
      "F1 --> 0.89\n"
     ]
    }
   ],
   "source": [
    "avalia_modelo(gb, x_selecionado_frequencia_3, TARGET)"
   ]
  },
  {
   "cell_type": "code",
   "execution_count": 83,
   "id": "cd9c33eb",
   "metadata": {
    "execution": {
     "iopub.execute_input": "2023-10-15T16:05:31.560381Z",
     "iopub.status.busy": "2023-10-15T16:05:31.559776Z",
     "iopub.status.idle": "2023-10-15T16:06:40.189143Z",
     "shell.execute_reply": "2023-10-15T16:06:40.188119Z"
    },
    "papermill": {
     "duration": 68.695526,
     "end_time": "2023-10-15T16:06:40.222449",
     "exception": false,
     "start_time": "2023-10-15T16:05:31.526923",
     "status": "completed"
    },
    "tags": []
   },
   "outputs": [
    {
     "name": "stdout",
     "output_type": "stream",
     "text": [
      "Modelo: GradientBoostingClassifier(random_state=4923)\n",
      "Acurácia --> 0.89\n",
      "Precisão --> 0.89\n",
      "Recall --> 0.90\n",
      "F1 --> 0.89\n"
     ]
    }
   ],
   "source": [
    "avalia_modelo(gb, x_selecionado_frequencia_5, TARGET)"
   ]
  },
  {
   "cell_type": "code",
   "execution_count": 84,
   "id": "940fb7da",
   "metadata": {
    "execution": {
     "iopub.execute_input": "2023-10-15T16:06:40.286870Z",
     "iopub.status.busy": "2023-10-15T16:06:40.286221Z",
     "iopub.status.idle": "2023-10-15T16:07:40.701888Z",
     "shell.execute_reply": "2023-10-15T16:07:40.700857Z"
    },
    "papermill": {
     "duration": 60.4817,
     "end_time": "2023-10-15T16:07:40.735630",
     "exception": false,
     "start_time": "2023-10-15T16:06:40.253930",
     "status": "completed"
    },
    "tags": []
   },
   "outputs": [
    {
     "name": "stdout",
     "output_type": "stream",
     "text": [
      "Modelo: GradientBoostingClassifier(random_state=4923)\n",
      "Acurácia --> 0.89\n",
      "Precisão --> 0.89\n",
      "Recall --> 0.90\n",
      "F1 --> 0.89\n"
     ]
    }
   ],
   "source": [
    "avalia_modelo(gb, x_selecionado_frequencia_7, TARGET)"
   ]
  },
  {
   "cell_type": "code",
   "execution_count": 85,
   "id": "b21b61c6",
   "metadata": {
    "execution": {
     "iopub.execute_input": "2023-10-15T16:07:40.800132Z",
     "iopub.status.busy": "2023-10-15T16:07:40.799513Z",
     "iopub.status.idle": "2023-10-15T16:08:21.036506Z",
     "shell.execute_reply": "2023-10-15T16:08:21.035770Z"
    },
    "papermill": {
     "duration": 40.303334,
     "end_time": "2023-10-15T16:08:21.069842",
     "exception": false,
     "start_time": "2023-10-15T16:07:40.766508",
     "status": "completed"
    },
    "tags": []
   },
   "outputs": [
    {
     "name": "stdout",
     "output_type": "stream",
     "text": [
      "Modelo: GradientBoostingClassifier(random_state=4923)\n",
      "Acurácia --> 0.84\n",
      "Precisão --> 0.79\n",
      "Recall --> 0.92\n",
      "F1 --> 0.85\n"
     ]
    }
   ],
   "source": [
    "avalia_modelo(gb, x_selecionado_frequencia_9, TARGET)"
   ]
  },
  {
   "cell_type": "code",
   "execution_count": 86,
   "id": "0ebccebd",
   "metadata": {
    "execution": {
     "iopub.execute_input": "2023-10-15T16:08:21.135808Z",
     "iopub.status.busy": "2023-10-15T16:08:21.135119Z",
     "iopub.status.idle": "2023-10-15T16:08:47.995931Z",
     "shell.execute_reply": "2023-10-15T16:08:47.995236Z"
    },
    "papermill": {
     "duration": 26.896184,
     "end_time": "2023-10-15T16:08:47.998092",
     "exception": false,
     "start_time": "2023-10-15T16:08:21.101908",
     "status": "completed"
    },
    "tags": []
   },
   "outputs": [
    {
     "name": "stdout",
     "output_type": "stream",
     "text": [
      "Modelo: GradientBoostingClassifier(random_state=4923)\n",
      "Acurácia --> 0.82\n",
      "Precisão --> 0.77\n",
      "Recall --> 0.90\n",
      "F1 --> 0.83\n"
     ]
    }
   ],
   "source": [
    "avalia_modelo(gb, x_selecionado_frequencia_11, TARGET)"
   ]
  },
  {
   "cell_type": "markdown",
   "id": "56133f83",
   "metadata": {
    "papermill": {
     "duration": 0.031267,
     "end_time": "2023-10-15T16:08:48.061980",
     "exception": false,
     "start_time": "2023-10-15T16:08:48.030713",
     "status": "completed"
    },
    "tags": []
   },
   "source": [
    "#### 4.8 ExtraTrees"
   ]
  },
  {
   "cell_type": "code",
   "execution_count": 87,
   "id": "7c6863e5",
   "metadata": {
    "execution": {
     "iopub.execute_input": "2023-10-15T16:08:48.126264Z",
     "iopub.status.busy": "2023-10-15T16:08:48.125829Z",
     "iopub.status.idle": "2023-10-15T16:09:59.288087Z",
     "shell.execute_reply": "2023-10-15T16:09:59.286943Z"
    },
    "papermill": {
     "duration": 71.228726,
     "end_time": "2023-10-15T16:09:59.322217",
     "exception": false,
     "start_time": "2023-10-15T16:08:48.093491",
     "status": "completed"
    },
    "tags": []
   },
   "outputs": [
    {
     "name": "stdout",
     "output_type": "stream",
     "text": [
      "Modelo: ExtraTreesClassifier(random_state=4923)\n",
      "Acurácia --> 0.91\n",
      "Precisão --> 0.89\n",
      "Recall --> 0.93\n",
      "F1 --> 0.91\n"
     ]
    }
   ],
   "source": [
    "avalia_modelo(extra, x_selecionado_frequencia_3, TARGET)"
   ]
  },
  {
   "cell_type": "code",
   "execution_count": 88,
   "id": "8a95e908",
   "metadata": {
    "execution": {
     "iopub.execute_input": "2023-10-15T16:09:59.386366Z",
     "iopub.status.busy": "2023-10-15T16:09:59.385938Z",
     "iopub.status.idle": "2023-10-15T16:10:54.814918Z",
     "shell.execute_reply": "2023-10-15T16:10:54.813857Z"
    },
    "papermill": {
     "duration": 55.495689,
     "end_time": "2023-10-15T16:10:54.849126",
     "exception": false,
     "start_time": "2023-10-15T16:09:59.353437",
     "status": "completed"
    },
    "tags": []
   },
   "outputs": [
    {
     "name": "stdout",
     "output_type": "stream",
     "text": [
      "Modelo: ExtraTreesClassifier(random_state=4923)\n",
      "Acurácia --> 0.90\n",
      "Precisão --> 0.89\n",
      "Recall --> 0.91\n",
      "F1 --> 0.90\n"
     ]
    }
   ],
   "source": [
    "avalia_modelo(extra, x_selecionado_frequencia_5, TARGET)"
   ]
  },
  {
   "cell_type": "code",
   "execution_count": 89,
   "id": "94d530da",
   "metadata": {
    "execution": {
     "iopub.execute_input": "2023-10-15T16:10:54.913507Z",
     "iopub.status.busy": "2023-10-15T16:10:54.913086Z",
     "iopub.status.idle": "2023-10-15T16:11:40.769637Z",
     "shell.execute_reply": "2023-10-15T16:11:40.768544Z"
    },
    "papermill": {
     "duration": 45.922206,
     "end_time": "2023-10-15T16:11:40.802876",
     "exception": false,
     "start_time": "2023-10-15T16:10:54.880670",
     "status": "completed"
    },
    "tags": []
   },
   "outputs": [
    {
     "name": "stdout",
     "output_type": "stream",
     "text": [
      "Modelo: ExtraTreesClassifier(random_state=4923)\n",
      "Acurácia --> 0.90\n",
      "Precisão --> 0.89\n",
      "Recall --> 0.91\n",
      "F1 --> 0.90\n"
     ]
    }
   ],
   "source": [
    "avalia_modelo(extra, x_selecionado_frequencia_7, TARGET)"
   ]
  },
  {
   "cell_type": "code",
   "execution_count": 90,
   "id": "8c10ba4f",
   "metadata": {
    "execution": {
     "iopub.execute_input": "2023-10-15T16:11:40.866528Z",
     "iopub.status.busy": "2023-10-15T16:11:40.866128Z",
     "iopub.status.idle": "2023-10-15T16:12:10.023259Z",
     "shell.execute_reply": "2023-10-15T16:12:10.022162Z"
    },
    "papermill": {
     "duration": 29.19133,
     "end_time": "2023-10-15T16:12:10.025493",
     "exception": false,
     "start_time": "2023-10-15T16:11:40.834163",
     "status": "completed"
    },
    "tags": []
   },
   "outputs": [
    {
     "name": "stdout",
     "output_type": "stream",
     "text": [
      "Modelo: ExtraTreesClassifier(random_state=4923)\n",
      "Acurácia --> 0.84\n",
      "Precisão --> 0.79\n",
      "Recall --> 0.93\n",
      "F1 --> 0.86\n"
     ]
    }
   ],
   "source": [
    "avalia_modelo(extra, x_selecionado_frequencia_9, TARGET)"
   ]
  },
  {
   "cell_type": "code",
   "execution_count": 91,
   "id": "de4b3d35",
   "metadata": {
    "execution": {
     "iopub.execute_input": "2023-10-15T16:12:10.091917Z",
     "iopub.status.busy": "2023-10-15T16:12:10.091362Z",
     "iopub.status.idle": "2023-10-15T16:12:29.652075Z",
     "shell.execute_reply": "2023-10-15T16:12:29.650904Z"
    },
    "papermill": {
     "duration": 19.596422,
     "end_time": "2023-10-15T16:12:29.654569",
     "exception": false,
     "start_time": "2023-10-15T16:12:10.058147",
     "status": "completed"
    },
    "tags": []
   },
   "outputs": [
    {
     "name": "stdout",
     "output_type": "stream",
     "text": [
      "Modelo: ExtraTreesClassifier(random_state=4923)\n",
      "Acurácia --> 0.82\n",
      "Precisão --> 0.78\n",
      "Recall --> 0.90\n",
      "F1 --> 0.84\n"
     ]
    }
   ],
   "source": [
    "avalia_modelo(extra, x_selecionado_frequencia_11, TARGET)"
   ]
  },
  {
   "cell_type": "markdown",
   "id": "9920ef1b",
   "metadata": {
    "papermill": {
     "duration": 0.031507,
     "end_time": "2023-10-15T16:12:29.718147",
     "exception": false,
     "start_time": "2023-10-15T16:12:29.686640",
     "status": "completed"
    },
    "tags": []
   },
   "source": [
    "#### 4.9 MLP"
   ]
  },
  {
   "cell_type": "code",
   "execution_count": 92,
   "id": "d7d96510",
   "metadata": {
    "execution": {
     "iopub.execute_input": "2023-10-15T16:12:29.784945Z",
     "iopub.status.busy": "2023-10-15T16:12:29.784236Z",
     "iopub.status.idle": "2023-10-15T16:20:58.241123Z",
     "shell.execute_reply": "2023-10-15T16:20:58.240274Z"
    },
    "papermill": {
     "duration": 508.52315,
     "end_time": "2023-10-15T16:20:58.273057",
     "exception": false,
     "start_time": "2023-10-15T16:12:29.749907",
     "status": "completed"
    },
    "tags": []
   },
   "outputs": [
    {
     "name": "stderr",
     "output_type": "stream",
     "text": [
      "/opt/conda/lib/python3.10/site-packages/sklearn/neural_network/_multilayer_perceptron.py:686: ConvergenceWarning: Stochastic Optimizer: Maximum iterations (200) reached and the optimization hasn't converged yet.\n",
      "  warnings.warn(\n",
      "/opt/conda/lib/python3.10/site-packages/sklearn/neural_network/_multilayer_perceptron.py:686: ConvergenceWarning: Stochastic Optimizer: Maximum iterations (200) reached and the optimization hasn't converged yet.\n",
      "  warnings.warn(\n"
     ]
    },
    {
     "name": "stdout",
     "output_type": "stream",
     "text": [
      "Modelo: MLPClassifier(random_state=4923)\n",
      "Acurácia --> 0.90\n",
      "Precisão --> 0.89\n",
      "Recall --> 0.91\n",
      "F1 --> 0.90\n"
     ]
    }
   ],
   "source": [
    "avalia_modelo(mlp, x_selecionado_frequencia_3, TARGET)"
   ]
  },
  {
   "cell_type": "code",
   "execution_count": 93,
   "id": "9fee914d",
   "metadata": {
    "execution": {
     "iopub.execute_input": "2023-10-15T16:20:58.337768Z",
     "iopub.status.busy": "2023-10-15T16:20:58.337034Z",
     "iopub.status.idle": "2023-10-15T16:29:45.737737Z",
     "shell.execute_reply": "2023-10-15T16:29:45.736911Z"
    },
    "papermill": {
     "duration": 527.467551,
     "end_time": "2023-10-15T16:29:45.771983",
     "exception": false,
     "start_time": "2023-10-15T16:20:58.304432",
     "status": "completed"
    },
    "tags": []
   },
   "outputs": [
    {
     "name": "stderr",
     "output_type": "stream",
     "text": [
      "/opt/conda/lib/python3.10/site-packages/sklearn/neural_network/_multilayer_perceptron.py:686: ConvergenceWarning: Stochastic Optimizer: Maximum iterations (200) reached and the optimization hasn't converged yet.\n",
      "  warnings.warn(\n"
     ]
    },
    {
     "name": "stdout",
     "output_type": "stream",
     "text": [
      "Modelo: MLPClassifier(random_state=4923)\n",
      "Acurácia --> 0.90\n",
      "Precisão --> 0.89\n",
      "Recall --> 0.90\n",
      "F1 --> 0.90\n"
     ]
    }
   ],
   "source": [
    "avalia_modelo(mlp, x_selecionado_frequencia_5, TARGET)"
   ]
  },
  {
   "cell_type": "code",
   "execution_count": 94,
   "id": "74c22eba",
   "metadata": {
    "execution": {
     "iopub.execute_input": "2023-10-15T16:29:45.837874Z",
     "iopub.status.busy": "2023-10-15T16:29:45.837104Z",
     "iopub.status.idle": "2023-10-15T16:38:01.801111Z",
     "shell.execute_reply": "2023-10-15T16:38:01.800242Z"
    },
    "papermill": {
     "duration": 496.033108,
     "end_time": "2023-10-15T16:38:01.836490",
     "exception": false,
     "start_time": "2023-10-15T16:29:45.803382",
     "status": "completed"
    },
    "tags": []
   },
   "outputs": [
    {
     "name": "stderr",
     "output_type": "stream",
     "text": [
      "/opt/conda/lib/python3.10/site-packages/sklearn/neural_network/_multilayer_perceptron.py:686: ConvergenceWarning: Stochastic Optimizer: Maximum iterations (200) reached and the optimization hasn't converged yet.\n",
      "  warnings.warn(\n",
      "/opt/conda/lib/python3.10/site-packages/sklearn/neural_network/_multilayer_perceptron.py:686: ConvergenceWarning: Stochastic Optimizer: Maximum iterations (200) reached and the optimization hasn't converged yet.\n",
      "  warnings.warn(\n",
      "/opt/conda/lib/python3.10/site-packages/sklearn/neural_network/_multilayer_perceptron.py:686: ConvergenceWarning: Stochastic Optimizer: Maximum iterations (200) reached and the optimization hasn't converged yet.\n",
      "  warnings.warn(\n",
      "/opt/conda/lib/python3.10/site-packages/sklearn/neural_network/_multilayer_perceptron.py:686: ConvergenceWarning: Stochastic Optimizer: Maximum iterations (200) reached and the optimization hasn't converged yet.\n",
      "  warnings.warn(\n"
     ]
    },
    {
     "name": "stdout",
     "output_type": "stream",
     "text": [
      "Modelo: MLPClassifier(random_state=4923)\n",
      "Acurácia --> 0.89\n",
      "Precisão --> 0.89\n",
      "Recall --> 0.90\n",
      "F1 --> 0.89\n"
     ]
    },
    {
     "name": "stderr",
     "output_type": "stream",
     "text": [
      "/opt/conda/lib/python3.10/site-packages/sklearn/neural_network/_multilayer_perceptron.py:686: ConvergenceWarning: Stochastic Optimizer: Maximum iterations (200) reached and the optimization hasn't converged yet.\n",
      "  warnings.warn(\n"
     ]
    }
   ],
   "source": [
    "avalia_modelo(mlp, x_selecionado_frequencia_7, TARGET)"
   ]
  },
  {
   "cell_type": "code",
   "execution_count": 95,
   "id": "237699ca",
   "metadata": {
    "execution": {
     "iopub.execute_input": "2023-10-15T16:38:01.903476Z",
     "iopub.status.busy": "2023-10-15T16:38:01.903039Z",
     "iopub.status.idle": "2023-10-15T16:45:56.739623Z",
     "shell.execute_reply": "2023-10-15T16:45:56.738638Z"
    },
    "papermill": {
     "duration": 474.906947,
     "end_time": "2023-10-15T16:45:56.775268",
     "exception": false,
     "start_time": "2023-10-15T16:38:01.868321",
     "status": "completed"
    },
    "tags": []
   },
   "outputs": [
    {
     "name": "stderr",
     "output_type": "stream",
     "text": [
      "/opt/conda/lib/python3.10/site-packages/sklearn/neural_network/_multilayer_perceptron.py:686: ConvergenceWarning: Stochastic Optimizer: Maximum iterations (200) reached and the optimization hasn't converged yet.\n",
      "  warnings.warn(\n",
      "/opt/conda/lib/python3.10/site-packages/sklearn/neural_network/_multilayer_perceptron.py:686: ConvergenceWarning: Stochastic Optimizer: Maximum iterations (200) reached and the optimization hasn't converged yet.\n",
      "  warnings.warn(\n",
      "/opt/conda/lib/python3.10/site-packages/sklearn/neural_network/_multilayer_perceptron.py:686: ConvergenceWarning: Stochastic Optimizer: Maximum iterations (200) reached and the optimization hasn't converged yet.\n",
      "  warnings.warn(\n"
     ]
    },
    {
     "name": "stdout",
     "output_type": "stream",
     "text": [
      "Modelo: MLPClassifier(random_state=4923)\n",
      "Acurácia --> 0.83\n",
      "Precisão --> 0.83\n",
      "Recall --> 0.85\n",
      "F1 --> 0.83\n"
     ]
    },
    {
     "name": "stderr",
     "output_type": "stream",
     "text": [
      "/opt/conda/lib/python3.10/site-packages/sklearn/neural_network/_multilayer_perceptron.py:686: ConvergenceWarning: Stochastic Optimizer: Maximum iterations (200) reached and the optimization hasn't converged yet.\n",
      "  warnings.warn(\n"
     ]
    }
   ],
   "source": [
    "avalia_modelo(mlp, x_selecionado_frequencia_9, TARGET)"
   ]
  },
  {
   "cell_type": "code",
   "execution_count": 96,
   "id": "62a30709",
   "metadata": {
    "execution": {
     "iopub.execute_input": "2023-10-15T16:45:56.843470Z",
     "iopub.status.busy": "2023-10-15T16:45:56.842718Z",
     "iopub.status.idle": "2023-10-15T16:52:49.155371Z",
     "shell.execute_reply": "2023-10-15T16:52:49.154310Z"
    },
    "papermill": {
     "duration": 412.381998,
     "end_time": "2023-10-15T16:52:49.190684",
     "exception": false,
     "start_time": "2023-10-15T16:45:56.808686",
     "status": "completed"
    },
    "tags": []
   },
   "outputs": [
    {
     "name": "stdout",
     "output_type": "stream",
     "text": [
      "Modelo: MLPClassifier(random_state=4923)\n",
      "Acurácia --> 0.82\n",
      "Precisão --> 0.78\n",
      "Recall --> 0.89\n",
      "F1 --> 0.83\n"
     ]
    }
   ],
   "source": [
    "avalia_modelo(mlp, x_selecionado_frequencia_11, TARGET)"
   ]
  },
  {
   "cell_type": "markdown",
   "id": "3b0f1b6b",
   "metadata": {
    "papermill": {
     "duration": 0.032063,
     "end_time": "2023-10-15T16:52:49.255536",
     "exception": false,
     "start_time": "2023-10-15T16:52:49.223473",
     "status": "completed"
    },
    "tags": []
   },
   "source": [
    "#### Resultados\n",
    "Aparentemente, os algoritmos de melhor performance foram o RandomForest e o ExtraTrees, mas o DecisionTree não perdeu em métricas por muito, e apresenta um melhor potencial de otimização (devido a velocidade de treinamento). E o conjunto com melhor perfomance foi o de maior dimensionalidade, ainda que por pouco."
   ]
  },
  {
   "cell_type": "markdown",
   "id": "da9cbeaf",
   "metadata": {
    "papermill": {
     "duration": 0.031906,
     "end_time": "2023-10-15T16:52:49.319545",
     "exception": false,
     "start_time": "2023-10-15T16:52:49.287639",
     "status": "completed"
    },
    "tags": []
   },
   "source": [
    "### 5. Hiperparâmetros"
   ]
  },
  {
   "cell_type": "code",
   "execution_count": 97,
   "id": "8828b59b",
   "metadata": {
    "execution": {
     "iopub.execute_input": "2023-10-15T16:52:49.386412Z",
     "iopub.status.busy": "2023-10-15T16:52:49.385981Z",
     "iopub.status.idle": "2023-10-15T16:52:49.391545Z",
     "shell.execute_reply": "2023-10-15T16:52:49.390117Z"
    },
    "papermill": {
     "duration": 0.041344,
     "end_time": "2023-10-15T16:52:49.393560",
     "exception": false,
     "start_time": "2023-10-15T16:52:49.352216",
     "status": "completed"
    },
    "tags": []
   },
   "outputs": [],
   "source": [
    "from sklearn.model_selection import RandomizedSearchCV, GridSearchCV"
   ]
  },
  {
   "cell_type": "code",
   "execution_count": 98,
   "id": "ef9a2fb2",
   "metadata": {
    "execution": {
     "iopub.execute_input": "2023-10-15T16:52:49.460431Z",
     "iopub.status.busy": "2023-10-15T16:52:49.459983Z",
     "iopub.status.idle": "2023-10-15T16:53:38.048163Z",
     "shell.execute_reply": "2023-10-15T16:53:38.047416Z"
    },
    "papermill": {
     "duration": 48.656727,
     "end_time": "2023-10-15T16:53:38.082666",
     "exception": false,
     "start_time": "2023-10-15T16:52:49.425939",
     "status": "completed"
    },
    "tags": []
   },
   "outputs": [
    {
     "name": "stdout",
     "output_type": "stream",
     "text": [
      "DecisionTreeClassifier(criterion='entropy', max_depth=18, min_samples_leaf=3,\n",
      "                       min_samples_split=8, random_state=4923)\n",
      "90.29272935354108\n"
     ]
    }
   ],
   "source": [
    "# DecisionTree\n",
    "lista_parametros = {\n",
    "    'criterion': ['gini', 'entropy'],\n",
    "    'splitter': ['best', 'random'],\n",
    "    'max_depth': np.arange(1, 20),\n",
    "    'min_samples_split': np.arange(2, 11),\n",
    "    'min_samples_leaf': np.arange(1, 11)\n",
    "}\n",
    "\n",
    "busca = RandomizedSearchCV(DecisionTreeClassifier(random_state = SEED), lista_parametros,\n",
    "                           cv = 10, n_iter = 30, random_state = SEED,\n",
    "                           scoring = \"accuracy\", n_jobs = -1)\n",
    "busca.fit(x_selecionado_frequencia_3, TARGET)\n",
    "print(busca.best_estimator_)\n",
    "print(busca.best_score_ * 100)"
   ]
  },
  {
   "cell_type": "code",
   "execution_count": 99,
   "id": "c1f7a5f7",
   "metadata": {
    "execution": {
     "iopub.execute_input": "2023-10-15T16:53:38.151621Z",
     "iopub.status.busy": "2023-10-15T16:53:38.150813Z",
     "iopub.status.idle": "2023-10-15T16:53:40.981992Z",
     "shell.execute_reply": "2023-10-15T16:53:40.981265Z"
    },
    "papermill": {
     "duration": 2.867472,
     "end_time": "2023-10-15T16:53:40.984115",
     "exception": false,
     "start_time": "2023-10-15T16:53:38.116643",
     "status": "completed"
    },
    "tags": []
   },
   "outputs": [
    {
     "name": "stdout",
     "output_type": "stream",
     "text": [
      "Modelo: DecisionTreeClassifier(criterion='entropy', max_depth=18, min_samples_leaf=3,\n",
      "                       min_samples_split=8, random_state=4923)\n",
      "Acurácia --> 0.90\n",
      "Precisão --> 0.89\n",
      "Recall --> 0.92\n",
      "F1 --> 0.90\n"
     ]
    }
   ],
   "source": [
    "avalia_modelo(DecisionTreeClassifier(criterion='entropy', max_depth=18, min_samples_leaf=3,\n",
    "                                     min_samples_split=8, random_state=4923), \n",
    "              x_selecionado_frequencia_3, TARGET)"
   ]
  },
  {
   "cell_type": "markdown",
   "id": "299876fa",
   "metadata": {
    "papermill": {
     "duration": 0.031945,
     "end_time": "2023-10-15T16:53:41.048443",
     "exception": false,
     "start_time": "2023-10-15T16:53:41.016498",
     "status": "completed"
    },
    "tags": []
   },
   "source": [
    "A única melhora é um aumento leve na acurácia e na precisão, a custo do recall."
   ]
  },
  {
   "cell_type": "markdown",
   "id": "64117a1c",
   "metadata": {
    "papermill": {
     "duration": 0.031641,
     "end_time": "2023-10-15T16:53:41.111961",
     "exception": false,
     "start_time": "2023-10-15T16:53:41.080320",
     "status": "completed"
    },
    "tags": []
   },
   "source": [
    "### 6. Conjunto de Teste"
   ]
  },
  {
   "cell_type": "code",
   "execution_count": 100,
   "id": "3713bcaa",
   "metadata": {
    "execution": {
     "iopub.execute_input": "2023-10-15T16:53:41.181314Z",
     "iopub.status.busy": "2023-10-15T16:53:41.180906Z",
     "iopub.status.idle": "2023-10-15T16:53:43.860947Z",
     "shell.execute_reply": "2023-10-15T16:53:43.860056Z"
    },
    "papermill": {
     "duration": 2.716532,
     "end_time": "2023-10-15T16:53:43.863281",
     "exception": false,
     "start_time": "2023-10-15T16:53:41.146749",
     "status": "completed"
    },
    "tags": []
   },
   "outputs": [],
   "source": [
    "alvo = pd.read_csv(\"/kaggle/input/santander-customer-satisfaction/test.csv\")"
   ]
  },
  {
   "cell_type": "code",
   "execution_count": 101,
   "id": "e6896de2",
   "metadata": {
    "execution": {
     "iopub.execute_input": "2023-10-15T16:53:43.930671Z",
     "iopub.status.busy": "2023-10-15T16:53:43.929992Z",
     "iopub.status.idle": "2023-10-15T16:53:43.935169Z",
     "shell.execute_reply": "2023-10-15T16:53:43.934021Z"
    },
    "papermill": {
     "duration": 0.041231,
     "end_time": "2023-10-15T16:53:43.937291",
     "exception": false,
     "start_time": "2023-10-15T16:53:43.896060",
     "status": "completed"
    },
    "tags": []
   },
   "outputs": [],
   "source": [
    "alvo_id = alvo.ID"
   ]
  },
  {
   "cell_type": "code",
   "execution_count": 102,
   "id": "161c1741",
   "metadata": {
    "execution": {
     "iopub.execute_input": "2023-10-15T16:53:44.004002Z",
     "iopub.status.busy": "2023-10-15T16:53:44.003647Z",
     "iopub.status.idle": "2023-10-15T16:53:44.034424Z",
     "shell.execute_reply": "2023-10-15T16:53:44.033209Z"
    },
    "papermill": {
     "duration": 0.067035,
     "end_time": "2023-10-15T16:53:44.037006",
     "exception": false,
     "start_time": "2023-10-15T16:53:43.969971",
     "status": "completed"
    },
    "tags": []
   },
   "outputs": [],
   "source": [
    "alvo = pd.DataFrame({coluna: alvo[coluna] for coluna in x_selecionado_frequencia_3})"
   ]
  },
  {
   "cell_type": "code",
   "execution_count": 103,
   "id": "5ca72070",
   "metadata": {
    "execution": {
     "iopub.execute_input": "2023-10-15T16:53:44.103648Z",
     "iopub.status.busy": "2023-10-15T16:53:44.102735Z",
     "iopub.status.idle": "2023-10-15T16:53:44.118687Z",
     "shell.execute_reply": "2023-10-15T16:53:44.117745Z"
    },
    "papermill": {
     "duration": 0.051033,
     "end_time": "2023-10-15T16:53:44.120500",
     "exception": false,
     "start_time": "2023-10-15T16:53:44.069467",
     "status": "completed"
    },
    "tags": []
   },
   "outputs": [
    {
     "data": {
      "text/html": [
       "<div>\n",
       "<style scoped>\n",
       "    .dataframe tbody tr th:only-of-type {\n",
       "        vertical-align: middle;\n",
       "    }\n",
       "\n",
       "    .dataframe tbody tr th {\n",
       "        vertical-align: top;\n",
       "    }\n",
       "\n",
       "    .dataframe thead th {\n",
       "        text-align: right;\n",
       "    }\n",
       "</style>\n",
       "<table border=\"1\" class=\"dataframe\">\n",
       "  <thead>\n",
       "    <tr style=\"text-align: right;\">\n",
       "      <th></th>\n",
       "      <th>ind_var30</th>\n",
       "      <th>num_var30</th>\n",
       "      <th>num_meses_var5_ult3</th>\n",
       "      <th>var15</th>\n",
       "      <th>num_var4</th>\n",
       "      <th>ind_var5</th>\n",
       "      <th>num_var35</th>\n",
       "      <th>num_var5</th>\n",
       "      <th>num_var42</th>\n",
       "      <th>var36</th>\n",
       "      <th>...</th>\n",
       "      <th>num_var24_0</th>\n",
       "      <th>ind_var25_cte</th>\n",
       "      <th>ind_var26_cte</th>\n",
       "      <th>ind_var26</th>\n",
       "      <th>ind_var25</th>\n",
       "      <th>ind_var26_0</th>\n",
       "      <th>ind_var25_0</th>\n",
       "      <th>ind_var8</th>\n",
       "      <th>ind_var8_0</th>\n",
       "      <th>num_var8</th>\n",
       "    </tr>\n",
       "  </thead>\n",
       "  <tbody>\n",
       "    <tr>\n",
       "      <th>0</th>\n",
       "      <td>1</td>\n",
       "      <td>3</td>\n",
       "      <td>3</td>\n",
       "      <td>32</td>\n",
       "      <td>1</td>\n",
       "      <td>1</td>\n",
       "      <td>3</td>\n",
       "      <td>3</td>\n",
       "      <td>3</td>\n",
       "      <td>3</td>\n",
       "      <td>...</td>\n",
       "      <td>0</td>\n",
       "      <td>0</td>\n",
       "      <td>0</td>\n",
       "      <td>0</td>\n",
       "      <td>0</td>\n",
       "      <td>0</td>\n",
       "      <td>0</td>\n",
       "      <td>0</td>\n",
       "      <td>0</td>\n",
       "      <td>0</td>\n",
       "    </tr>\n",
       "    <tr>\n",
       "      <th>1</th>\n",
       "      <td>1</td>\n",
       "      <td>3</td>\n",
       "      <td>3</td>\n",
       "      <td>35</td>\n",
       "      <td>1</td>\n",
       "      <td>1</td>\n",
       "      <td>3</td>\n",
       "      <td>3</td>\n",
       "      <td>3</td>\n",
       "      <td>3</td>\n",
       "      <td>...</td>\n",
       "      <td>0</td>\n",
       "      <td>0</td>\n",
       "      <td>0</td>\n",
       "      <td>0</td>\n",
       "      <td>0</td>\n",
       "      <td>0</td>\n",
       "      <td>0</td>\n",
       "      <td>0</td>\n",
       "      <td>0</td>\n",
       "      <td>0</td>\n",
       "    </tr>\n",
       "    <tr>\n",
       "      <th>2</th>\n",
       "      <td>1</td>\n",
       "      <td>3</td>\n",
       "      <td>3</td>\n",
       "      <td>23</td>\n",
       "      <td>2</td>\n",
       "      <td>1</td>\n",
       "      <td>6</td>\n",
       "      <td>3</td>\n",
       "      <td>3</td>\n",
       "      <td>3</td>\n",
       "      <td>...</td>\n",
       "      <td>0</td>\n",
       "      <td>0</td>\n",
       "      <td>0</td>\n",
       "      <td>0</td>\n",
       "      <td>0</td>\n",
       "      <td>0</td>\n",
       "      <td>0</td>\n",
       "      <td>0</td>\n",
       "      <td>0</td>\n",
       "      <td>0</td>\n",
       "    </tr>\n",
       "    <tr>\n",
       "      <th>3</th>\n",
       "      <td>0</td>\n",
       "      <td>0</td>\n",
       "      <td>0</td>\n",
       "      <td>24</td>\n",
       "      <td>0</td>\n",
       "      <td>0</td>\n",
       "      <td>0</td>\n",
       "      <td>0</td>\n",
       "      <td>0</td>\n",
       "      <td>99</td>\n",
       "      <td>...</td>\n",
       "      <td>0</td>\n",
       "      <td>0</td>\n",
       "      <td>0</td>\n",
       "      <td>0</td>\n",
       "      <td>0</td>\n",
       "      <td>0</td>\n",
       "      <td>0</td>\n",
       "      <td>0</td>\n",
       "      <td>0</td>\n",
       "      <td>0</td>\n",
       "    </tr>\n",
       "    <tr>\n",
       "      <th>4</th>\n",
       "      <td>1</td>\n",
       "      <td>3</td>\n",
       "      <td>3</td>\n",
       "      <td>23</td>\n",
       "      <td>1</td>\n",
       "      <td>1</td>\n",
       "      <td>3</td>\n",
       "      <td>3</td>\n",
       "      <td>3</td>\n",
       "      <td>3</td>\n",
       "      <td>...</td>\n",
       "      <td>0</td>\n",
       "      <td>0</td>\n",
       "      <td>0</td>\n",
       "      <td>0</td>\n",
       "      <td>0</td>\n",
       "      <td>0</td>\n",
       "      <td>0</td>\n",
       "      <td>0</td>\n",
       "      <td>0</td>\n",
       "      <td>0</td>\n",
       "    </tr>\n",
       "  </tbody>\n",
       "</table>\n",
       "<p>5 rows × 52 columns</p>\n",
       "</div>"
      ],
      "text/plain": [
       "   ind_var30  num_var30  num_meses_var5_ult3  var15  num_var4  ind_var5  \\\n",
       "0          1          3                    3     32         1         1   \n",
       "1          1          3                    3     35         1         1   \n",
       "2          1          3                    3     23         2         1   \n",
       "3          0          0                    0     24         0         0   \n",
       "4          1          3                    3     23         1         1   \n",
       "\n",
       "   num_var35  num_var5  num_var42  var36  ...  num_var24_0  ind_var25_cte  \\\n",
       "0          3         3          3      3  ...            0              0   \n",
       "1          3         3          3      3  ...            0              0   \n",
       "2          6         3          3      3  ...            0              0   \n",
       "3          0         0          0     99  ...            0              0   \n",
       "4          3         3          3      3  ...            0              0   \n",
       "\n",
       "   ind_var26_cte  ind_var26  ind_var25  ind_var26_0  ind_var25_0  ind_var8  \\\n",
       "0              0          0          0            0            0         0   \n",
       "1              0          0          0            0            0         0   \n",
       "2              0          0          0            0            0         0   \n",
       "3              0          0          0            0            0         0   \n",
       "4              0          0          0            0            0         0   \n",
       "\n",
       "   ind_var8_0  num_var8  \n",
       "0           0         0  \n",
       "1           0         0  \n",
       "2           0         0  \n",
       "3           0         0  \n",
       "4           0         0  \n",
       "\n",
       "[5 rows x 52 columns]"
      ]
     },
     "execution_count": 103,
     "metadata": {},
     "output_type": "execute_result"
    }
   ],
   "source": [
    "alvo.head()"
   ]
  },
  {
   "cell_type": "code",
   "execution_count": 104,
   "id": "65e55ba1",
   "metadata": {
    "execution": {
     "iopub.execute_input": "2023-10-15T16:53:44.189846Z",
     "iopub.status.busy": "2023-10-15T16:53:44.188766Z",
     "iopub.status.idle": "2023-10-15T16:53:44.258975Z",
     "shell.execute_reply": "2023-10-15T16:53:44.257917Z"
    },
    "papermill": {
     "duration": 0.106011,
     "end_time": "2023-10-15T16:53:44.260898",
     "exception": false,
     "start_time": "2023-10-15T16:53:44.154887",
     "status": "completed"
    },
    "tags": []
   },
   "outputs": [
    {
     "data": {
      "text/html": [
       "<div>\n",
       "<style scoped>\n",
       "    .dataframe tbody tr th:only-of-type {\n",
       "        vertical-align: middle;\n",
       "    }\n",
       "\n",
       "    .dataframe tbody tr th {\n",
       "        vertical-align: top;\n",
       "    }\n",
       "\n",
       "    .dataframe thead th {\n",
       "        text-align: right;\n",
       "    }\n",
       "</style>\n",
       "<table border=\"1\" class=\"dataframe\">\n",
       "  <thead>\n",
       "    <tr style=\"text-align: right;\">\n",
       "      <th></th>\n",
       "      <th>ind_var30</th>\n",
       "      <th>num_var30</th>\n",
       "      <th>num_meses_var5_ult3</th>\n",
       "      <th>var15</th>\n",
       "      <th>num_var4</th>\n",
       "      <th>ind_var5</th>\n",
       "      <th>num_var35</th>\n",
       "      <th>num_var5</th>\n",
       "      <th>num_var42</th>\n",
       "      <th>var36</th>\n",
       "      <th>...</th>\n",
       "      <th>num_var24_0</th>\n",
       "      <th>ind_var25_cte</th>\n",
       "      <th>ind_var26_cte</th>\n",
       "      <th>ind_var26</th>\n",
       "      <th>ind_var25</th>\n",
       "      <th>ind_var26_0</th>\n",
       "      <th>ind_var25_0</th>\n",
       "      <th>ind_var8</th>\n",
       "      <th>ind_var8_0</th>\n",
       "      <th>num_var8</th>\n",
       "    </tr>\n",
       "  </thead>\n",
       "  <tbody>\n",
       "    <tr>\n",
       "      <th>0</th>\n",
       "      <td>1.0</td>\n",
       "      <td>0.125</td>\n",
       "      <td>1.0</td>\n",
       "      <td>0.27</td>\n",
       "      <td>0.111111</td>\n",
       "      <td>1.0</td>\n",
       "      <td>0.071429</td>\n",
       "      <td>0.25</td>\n",
       "      <td>0.2</td>\n",
       "      <td>0.030303</td>\n",
       "      <td>...</td>\n",
       "      <td>0.0</td>\n",
       "      <td>0.0</td>\n",
       "      <td>0.0</td>\n",
       "      <td>0.0</td>\n",
       "      <td>0.0</td>\n",
       "      <td>0.0</td>\n",
       "      <td>0.0</td>\n",
       "      <td>0.0</td>\n",
       "      <td>0.0</td>\n",
       "      <td>0.0</td>\n",
       "    </tr>\n",
       "    <tr>\n",
       "      <th>1</th>\n",
       "      <td>1.0</td>\n",
       "      <td>0.125</td>\n",
       "      <td>1.0</td>\n",
       "      <td>0.30</td>\n",
       "      <td>0.111111</td>\n",
       "      <td>1.0</td>\n",
       "      <td>0.071429</td>\n",
       "      <td>0.25</td>\n",
       "      <td>0.2</td>\n",
       "      <td>0.030303</td>\n",
       "      <td>...</td>\n",
       "      <td>0.0</td>\n",
       "      <td>0.0</td>\n",
       "      <td>0.0</td>\n",
       "      <td>0.0</td>\n",
       "      <td>0.0</td>\n",
       "      <td>0.0</td>\n",
       "      <td>0.0</td>\n",
       "      <td>0.0</td>\n",
       "      <td>0.0</td>\n",
       "      <td>0.0</td>\n",
       "    </tr>\n",
       "    <tr>\n",
       "      <th>2</th>\n",
       "      <td>1.0</td>\n",
       "      <td>0.125</td>\n",
       "      <td>1.0</td>\n",
       "      <td>0.18</td>\n",
       "      <td>0.222222</td>\n",
       "      <td>1.0</td>\n",
       "      <td>0.142857</td>\n",
       "      <td>0.25</td>\n",
       "      <td>0.2</td>\n",
       "      <td>0.030303</td>\n",
       "      <td>...</td>\n",
       "      <td>0.0</td>\n",
       "      <td>0.0</td>\n",
       "      <td>0.0</td>\n",
       "      <td>0.0</td>\n",
       "      <td>0.0</td>\n",
       "      <td>0.0</td>\n",
       "      <td>0.0</td>\n",
       "      <td>0.0</td>\n",
       "      <td>0.0</td>\n",
       "      <td>0.0</td>\n",
       "    </tr>\n",
       "    <tr>\n",
       "      <th>3</th>\n",
       "      <td>0.0</td>\n",
       "      <td>0.000</td>\n",
       "      <td>0.0</td>\n",
       "      <td>0.19</td>\n",
       "      <td>0.000000</td>\n",
       "      <td>0.0</td>\n",
       "      <td>0.000000</td>\n",
       "      <td>0.00</td>\n",
       "      <td>0.0</td>\n",
       "      <td>1.000000</td>\n",
       "      <td>...</td>\n",
       "      <td>0.0</td>\n",
       "      <td>0.0</td>\n",
       "      <td>0.0</td>\n",
       "      <td>0.0</td>\n",
       "      <td>0.0</td>\n",
       "      <td>0.0</td>\n",
       "      <td>0.0</td>\n",
       "      <td>0.0</td>\n",
       "      <td>0.0</td>\n",
       "      <td>0.0</td>\n",
       "    </tr>\n",
       "    <tr>\n",
       "      <th>4</th>\n",
       "      <td>1.0</td>\n",
       "      <td>0.125</td>\n",
       "      <td>1.0</td>\n",
       "      <td>0.18</td>\n",
       "      <td>0.111111</td>\n",
       "      <td>1.0</td>\n",
       "      <td>0.071429</td>\n",
       "      <td>0.25</td>\n",
       "      <td>0.2</td>\n",
       "      <td>0.030303</td>\n",
       "      <td>...</td>\n",
       "      <td>0.0</td>\n",
       "      <td>0.0</td>\n",
       "      <td>0.0</td>\n",
       "      <td>0.0</td>\n",
       "      <td>0.0</td>\n",
       "      <td>0.0</td>\n",
       "      <td>0.0</td>\n",
       "      <td>0.0</td>\n",
       "      <td>0.0</td>\n",
       "      <td>0.0</td>\n",
       "    </tr>\n",
       "  </tbody>\n",
       "</table>\n",
       "<p>5 rows × 52 columns</p>\n",
       "</div>"
      ],
      "text/plain": [
       "   ind_var30  num_var30  num_meses_var5_ult3  var15  num_var4  ind_var5  \\\n",
       "0        1.0      0.125                  1.0   0.27  0.111111       1.0   \n",
       "1        1.0      0.125                  1.0   0.30  0.111111       1.0   \n",
       "2        1.0      0.125                  1.0   0.18  0.222222       1.0   \n",
       "3        0.0      0.000                  0.0   0.19  0.000000       0.0   \n",
       "4        1.0      0.125                  1.0   0.18  0.111111       1.0   \n",
       "\n",
       "   num_var35  num_var5  num_var42     var36  ...  num_var24_0  ind_var25_cte  \\\n",
       "0   0.071429      0.25        0.2  0.030303  ...          0.0            0.0   \n",
       "1   0.071429      0.25        0.2  0.030303  ...          0.0            0.0   \n",
       "2   0.142857      0.25        0.2  0.030303  ...          0.0            0.0   \n",
       "3   0.000000      0.00        0.0  1.000000  ...          0.0            0.0   \n",
       "4   0.071429      0.25        0.2  0.030303  ...          0.0            0.0   \n",
       "\n",
       "   ind_var26_cte  ind_var26  ind_var25  ind_var26_0  ind_var25_0  ind_var8  \\\n",
       "0            0.0        0.0        0.0          0.0          0.0       0.0   \n",
       "1            0.0        0.0        0.0          0.0          0.0       0.0   \n",
       "2            0.0        0.0        0.0          0.0          0.0       0.0   \n",
       "3            0.0        0.0        0.0          0.0          0.0       0.0   \n",
       "4            0.0        0.0        0.0          0.0          0.0       0.0   \n",
       "\n",
       "   ind_var8_0  num_var8  \n",
       "0         0.0       0.0  \n",
       "1         0.0       0.0  \n",
       "2         0.0       0.0  \n",
       "3         0.0       0.0  \n",
       "4         0.0       0.0  \n",
       "\n",
       "[5 rows x 52 columns]"
      ]
     },
     "execution_count": 104,
     "metadata": {},
     "output_type": "execute_result"
    }
   ],
   "source": [
    "scaler = MinMaxScaler()\n",
    "\n",
    "copia = alvo.copy()\n",
    "copia = scaler.fit_transform(copia)\n",
    "\n",
    "alvo = pd.DataFrame(copia, columns = alvo.columns)\n",
    "alvo.head()"
   ]
  },
  {
   "cell_type": "code",
   "execution_count": 105,
   "id": "0e738dd9",
   "metadata": {
    "execution": {
     "iopub.execute_input": "2023-10-15T16:53:44.328531Z",
     "iopub.status.busy": "2023-10-15T16:53:44.328070Z",
     "iopub.status.idle": "2023-10-15T16:53:44.333168Z",
     "shell.execute_reply": "2023-10-15T16:53:44.332154Z"
    },
    "papermill": {
     "duration": 0.041283,
     "end_time": "2023-10-15T16:53:44.335169",
     "exception": false,
     "start_time": "2023-10-15T16:53:44.293886",
     "status": "completed"
    },
    "tags": []
   },
   "outputs": [],
   "source": [
    "model = DecisionTreeClassifier(criterion='entropy', max_depth=18, min_samples_leaf=3,\n",
    "                                     min_samples_split=8, random_state=4923)"
   ]
  },
  {
   "cell_type": "code",
   "execution_count": 106,
   "id": "275b57a3",
   "metadata": {
    "execution": {
     "iopub.execute_input": "2023-10-15T16:53:44.403372Z",
     "iopub.status.busy": "2023-10-15T16:53:44.402966Z",
     "iopub.status.idle": "2023-10-15T16:53:45.051573Z",
     "shell.execute_reply": "2023-10-15T16:53:45.050670Z"
    },
    "papermill": {
     "duration": 0.685724,
     "end_time": "2023-10-15T16:53:45.053883",
     "exception": false,
     "start_time": "2023-10-15T16:53:44.368159",
     "status": "completed"
    },
    "tags": []
   },
   "outputs": [
    {
     "data": {
      "text/html": [
       "<style>#sk-container-id-1 {color: black;background-color: white;}#sk-container-id-1 pre{padding: 0;}#sk-container-id-1 div.sk-toggleable {background-color: white;}#sk-container-id-1 label.sk-toggleable__label {cursor: pointer;display: block;width: 100%;margin-bottom: 0;padding: 0.3em;box-sizing: border-box;text-align: center;}#sk-container-id-1 label.sk-toggleable__label-arrow:before {content: \"▸\";float: left;margin-right: 0.25em;color: #696969;}#sk-container-id-1 label.sk-toggleable__label-arrow:hover:before {color: black;}#sk-container-id-1 div.sk-estimator:hover label.sk-toggleable__label-arrow:before {color: black;}#sk-container-id-1 div.sk-toggleable__content {max-height: 0;max-width: 0;overflow: hidden;text-align: left;background-color: #f0f8ff;}#sk-container-id-1 div.sk-toggleable__content pre {margin: 0.2em;color: black;border-radius: 0.25em;background-color: #f0f8ff;}#sk-container-id-1 input.sk-toggleable__control:checked~div.sk-toggleable__content {max-height: 200px;max-width: 100%;overflow: auto;}#sk-container-id-1 input.sk-toggleable__control:checked~label.sk-toggleable__label-arrow:before {content: \"▾\";}#sk-container-id-1 div.sk-estimator input.sk-toggleable__control:checked~label.sk-toggleable__label {background-color: #d4ebff;}#sk-container-id-1 div.sk-label input.sk-toggleable__control:checked~label.sk-toggleable__label {background-color: #d4ebff;}#sk-container-id-1 input.sk-hidden--visually {border: 0;clip: rect(1px 1px 1px 1px);clip: rect(1px, 1px, 1px, 1px);height: 1px;margin: -1px;overflow: hidden;padding: 0;position: absolute;width: 1px;}#sk-container-id-1 div.sk-estimator {font-family: monospace;background-color: #f0f8ff;border: 1px dotted black;border-radius: 0.25em;box-sizing: border-box;margin-bottom: 0.5em;}#sk-container-id-1 div.sk-estimator:hover {background-color: #d4ebff;}#sk-container-id-1 div.sk-parallel-item::after {content: \"\";width: 100%;border-bottom: 1px solid gray;flex-grow: 1;}#sk-container-id-1 div.sk-label:hover label.sk-toggleable__label {background-color: #d4ebff;}#sk-container-id-1 div.sk-serial::before {content: \"\";position: absolute;border-left: 1px solid gray;box-sizing: border-box;top: 0;bottom: 0;left: 50%;z-index: 0;}#sk-container-id-1 div.sk-serial {display: flex;flex-direction: column;align-items: center;background-color: white;padding-right: 0.2em;padding-left: 0.2em;position: relative;}#sk-container-id-1 div.sk-item {position: relative;z-index: 1;}#sk-container-id-1 div.sk-parallel {display: flex;align-items: stretch;justify-content: center;background-color: white;position: relative;}#sk-container-id-1 div.sk-item::before, #sk-container-id-1 div.sk-parallel-item::before {content: \"\";position: absolute;border-left: 1px solid gray;box-sizing: border-box;top: 0;bottom: 0;left: 50%;z-index: -1;}#sk-container-id-1 div.sk-parallel-item {display: flex;flex-direction: column;z-index: 1;position: relative;background-color: white;}#sk-container-id-1 div.sk-parallel-item:first-child::after {align-self: flex-end;width: 50%;}#sk-container-id-1 div.sk-parallel-item:last-child::after {align-self: flex-start;width: 50%;}#sk-container-id-1 div.sk-parallel-item:only-child::after {width: 0;}#sk-container-id-1 div.sk-dashed-wrapped {border: 1px dashed gray;margin: 0 0.4em 0.5em 0.4em;box-sizing: border-box;padding-bottom: 0.4em;background-color: white;}#sk-container-id-1 div.sk-label label {font-family: monospace;font-weight: bold;display: inline-block;line-height: 1.2em;}#sk-container-id-1 div.sk-label-container {text-align: center;}#sk-container-id-1 div.sk-container {/* jupyter's `normalize.less` sets `[hidden] { display: none; }` but bootstrap.min.css set `[hidden] { display: none !important; }` so we also need the `!important` here to be able to override the default hidden behavior on the sphinx rendered scikit-learn.org. See: https://github.com/scikit-learn/scikit-learn/issues/21755 */display: inline-block !important;position: relative;}#sk-container-id-1 div.sk-text-repr-fallback {display: none;}</style><div id=\"sk-container-id-1\" class=\"sk-top-container\"><div class=\"sk-text-repr-fallback\"><pre>DecisionTreeClassifier(criterion=&#x27;entropy&#x27;, max_depth=18, min_samples_leaf=3,\n",
       "                       min_samples_split=8, random_state=4923)</pre><b>In a Jupyter environment, please rerun this cell to show the HTML representation or trust the notebook. <br />On GitHub, the HTML representation is unable to render, please try loading this page with nbviewer.org.</b></div><div class=\"sk-container\" hidden><div class=\"sk-item\"><div class=\"sk-estimator sk-toggleable\"><input class=\"sk-toggleable__control sk-hidden--visually\" id=\"sk-estimator-id-1\" type=\"checkbox\" checked><label for=\"sk-estimator-id-1\" class=\"sk-toggleable__label sk-toggleable__label-arrow\">DecisionTreeClassifier</label><div class=\"sk-toggleable__content\"><pre>DecisionTreeClassifier(criterion=&#x27;entropy&#x27;, max_depth=18, min_samples_leaf=3,\n",
       "                       min_samples_split=8, random_state=4923)</pre></div></div></div></div></div>"
      ],
      "text/plain": [
       "DecisionTreeClassifier(criterion='entropy', max_depth=18, min_samples_leaf=3,\n",
       "                       min_samples_split=8, random_state=4923)"
      ]
     },
     "execution_count": 106,
     "metadata": {},
     "output_type": "execute_result"
    }
   ],
   "source": [
    "model.fit(x_selecionado_frequencia_3, TARGET)"
   ]
  },
  {
   "cell_type": "code",
   "execution_count": 107,
   "id": "5ba59930",
   "metadata": {
    "execution": {
     "iopub.execute_input": "2023-10-15T16:53:45.124191Z",
     "iopub.status.busy": "2023-10-15T16:53:45.123463Z",
     "iopub.status.idle": "2023-10-15T16:53:45.149251Z",
     "shell.execute_reply": "2023-10-15T16:53:45.148231Z"
    },
    "papermill": {
     "duration": 0.063143,
     "end_time": "2023-10-15T16:53:45.151711",
     "exception": false,
     "start_time": "2023-10-15T16:53:45.088568",
     "status": "completed"
    },
    "tags": []
   },
   "outputs": [],
   "source": [
    "resultados = model.predict(alvo)"
   ]
  },
  {
   "cell_type": "code",
   "execution_count": 108,
   "id": "35590e52",
   "metadata": {
    "execution": {
     "iopub.execute_input": "2023-10-15T16:53:45.221453Z",
     "iopub.status.busy": "2023-10-15T16:53:45.220826Z",
     "iopub.status.idle": "2023-10-15T16:53:45.226729Z",
     "shell.execute_reply": "2023-10-15T16:53:45.226091Z"
    },
    "papermill": {
     "duration": 0.042907,
     "end_time": "2023-10-15T16:53:45.228526",
     "exception": false,
     "start_time": "2023-10-15T16:53:45.185619",
     "status": "completed"
    },
    "tags": []
   },
   "outputs": [
    {
     "data": {
      "text/plain": [
       "array([0, 0, 1, ..., 0, 0, 0])"
      ]
     },
     "execution_count": 108,
     "metadata": {},
     "output_type": "execute_result"
    }
   ],
   "source": [
    "resultados"
   ]
  },
  {
   "cell_type": "code",
   "execution_count": 109,
   "id": "0df5cd71",
   "metadata": {
    "execution": {
     "iopub.execute_input": "2023-10-15T16:53:45.300227Z",
     "iopub.status.busy": "2023-10-15T16:53:45.298858Z",
     "iopub.status.idle": "2023-10-15T16:53:45.304987Z",
     "shell.execute_reply": "2023-10-15T16:53:45.304275Z"
    },
    "papermill": {
     "duration": 0.043081,
     "end_time": "2023-10-15T16:53:45.306856",
     "exception": false,
     "start_time": "2023-10-15T16:53:45.263775",
     "status": "completed"
    },
    "tags": []
   },
   "outputs": [],
   "source": [
    "resposta = pd.concat([alvo_id, pd.Series(resultados, name = \"TARGET\")], axis = 1)"
   ]
  },
  {
   "cell_type": "code",
   "execution_count": 110,
   "id": "cfcb468c",
   "metadata": {
    "execution": {
     "iopub.execute_input": "2023-10-15T16:53:45.463638Z",
     "iopub.status.busy": "2023-10-15T16:53:45.462957Z",
     "iopub.status.idle": "2023-10-15T16:53:45.473596Z",
     "shell.execute_reply": "2023-10-15T16:53:45.472543Z"
    },
    "papermill": {
     "duration": 0.13504,
     "end_time": "2023-10-15T16:53:45.475697",
     "exception": false,
     "start_time": "2023-10-15T16:53:45.340657",
     "status": "completed"
    },
    "tags": []
   },
   "outputs": [
    {
     "data": {
      "text/html": [
       "<div>\n",
       "<style scoped>\n",
       "    .dataframe tbody tr th:only-of-type {\n",
       "        vertical-align: middle;\n",
       "    }\n",
       "\n",
       "    .dataframe tbody tr th {\n",
       "        vertical-align: top;\n",
       "    }\n",
       "\n",
       "    .dataframe thead th {\n",
       "        text-align: right;\n",
       "    }\n",
       "</style>\n",
       "<table border=\"1\" class=\"dataframe\">\n",
       "  <thead>\n",
       "    <tr style=\"text-align: right;\">\n",
       "      <th></th>\n",
       "      <th>ID</th>\n",
       "      <th>TARGET</th>\n",
       "    </tr>\n",
       "  </thead>\n",
       "  <tbody>\n",
       "    <tr>\n",
       "      <th>0</th>\n",
       "      <td>2</td>\n",
       "      <td>0</td>\n",
       "    </tr>\n",
       "    <tr>\n",
       "      <th>1</th>\n",
       "      <td>5</td>\n",
       "      <td>0</td>\n",
       "    </tr>\n",
       "    <tr>\n",
       "      <th>2</th>\n",
       "      <td>6</td>\n",
       "      <td>1</td>\n",
       "    </tr>\n",
       "    <tr>\n",
       "      <th>3</th>\n",
       "      <td>7</td>\n",
       "      <td>0</td>\n",
       "    </tr>\n",
       "    <tr>\n",
       "      <th>4</th>\n",
       "      <td>9</td>\n",
       "      <td>0</td>\n",
       "    </tr>\n",
       "    <tr>\n",
       "      <th>...</th>\n",
       "      <td>...</td>\n",
       "      <td>...</td>\n",
       "    </tr>\n",
       "    <tr>\n",
       "      <th>75813</th>\n",
       "      <td>151831</td>\n",
       "      <td>0</td>\n",
       "    </tr>\n",
       "    <tr>\n",
       "      <th>75814</th>\n",
       "      <td>151832</td>\n",
       "      <td>0</td>\n",
       "    </tr>\n",
       "    <tr>\n",
       "      <th>75815</th>\n",
       "      <td>151833</td>\n",
       "      <td>0</td>\n",
       "    </tr>\n",
       "    <tr>\n",
       "      <th>75816</th>\n",
       "      <td>151834</td>\n",
       "      <td>0</td>\n",
       "    </tr>\n",
       "    <tr>\n",
       "      <th>75817</th>\n",
       "      <td>151837</td>\n",
       "      <td>0</td>\n",
       "    </tr>\n",
       "  </tbody>\n",
       "</table>\n",
       "<p>75818 rows × 2 columns</p>\n",
       "</div>"
      ],
      "text/plain": [
       "           ID  TARGET\n",
       "0           2       0\n",
       "1           5       0\n",
       "2           6       1\n",
       "3           7       0\n",
       "4           9       0\n",
       "...       ...     ...\n",
       "75813  151831       0\n",
       "75814  151832       0\n",
       "75815  151833       0\n",
       "75816  151834       0\n",
       "75817  151837       0\n",
       "\n",
       "[75818 rows x 2 columns]"
      ]
     },
     "execution_count": 110,
     "metadata": {},
     "output_type": "execute_result"
    }
   ],
   "source": [
    "resposta"
   ]
  },
  {
   "cell_type": "code",
   "execution_count": 111,
   "id": "474e3b47",
   "metadata": {
    "execution": {
     "iopub.execute_input": "2023-10-15T16:53:45.545927Z",
     "iopub.status.busy": "2023-10-15T16:53:45.544976Z",
     "iopub.status.idle": "2023-10-15T16:53:45.635113Z",
     "shell.execute_reply": "2023-10-15T16:53:45.634039Z"
    },
    "papermill": {
     "duration": 0.127564,
     "end_time": "2023-10-15T16:53:45.637483",
     "exception": false,
     "start_time": "2023-10-15T16:53:45.509919",
     "status": "completed"
    },
    "tags": []
   },
   "outputs": [],
   "source": [
    "resposta.to_csv(\"resposta.csv\", index = False)"
   ]
  },
  {
   "cell_type": "code",
   "execution_count": 112,
   "id": "92845de6",
   "metadata": {
    "execution": {
     "iopub.execute_input": "2023-10-15T16:53:45.706686Z",
     "iopub.status.busy": "2023-10-15T16:53:45.706285Z",
     "iopub.status.idle": "2023-10-15T16:53:45.711519Z",
     "shell.execute_reply": "2023-10-15T16:53:45.710493Z"
    },
    "papermill": {
     "duration": 0.04203,
     "end_time": "2023-10-15T16:53:45.713654",
     "exception": false,
     "start_time": "2023-10-15T16:53:45.671624",
     "status": "completed"
    },
    "tags": []
   },
   "outputs": [],
   "source": [
    "resposta = resposta.reset_index(drop = True)"
   ]
  },
  {
   "cell_type": "code",
   "execution_count": 113,
   "id": "1a698c96",
   "metadata": {
    "execution": {
     "iopub.execute_input": "2023-10-15T16:53:45.784059Z",
     "iopub.status.busy": "2023-10-15T16:53:45.782965Z",
     "iopub.status.idle": "2023-10-15T16:53:45.792943Z",
     "shell.execute_reply": "2023-10-15T16:53:45.792014Z"
    },
    "papermill": {
     "duration": 0.046997,
     "end_time": "2023-10-15T16:53:45.794683",
     "exception": false,
     "start_time": "2023-10-15T16:53:45.747686",
     "status": "completed"
    },
    "tags": []
   },
   "outputs": [
    {
     "data": {
      "text/html": [
       "<div>\n",
       "<style scoped>\n",
       "    .dataframe tbody tr th:only-of-type {\n",
       "        vertical-align: middle;\n",
       "    }\n",
       "\n",
       "    .dataframe tbody tr th {\n",
       "        vertical-align: top;\n",
       "    }\n",
       "\n",
       "    .dataframe thead th {\n",
       "        text-align: right;\n",
       "    }\n",
       "</style>\n",
       "<table border=\"1\" class=\"dataframe\">\n",
       "  <thead>\n",
       "    <tr style=\"text-align: right;\">\n",
       "      <th></th>\n",
       "      <th>ID</th>\n",
       "      <th>TARGET</th>\n",
       "    </tr>\n",
       "  </thead>\n",
       "  <tbody>\n",
       "    <tr>\n",
       "      <th>0</th>\n",
       "      <td>2</td>\n",
       "      <td>0</td>\n",
       "    </tr>\n",
       "    <tr>\n",
       "      <th>1</th>\n",
       "      <td>5</td>\n",
       "      <td>0</td>\n",
       "    </tr>\n",
       "    <tr>\n",
       "      <th>2</th>\n",
       "      <td>6</td>\n",
       "      <td>1</td>\n",
       "    </tr>\n",
       "    <tr>\n",
       "      <th>3</th>\n",
       "      <td>7</td>\n",
       "      <td>0</td>\n",
       "    </tr>\n",
       "    <tr>\n",
       "      <th>4</th>\n",
       "      <td>9</td>\n",
       "      <td>0</td>\n",
       "    </tr>\n",
       "    <tr>\n",
       "      <th>...</th>\n",
       "      <td>...</td>\n",
       "      <td>...</td>\n",
       "    </tr>\n",
       "    <tr>\n",
       "      <th>75813</th>\n",
       "      <td>151831</td>\n",
       "      <td>0</td>\n",
       "    </tr>\n",
       "    <tr>\n",
       "      <th>75814</th>\n",
       "      <td>151832</td>\n",
       "      <td>0</td>\n",
       "    </tr>\n",
       "    <tr>\n",
       "      <th>75815</th>\n",
       "      <td>151833</td>\n",
       "      <td>0</td>\n",
       "    </tr>\n",
       "    <tr>\n",
       "      <th>75816</th>\n",
       "      <td>151834</td>\n",
       "      <td>0</td>\n",
       "    </tr>\n",
       "    <tr>\n",
       "      <th>75817</th>\n",
       "      <td>151837</td>\n",
       "      <td>0</td>\n",
       "    </tr>\n",
       "  </tbody>\n",
       "</table>\n",
       "<p>75818 rows × 2 columns</p>\n",
       "</div>"
      ],
      "text/plain": [
       "           ID  TARGET\n",
       "0           2       0\n",
       "1           5       0\n",
       "2           6       1\n",
       "3           7       0\n",
       "4           9       0\n",
       "...       ...     ...\n",
       "75813  151831       0\n",
       "75814  151832       0\n",
       "75815  151833       0\n",
       "75816  151834       0\n",
       "75817  151837       0\n",
       "\n",
       "[75818 rows x 2 columns]"
      ]
     },
     "execution_count": 113,
     "metadata": {},
     "output_type": "execute_result"
    }
   ],
   "source": [
    "resposta"
   ]
  },
  {
   "cell_type": "code",
   "execution_count": null,
   "id": "00a25cb9",
   "metadata": {
    "papermill": {
     "duration": 0.034493,
     "end_time": "2023-10-15T16:53:45.863401",
     "exception": false,
     "start_time": "2023-10-15T16:53:45.828908",
     "status": "completed"
    },
    "tags": []
   },
   "outputs": [],
   "source": []
  }
 ],
 "metadata": {
  "kernelspec": {
   "display_name": "Python 3",
   "language": "python",
   "name": "python3"
  },
  "language_info": {
   "codemirror_mode": {
    "name": "ipython",
    "version": 3
   },
   "file_extension": ".py",
   "mimetype": "text/x-python",
   "name": "python",
   "nbconvert_exporter": "python",
   "pygments_lexer": "ipython3",
   "version": "3.10.12"
  },
  "papermill": {
   "default_parameters": {},
   "duration": 3720.919548,
   "end_time": "2023-10-15T16:53:48.629270",
   "environment_variables": {},
   "exception": null,
   "input_path": "__notebook__.ipynb",
   "output_path": "__notebook__.ipynb",
   "parameters": {},
   "start_time": "2023-10-15T15:51:47.709722",
   "version": "2.4.0"
  }
 },
 "nbformat": 4,
 "nbformat_minor": 5
}
